{
  "nbformat": 4,
  "nbformat_minor": 0,
  "metadata": {
    "colab": {
      "name": "Projeto (4SEM) - Segmentação de clientes.ipynb",
      "provenance": [],
      "collapsed_sections": [
        "ZrCnK9xzde-r",
        "gSrZtZ_XeDoc"
      ]
    },
    "kernelspec": {
      "name": "python3",
      "display_name": "Python 3"
    },
    "language_info": {
      "name": "python"
    }
  },
  "cells": [
    {
      "cell_type": "markdown",
      "metadata": {
        "id": "apckWwF14AHS"
      },
      "source": [
        "# Segmentação de clientes\n",
        "\n",
        "**Desenvolvedores** <br>\n",
        "Fabio Gustavo Gomes Vaz | RA: 00282997 <br>\n",
        "Felipe Fernandes Rojas | RA: 00282999 <p>\n",
        "\n",
        "**Professor orientador** <br>\n",
        "Rooney Ribeiro Albuquerque Coelho <p>\n",
        "\n",
        "**Projeto final da disciplina de Mineração de Dados do curso de Ciência de Dados e Inteligência Artificial pela PUC-SP.**"
      ]
    },
    {
      "cell_type": "markdown",
      "metadata": {
        "id": "ZrCnK9xzde-r"
      },
      "source": [
        "## Objetivo"
      ]
    },
    {
      "cell_type": "markdown",
      "metadata": {
        "id": "y3slYsexdieL"
      },
      "source": [
        "O intuito deste projeto é aplicar a segmentação de clientes a esse conjunto de dados históricos. Esta prática consiste em particionar uma base de clientes em grupos de indivíduos com características semelhantes. É uma estratégia significativa, pois uma organização pode ter esses grupos específicos como alvo de clientes e alocar recursos de marketing de forma eficaz. Por exemplo, um grupo pode conter clientes de alto lucro e baixo risco, ou seja, mais propensos a comprar produtos ou assinar um serviço. Uma tarefa empresarial é reter esses clientes."
      ]
    },
    {
      "cell_type": "markdown",
      "metadata": {
        "id": "gSrZtZ_XeDoc"
      },
      "source": [
        "## Metodologia"
      ]
    },
    {
      "cell_type": "markdown",
      "metadata": {
        "id": "r1WcXttHeFnz"
      },
      "source": [
        "A partir do tratamento, da manipulação e da análise de dados com as bibliotecas *pandas* e *matplotlib*, serão desenvolvidos gráficos para extrairmos informações relevantes dos indivíduos contidos neste conjunto. Após, usaremos uma técnica de aprendizado de máquina não supervisionado (*k-means*) para que os indivíduos sejam agrupados conforme seus atributos sejam similares e haja a menor diferença possível entre eles, ao mesmo passo que a quantidade de grupos não seja excessiva e viabilize a criação de boas estratégias de marketing personalizadas."
      ]
    },
    {
      "cell_type": "markdown",
      "metadata": {
        "id": "iyxVIDpEdEPk"
      },
      "source": [
        "## Processo de automatização"
      ]
    },
    {
      "cell_type": "markdown",
      "metadata": {
        "id": "Bt8cOZA1fQsk"
      },
      "source": [
        "Seção onde os métodos são declarados, nomeados, explicados e armazenados."
      ]
    },
    {
      "cell_type": "code",
      "metadata": {
        "id": "kOHlXpJ_dG0q"
      },
      "source": [
        "import pandas as pd # para visualização, manipulação e análise de dados\n",
        "\n",
        "def criar_dataframe(endereco, delimitador):\n",
        "  \"\"\" Função que lê arquivo em .csv com a biblioteca pandas e o armazena na variável desejável.\n",
        "\n",
        "      endereço: inserir string do local em que o arquivo está armazenado;\n",
        "      delimitador: inserir string do delimitador deste arquivo .csv;\n",
        "  \"\"\"\n",
        "  return pd.read_csv(endereco, delimiter=delimitador)"
      ],
      "execution_count": null,
      "outputs": []
    },
    {
      "cell_type": "code",
      "metadata": {
        "id": "EdpKs3anjyNU"
      },
      "source": [
        "import matplotlib.pyplot as plt # para criação de gráficos\n",
        "\n",
        "def histogramar(dataframe, atributo, tamanho, eixo=None, titulo=None, cor=None):\n",
        "  \"\"\" Função que desenvolve um gráfico de histograma com base na frequência de valores de um atributo específico em um dataframe.\n",
        "\n",
        "      dataframe: inserir variável contendo o nome do DataFrame;\n",
        "      atributo: inserir string com o nome da coluna do DataFrame a ter a frequência de valores contada;\n",
        "      tamanho: inserir tupla referente ao tamanho desejado do gráfico;\n",
        "      estilo (opcional): inserir string contendo o estilo desejado para o gráfico. Por padrão, 'ggplot';\n",
        "      eixo (opcional): inserir string com o nome do eixo desejado no gráfico; \n",
        "      título (opcional): inserir string com o nome do título desejado do gráfico;\n",
        "      cor (opcional): inserir string com o nome da cor desejada no gráfico.\n",
        "  \"\"\"\n",
        "  # Estilo\n",
        "  plt.style.use('ggplot')\n",
        "  # Tamanho\n",
        "  plt.figure(figsize = tamanho)\n",
        "  # Título\n",
        "  plt.title(titulo)\n",
        "\n",
        "  # Plotagem do gráfico conforme o atributo desejado\n",
        "  plt.hist(dataframe[atributo], ec='k', alpha=.8, color=cor, align='mid')\n",
        "  # Nomeação do eixo\n",
        "  plt.xlabel(eixo)\n",
        "\n",
        "  # Mostrar o gráfico\n",
        "  plt.show()"
      ],
      "execution_count": null,
      "outputs": []
    },
    {
      "cell_type": "code",
      "metadata": {
        "id": "XU2zUpqg2cGj"
      },
      "source": [
        "def soma_quadratica_erro(dataframe, grupos, conjunto_padronizado, tamanho, estilo='ggplot', inicio_busca=1, fim_busca=10):\n",
        "  \"\"\" Função que gera um gráfico da soma quadrática do erro, ou seja, a perda de similaridade entre os indivíduos \n",
        "  conforme a quantidade de grupos de clusterização escolhida para o conjunto de dados.\n",
        "\n",
        "      dataframe: inserir variável contendo o nome do dataframe;\n",
        "      grupos: inserir string contendo o nome da coluna a qual pertence o grupo das instâncias;\n",
        "      conjunto_padronizado: inserir variável contendo o conjunto de dados padronizados;\n",
        "      tamanho: inserir tupla com o tamanho desejado para o gráfico;\n",
        "      estilo (opcional): inserir string contendo o estilo desejado para o gráfico. Por padrão, 'ggplot';\n",
        "      inicio_busca (opcional): inserir número inteiro com o início da busca do algoritmo. Por padrão, 1;\n",
        "      fim_busca (opcional): inserir número inteiro com o fim da busca do algoritmo. Por padrão, 10.\n",
        "  \"\"\"\n",
        "\n",
        "  # Dicionário para armazenamento da soma quadrática do erro\n",
        "  sse = {}\n",
        "\n",
        "  # Estrutura de repetição, para que o algoritmo calcule o erro para cada quantidade de grupos desejada\n",
        "  for k in range(inicio_busca, fim_busca+1):\n",
        "      kmeans = KMeans(n_clusters=k, max_iter=1000).fit(conjunto_padronizado)\n",
        "      dataframe[grupos] = kmeans.labels_\n",
        "      sse[k] = kmeans.inertia_\n",
        "\n",
        "  # Estilo do gráfico\n",
        "  plt.style.use(estilo)\n",
        "  # Tamanho do gráfico\n",
        "  plt.figure(figsize = tamanho)\n",
        "\n",
        "  # Criação do gráfico com as chaves e os valores do dicionário da soma quadrática do erro\n",
        "  plt.plot(list(sse.keys()), list(sse.values()))\n",
        "\n",
        "  # Eixos e título\n",
        "  plt.xlabel('Quantidade de grupos')\n",
        "  plt.ylabel('Perda de similaridade')\n",
        "  plt.title('Soma quadrática do erro')\n",
        "\n",
        "  # Mostrar o gráfico\n",
        "  plt.show()"
      ],
      "execution_count": null,
      "outputs": []
    },
    {
      "cell_type": "code",
      "metadata": {
        "id": "xWKbeLh1DSEK"
      },
      "source": [
        "def barras(dataframe, atributo, titulo, eixo, tamanho, cor=None):\n",
        "  \"\"\" Função que desenvolve um gráfico de barras de um atributo para análise do agrupamento.\n",
        "      dataframe: inserir variável contendo o nome do DataFrame;\n",
        "      atributo: inserir string com o nome da coluna do DataFrame a ter a frequência de valores contada;\n",
        "      titulo: inserir string contendo o título do gráfico;\n",
        "      eixo: inserir string contendo o nome do eixo desejado;\n",
        "      tamanho: inserir tupla contendo o tamanho do gráfico desejado;\n",
        "      cor (opcional): inserir string contendo a cor desejada das barras do gráfico.\n",
        "  \"\"\"\n",
        "  # Estilo\n",
        "  plt.style.use('ggplot')\n",
        "  # Tamanho\n",
        "  plt.figure(figsize = tamanho)\n",
        "  # Título\n",
        "  plt.title(titulo)\n",
        "\n",
        "  # Criação do gráfico de barras com a indexação do dataframe sendo a identificação do grupo e o atributo desejado sendo a medida da barra\n",
        "  plt.bar(dataframe.index, dataframe[atributo], color=cor, alpha=.8)\n",
        "\n",
        "  # Denominação dos eixos\n",
        "  plt.xlabel('Grupo')\n",
        "  plt.ylabel(eixo)\n",
        "  plt.xticks(dataframe.index)\n",
        "\n",
        "  # Mostrar o gráfico\n",
        "  plt.show()"
      ],
      "execution_count": null,
      "outputs": []
    },
    {
      "cell_type": "markdown",
      "metadata": {
        "id": "36W3joh3dJeL"
      },
      "source": [
        "## Código"
      ]
    },
    {
      "cell_type": "markdown",
      "metadata": {
        "id": "PLAjc5M2k7o0"
      },
      "source": [
        "Seção destinada a demonstração dos códigos de programação e seus resultados."
      ]
    },
    {
      "cell_type": "markdown",
      "metadata": {
        "id": "-O2An-CLlCZK"
      },
      "source": [
        "### Leitura e tratamento do conjunto de dados"
      ]
    },
    {
      "cell_type": "code",
      "metadata": {
        "id": "5E6OBzfStgAn"
      },
      "source": [
        "# Uso da função 'criar_dataframe' para a leitura do conjunto de dados\n",
        "\n",
        "dados = '/content/dados.csv'\n",
        "df = criar_dataframe(dados, ',')"
      ],
      "execution_count": null,
      "outputs": []
    },
    {
      "cell_type": "code",
      "metadata": {
        "colab": {
          "base_uri": "https://localhost:8080/"
        },
        "id": "hdwekZtjwhRx",
        "outputId": "c110b96c-113b-4ee2-e3d1-add3a8d99039"
      },
      "source": [
        "# Uso do método 'info' para extrairmos informações para o tratamento do conjunto de dados\n",
        "\n",
        "df.info()"
      ],
      "execution_count": null,
      "outputs": [
        {
          "output_type": "stream",
          "name": "stdout",
          "text": [
            "<class 'pandas.core.frame.DataFrame'>\n",
            "RangeIndex: 850 entries, 0 to 849\n",
            "Data columns (total 10 columns):\n",
            " #   Column              Non-Null Count  Dtype  \n",
            "---  ------              --------------  -----  \n",
            " 0   Unnamed: 0          850 non-null    int64  \n",
            " 1   ID do cliente       850 non-null    int64  \n",
            " 2   Idade               850 non-null    int64  \n",
            " 3   Educação            850 non-null    int64  \n",
            " 4   Anos de emprego     850 non-null    int64  \n",
            " 5   Renda               850 non-null    int64  \n",
            " 6   Dívida do cartão    850 non-null    float64\n",
            " 7   Outras dívidas      850 non-null    float64\n",
            " 8   Inadimplente        700 non-null    float64\n",
            " 9   Razão débito-renda  850 non-null    float64\n",
            "dtypes: float64(4), int64(6)\n",
            "memory usage: 66.5 KB\n"
          ]
        }
      ]
    },
    {
      "cell_type": "code",
      "metadata": {
        "id": "Xn5ZiQVO2wuu"
      },
      "source": [
        "# Conforme análise, optou-se por remover as instâncias em que os atributos não estão completos, por meio do método 'dropna'\n",
        "\n",
        "df = df.dropna()"
      ],
      "execution_count": null,
      "outputs": []
    },
    {
      "cell_type": "markdown",
      "metadata": {
        "id": "kCnUtoBulIgi"
      },
      "source": [
        "### Demonstração gráfica"
      ]
    },
    {
      "cell_type": "markdown",
      "metadata": {
        "id": "ETSog6zqw1b1"
      },
      "source": [
        "A partir do histograma abaixo, observa-se que a gama de clientes tem de 20 a 56 anos, sendo a maior parte indivíduos de 30 a 40 anos de idade."
      ]
    },
    {
      "cell_type": "code",
      "metadata": {
        "colab": {
          "base_uri": "https://localhost:8080/",
          "height": 371
        },
        "id": "vFA0mt5n2Ai_",
        "outputId": "b2ff31a2-3aa2-4fbc-e306-f10b2c0bb1b7"
      },
      "source": [
        "# Desenvolvimento de um histograma das idades dos indivíduos com o uso da função 'histogramar'\n",
        "\n",
        "tamanho = (8,5)\n",
        "eixo = 'Idade'\n",
        "titulo = 'Frequência das idades'\n",
        "\n",
        "histogramar(df, 'Idade', tamanho, eixo, titulo)"
      ],
      "execution_count": null,
      "outputs": [
        {
          "output_type": "display_data",
          "data": {
            "image/png": "[encoded data removed]",
            "text/plain": [
              "<Figure size 576x360 with 1 Axes>"
            ]
          },
          "metadata": {}
        }
      ]
    },
    {
      "cell_type": "markdown",
      "metadata": {
        "id": "yY-aCdPClUIt"
      },
      "source": [
        "### Análise da adimplência"
      ]
    },
    {
      "cell_type": "code",
      "metadata": {
        "colab": {
          "base_uri": "https://localhost:8080/"
        },
        "id": "AWAkLOxCwnc7",
        "outputId": "3a5df16a-48be-4195-ecbc-8345a2b4ed34"
      },
      "source": [
        "# Valores presentes na coluna 'Inadimplente'\n",
        "\n",
        "df['Inadimplente'].unique()"
      ],
      "execution_count": null,
      "outputs": [
        {
          "output_type": "execute_result",
          "data": {
            "text/plain": [
              "array([0., 1.])"
            ]
          },
          "metadata": {},
          "execution_count": 9
        }
      ]
    },
    {
      "cell_type": "code",
      "metadata": {
        "id": "C-CVQ0ttzgG5"
      },
      "source": [
        "# Contagem de indivíduos adimplentes e inadimplentes\n",
        "\n",
        "In = len(df.query('Inadimplente == 0'))\n",
        "Ad = len(df.query('Inadimplente == 1'))"
      ],
      "execution_count": null,
      "outputs": []
    },
    {
      "cell_type": "code",
      "metadata": {
        "colab": {
          "base_uri": "https://localhost:8080/"
        },
        "id": "KbCoTNsOuXKV",
        "outputId": "29f643e7-e930-438b-a83e-47cfd61c8e47"
      },
      "source": [
        "# Estrutura de arredondamento percentual para a visualização da proporção de adimplência e inadimplência entre os indivíduos\n",
        "\n",
        "print(f'Adimplente:   {round(In/(Ad+In)*100,2)} %\\nInadimplente: {round(Ad/(Ad+In)*100,2)} %')"
      ],
      "execution_count": null,
      "outputs": [
        {
          "output_type": "stream",
          "name": "stdout",
          "text": [
            "Adimplente:   73.86 %\n",
            "Inadimplente: 26.14 %\n"
          ]
        }
      ]
    },
    {
      "cell_type": "markdown",
      "metadata": {
        "id": "3WWKqvoOmFGK"
      },
      "source": [
        "### Modelo de agrupamento"
      ]
    },
    {
      "cell_type": "code",
      "metadata": {
        "id": "jF8v0lDi1qF0"
      },
      "source": [
        "from sklearn.preprocessing import StandardScaler # para padronizar uma escala em um conjunto de dados\n",
        "\n",
        "# Definição da variável 'X' para remover colunas indesejadas na modelagem de dados (clusterização)\n",
        "X = df.drop(['Unnamed: 0','ID do cliente'],axis=1)\n",
        "\n",
        "# Padronizador e criação da variável 'X_std' para armazenar os dados padronizados\n",
        "padronizador = StandardScaler()\n",
        "X_std = padronizador.fit_transform(X)"
      ],
      "execution_count": null,
      "outputs": []
    },
    {
      "cell_type": "code",
      "metadata": {
        "colab": {
          "base_uri": "https://localhost:8080/"
        },
        "id": "d8hZsmSt21-G",
        "outputId": "19b9063d-a869-4a98-f303-0580deefccbf"
      },
      "source": [
        "from sklearn.cluster import KMeans # para criar um modelo de clusterização\n",
        "\n",
        "# Criação do modelo, com a divisão em quatro grupos o mais similares possível\n",
        "modelo = KMeans(n_clusters=4, n_init=50)\n",
        "modelo.fit(X_std)"
      ],
      "execution_count": null,
      "outputs": [
        {
          "output_type": "execute_result",
          "data": {
            "text/plain": [
              "KMeans(n_clusters=4, n_init=50)"
            ]
          },
          "metadata": {},
          "execution_count": 78
        }
      ]
    },
    {
      "cell_type": "code",
      "metadata": {
        "id": "MrLkRW1U3QXU"
      },
      "source": [
        "# Utilização do método 'predict' para que o modelo prediga o grupo de cada indivíduo, com um array armazenado na variável 'agrupamento'\n",
        "\n",
        "agrupamento = modelo.predict(X_std)"
      ],
      "execution_count": null,
      "outputs": []
    },
    {
      "cell_type": "code",
      "metadata": {
        "id": "7LlGQ2Qr3TP6"
      },
      "source": [
        "# Criação de uma coluna chamada 'Grupo' dentro do conjunto de dados inicial, com base nas predições do modelo\n",
        "\n",
        "df['Grupo'] = agrupamento"
      ],
      "execution_count": null,
      "outputs": []
    },
    {
      "cell_type": "markdown",
      "metadata": {
        "id": "MxmpYITP8HSu"
      },
      "source": [
        "#### Avaliação do modelo"
      ]
    },
    {
      "cell_type": "markdown",
      "metadata": {
        "id": "5qUYriaL7sPI"
      },
      "source": [
        "Conforme o método Elbow, que consiste em uma das formas usadas para descobrir a quantidade ideal de grupos para o conjunto de dados: quando a diferença entre a distância é quase insignificante temos o valor ótimo de k. Nota-se que na visualização abaixo esse valor seria igual a 4."
      ]
    },
    {
      "cell_type": "code",
      "metadata": {
        "colab": {
          "base_uri": "https://localhost:8080/",
          "height": 326
        },
        "id": "n8YnScw531pn",
        "outputId": "ce0098a8-9c0e-456a-e572-ec09ae5369b1"
      },
      "source": [
        "# Gráfico para a avaliação do modelo, com a semelhança entre os indivíduos de cada grupo em função da quantidade de grupos\n",
        "\n",
        "tamanho = (6,4)\n",
        "\n",
        "soma_quadratica_erro(df, 'Grupo', X_std, tamanho, estilo='fivethirtyeight')"
      ],
      "execution_count": null,
      "outputs": [
        {
          "output_type": "display_data",
          "data": {
            "image/png": "[encoded data removed]",
            "text/plain": [
              "<Figure size 432x288 with 1 Axes>"
            ]
          },
          "metadata": {}
        }
      ]
    },
    {
      "cell_type": "markdown",
      "metadata": {
        "id": "G8TRcj8v6Hv_"
      },
      "source": [
        "#### Análise dos grupos preditos"
      ]
    },
    {
      "cell_type": "code",
      "metadata": {
        "colab": {
          "base_uri": "https://localhost:8080/",
          "height": 206
        },
        "id": "whFR-CnS3VFn",
        "outputId": "356d3d98-7d17-499d-ef99-6f0b347d2535"
      },
      "source": [
        "# Conjunto de dados para descrever as características de cada grupo definido pelo modelo, com os métodos 'groupby' e 'mean'\n",
        "\n",
        "df_descritivo = df.drop(columns=['Unnamed: 0'\t,'ID do cliente']).groupby('Grupo').mean()\n",
        "df_descritivo"
      ],
      "execution_count": null,
      "outputs": [
        {
          "output_type": "execute_result",
          "data": {
            "text/html": [
              "<div>\n",
              "<style scoped>\n",
              "    .dataframe tbody tr th:only-of-type {\n",
              "        vertical-align: middle;\n",
              "    }\n",
              "\n",
              "    .dataframe tbody tr th {\n",
              "        vertical-align: top;\n",
              "    }\n",
              "\n",
              "    .dataframe thead th {\n",
              "        text-align: right;\n",
              "    }\n",
              "</style>\n",
              "<table border=\"1\" class=\"dataframe\">\n",
              "  <thead>\n",
              "    <tr style=\"text-align: right;\">\n",
              "      <th></th>\n",
              "      <th>Idade</th>\n",
              "      <th>Educação</th>\n",
              "      <th>Anos de emprego</th>\n",
              "      <th>Renda</th>\n",
              "      <th>Dívida do cartão</th>\n",
              "      <th>Outras dívidas</th>\n",
              "      <th>Inadimplente</th>\n",
              "      <th>Razão débito-renda</th>\n",
              "    </tr>\n",
              "    <tr>\n",
              "      <th>Grupo</th>\n",
              "      <th></th>\n",
              "      <th></th>\n",
              "      <th></th>\n",
              "      <th></th>\n",
              "      <th></th>\n",
              "      <th></th>\n",
              "      <th></th>\n",
              "      <th></th>\n",
              "    </tr>\n",
              "  </thead>\n",
              "  <tbody>\n",
              "    <tr>\n",
              "      <th>0</th>\n",
              "      <td>39.975610</td>\n",
              "      <td>1.252033</td>\n",
              "      <td>7.918699</td>\n",
              "      <td>37.430894</td>\n",
              "      <td>1.217927</td>\n",
              "      <td>2.495081</td>\n",
              "      <td>0.016260</td>\n",
              "      <td>9.906504</td>\n",
              "    </tr>\n",
              "    <tr>\n",
              "      <th>1</th>\n",
              "      <td>42.606383</td>\n",
              "      <td>2.085106</td>\n",
              "      <td>16.840426</td>\n",
              "      <td>103.478723</td>\n",
              "      <td>4.828883</td>\n",
              "      <td>9.160117</td>\n",
              "      <td>0.265957</td>\n",
              "      <td>15.993617</td>\n",
              "    </tr>\n",
              "    <tr>\n",
              "      <th>2</th>\n",
              "      <td>31.295597</td>\n",
              "      <td>1.861635</td>\n",
              "      <td>3.773585</td>\n",
              "      <td>30.257862</td>\n",
              "      <td>1.484371</td>\n",
              "      <td>2.688943</td>\n",
              "      <td>0.974843</td>\n",
              "      <td>13.970440</td>\n",
              "    </tr>\n",
              "    <tr>\n",
              "      <th>3</th>\n",
              "      <td>32.419753</td>\n",
              "      <td>1.728395</td>\n",
              "      <td>8.379630</td>\n",
              "      <td>39.441358</td>\n",
              "      <td>0.764694</td>\n",
              "      <td>1.682867</td>\n",
              "      <td>0.003086</td>\n",
              "      <td>6.911111</td>\n",
              "    </tr>\n",
              "  </tbody>\n",
              "</table>\n",
              "</div>"
            ],
            "text/plain": [
              "           Idade  Educação  ...  Inadimplente  Razão débito-renda\n",
              "Grupo                       ...                                  \n",
              "0      39.975610  1.252033  ...      0.016260            9.906504\n",
              "1      42.606383  2.085106  ...      0.265957           15.993617\n",
              "2      31.295597  1.861635  ...      0.974843           13.970440\n",
              "3      32.419753  1.728395  ...      0.003086            6.911111\n",
              "\n",
              "[4 rows x 8 columns]"
            ]
          },
          "metadata": {},
          "execution_count": 51
        }
      ]
    },
    {
      "cell_type": "markdown",
      "metadata": {
        "id": "cSwSvd65D-HW"
      },
      "source": [
        "#### Demonstração gráfica"
      ]
    },
    {
      "cell_type": "code",
      "metadata": {
        "colab": {
          "base_uri": "https://localhost:8080/",
          "height": 312
        },
        "id": "UmyRWepMp0eC",
        "outputId": "ed1d3850-75f3-4764-8b1a-b8df1f9129bc"
      },
      "source": [
        "titulo = 'Média de nível de educação por grupo'\n",
        "eixo = 'Educação'\n",
        "tamanho = (5,4)\n",
        "cor = 'mediumseagreen'\n",
        "\n",
        "barras(df_descritivo, 'Educação', titulo, eixo, tamanho, cor)"
      ],
      "execution_count": null,
      "outputs": [
        {
          "output_type": "display_data",
          "data": {
            "image/png": "[encoded data removed]",
            "text/plain": [
              "<Figure size 360x288 with 1 Axes>"
            ]
          },
          "metadata": {}
        }
      ]
    },
    {
      "cell_type": "code",
      "metadata": {
        "colab": {
          "base_uri": "https://localhost:8080/",
          "height": 312
        },
        "id": "R9djQI828ZlW",
        "outputId": "acff5cce-3013-4cdc-aebb-959e9dc16f7b"
      },
      "source": [
        "titulo = 'Média de tempo de emprego por grupo'\n",
        "eixo = 'Anos'\n",
        "tamanho = (5,4)\n",
        "cor = 'teal'\n",
        "\n",
        "barras(df_descritivo, 'Anos de emprego', titulo, eixo, tamanho, cor)"
      ],
      "execution_count": null,
      "outputs": [
        {
          "output_type": "display_data",
          "data": {
            "image/png": "[encoded data removed]",
            "text/plain": [
              "<Figure size 360x288 with 1 Axes>"
            ]
          },
          "metadata": {}
        }
      ]
    },
    {
      "cell_type": "code",
      "metadata": {
        "colab": {
          "base_uri": "https://localhost:8080/",
          "height": 312
        },
        "id": "fe8m_0GE9v7f",
        "outputId": "ed8c402a-4fd9-49a2-9fa9-03610a3befd7"
      },
      "source": [
        "titulo = 'Renda média por grupo'\n",
        "eixo = 'Renda'\n",
        "tamanho = (5,4)\n",
        "cor = 'mediumpurple'\n",
        "\n",
        "barras(df_descritivo, 'Renda', titulo, eixo, tamanho, cor)"
      ],
      "execution_count": null,
      "outputs": [
        {
          "output_type": "display_data",
          "data": {
            "image/png": "[encoded data removed]",
            "text/plain": [
              "<Figure size 360x288 with 1 Axes>"
            ]
          },
          "metadata": {}
        }
      ]
    },
    {
      "cell_type": "code",
      "metadata": {
        "colab": {
          "base_uri": "https://localhost:8080/",
          "height": 312
        },
        "id": "oh1mIVay92Zf",
        "outputId": "c0702dcb-860e-4820-ea93-049080c50fc3"
      },
      "source": [
        "titulo = 'Dívida média do cartão por grupo'\n",
        "eixo = 'Divída'\n",
        "tamanho = (5,4)\n",
        "cor = 'orangered'\n",
        "\n",
        "barras(df_descritivo, 'Dívida do cartão', titulo, eixo, tamanho, cor)"
      ],
      "execution_count": null,
      "outputs": [
        {
          "output_type": "display_data",
          "data": {
            "image/png": "[encoded data removed]",
            "text/plain": [
              "<Figure size 360x288 with 1 Axes>"
            ]
          },
          "metadata": {}
        }
      ]
    },
    {
      "cell_type": "code",
      "metadata": {
        "colab": {
          "base_uri": "https://localhost:8080/",
          "height": 371
        },
        "id": "sMZ5UESJ-p4L",
        "outputId": "07562823-ba4b-4e68-c4f7-f105866f686a"
      },
      "source": [
        "titulo = 'Inadimplência por grupo'\n",
        "eixo = '% de inadimplentes'\n",
        "tamanho = (4,5)\n",
        "cor = 'skyblue'\n",
        "\n",
        "barras(df_descritivo, 'Inadimplente', titulo, eixo, tamanho, cor)"
      ],
      "execution_count": null,
      "outputs": [
        {
          "output_type": "display_data",
          "data": {
            "image/png": "[encoded data removed]",
            "text/plain": [
              "<Figure size 288x360 with 1 Axes>"
            ]
          },
          "metadata": {}
        }
      ]
    },
    {
      "cell_type": "code",
      "metadata": {
        "colab": {
          "base_uri": "https://localhost:8080/",
          "height": 371
        },
        "id": "c1NGJZsi--PB",
        "outputId": "ee563b88-4135-4c8b-889f-c781d5cfb3ad"
      },
      "source": [
        "titulo = 'Média da razão débito-renda por grupo'\n",
        "eixo = 'Razão'\n",
        "tamanho = (4,5)\n",
        "cor = 'pink'\n",
        "\n",
        "barras(df_descritivo, 'Razão débito-renda', titulo, eixo, tamanho, cor)"
      ],
      "execution_count": null,
      "outputs": [
        {
          "output_type": "display_data",
          "data": {
            "image/png": "[encoded data removed]",
            "text/plain": [
              "<Figure size 288x360 with 1 Axes>"
            ]
          },
          "metadata": {}
        }
      ]
    },
    {
      "cell_type": "markdown",
      "metadata": {
        "id": "2VFoU3mUEKUA"
      },
      "source": [
        "## Conclusão"
      ]
    },
    {
      "cell_type": "markdown",
      "metadata": {
        "id": "YP5PV2ohEMyX"
      },
      "source": [
        "O algoritmo de aprendizagem de máquina não supervisionada foi excelente para definição de grupos que segmentam os clientes da base de dados escolhida. <p>\n",
        "Formaram-se quatro grupos: <br>\n",
        "**Grupo 0**: é um grupo com o menor nível de educação, com empregos consolidados, renda na média, divída do cartão na média e inadimplência quase nula; <br>\n",
        "**Grupo 1**: é um grupo mais velho, com o maior nível de educação, com empregos super consolidados, as maiores rendas, as maiores dívidas no cartão, a maior razão débito-renda, mas ainda há alguma inadimplência; <br>\n",
        "**Grupo 2**: é um grupo mais novo, com o segundo maior nível de educação, ainda sem emprego consolidado, com a menor renda e em grande maioria inadimplente; <br>\n",
        "**Grupo 3**: é um grupo novo, com educação na média, com empregos consolidados, boa renda, menores dívidas no cartão, praticamente nenhuma inadimplência e a menor razão débito-renda."
      ]
    }
  ]
}