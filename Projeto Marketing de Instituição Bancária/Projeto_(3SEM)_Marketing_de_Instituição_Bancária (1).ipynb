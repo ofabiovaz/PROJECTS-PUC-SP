{
  "nbformat": 4,
  "nbformat_minor": 0,
  "metadata": {
    "colab": {
      "name": "Projeto (3SEM) - Marketing de Instituição Bancária.ipynb",
      "provenance": [],
      "collapsed_sections": [
        "WaG4v0aRr6Yr",
        "TdjY6a0c-gQH",
        "u9u-aaCksiNi",
        "pbD0sk1q4DNw",
        "QeRACyDlTq0f",
        "FbMaJzPSlVoM",
        "HCYzD6itnXn1",
        "85nWJHFrV_2y"
      ]
    },
    "kernelspec": {
      "display_name": "Python 3",
      "name": "python3"
    },
    "language_info": {
      "name": "python"
    }
  },
  "cells": [
    {
      "cell_type": "markdown",
      "metadata": {
        "id": "Poys6KMmiU2c"
      },
      "source": [
        "# Marketing de Instituição Bancária\n",
        "\n",
        "Nome: Fabio Gustavo Gomes Vaz<br/>\n",
        "RA: 00282997<p>\n",
        "Nome: Felipe Fernandes Rojas<br/>\n",
        "RA: 00282999<p>\n",
        "**Projeto Final das disciplinas Projeto Integrado & Base de Dados, do curso de Ciência de Dados e Inteligência Artificial da PUC-SP**"
      ]
    },
    {
      "cell_type": "markdown",
      "metadata": {
        "id": "WaG4v0aRr6Yr"
      },
      "source": [
        "## Questão de projeto\n",
        "Como otimizar as ligações da equipe de telemarketing de uma Instituição Bancária, reduzindo o tempo gasto e aumentando as adesões?"
      ]
    },
    {
      "cell_type": "markdown",
      "metadata": {
        "id": "vRXA2MV-qiBZ"
      },
      "source": [
        "### Controle da questão de projeto"
      ]
    },
    {
      "cell_type": "code",
      "metadata": {
        "id": "_F8aA5jRqnnf",
        "colab": {
          "base_uri": "https://localhost:8080/"
        },
        "outputId": "5c2929ac-056f-4b18-ce72-fc36fe0451df"
      },
      "source": [
        "# Medição da eficácia do telemarketing com um índice, que seria a soma das durações dividida pela quantidade de adesões\n",
        "\n",
        "indice(df)"
      ],
      "execution_count": null,
      "outputs": [
        {
          "output_type": "stream",
          "text": [
            "2206.81 segundos/adesão \n",
            "36.78 minutos/adesão\n"
          ],
          "name": "stdout"
        }
      ]
    },
    {
      "cell_type": "markdown",
      "metadata": {
        "id": "hLjV6zJ6_mn8"
      },
      "source": [
        "## Sobre o dataset"
      ]
    },
    {
      "cell_type": "markdown",
      "metadata": {
        "id": "eCcXs60U_rHD"
      },
      "source": [
        "### Atributos do cliente\n",
        "1 - idade (numérica) <br>\n",
        "2 - ocupação: tipo de trabalho (categórica) <br>\n",
        "3 - estado civil: conjugal (categórica) <br>\n",
        "4 - educação: nível escolar (categórica) <br>\n",
        "5 - inadimplente: tem crédito inadimplente? (binário: \"sim\", \"não\") <br>\n",
        "6 - saldo: saldo médio anual, em euros (numérico) <br>\n",
        "7 - aluguel: mora de aluguel? (binário: \"sim\", \"não\") <br>\n",
        "8 - empréstimo: tem empréstimo pessoal? (binário: \"sim\", \"não\") <br>"
      ]
    },
    {
      "cell_type": "markdown",
      "metadata": {
        "id": "0feqSucMAebS"
      },
      "source": [
        "### Atributos do último contato da campanha atual\n",
        "9 - contato: tipo de comunicação do contato (categórico) <br>\n",
        "10 - dia do mês: último dia de contato do mês (numérico) <br>\n",
        "11 - mês: último mês de contato do ano (categórico) <br>\n",
        "12 - duração: duração do último contato, em segundos (numérico) <br>"
      ]
    },
    {
      "cell_type": "markdown",
      "metadata": {
        "id": "ufpzc_oQAvTP"
      },
      "source": [
        "### Outros atributos\n",
        "13 - campanha: quantidade de contatos realizados durante esta campanha e para este cliente (numérico, inclui último contato) <br>\n",
        "14 - pdias: número de dias que passaram após o último contato do cliente de uma campanha anterior (numérico, -1 significa que o cliente não foi contatado anteriormente) <br>\n",
        "15 - anterior: número de contatos realizados antes desta campanha e para este cliente (numérico) <br>\n",
        "16 - resultado anterior: resultado da campanha de marketing anterior (categórica) <p>\n",
        "\n",
        "Variável de saída (alvo desejado): <br>\n",
        "17 - y - o cliente subscreveu um depósito a prazo? (binário: \"sim\", \"não\")"
      ]
    },
    {
      "cell_type": "markdown",
      "metadata": {
        "id": "pTy_L0xGbTe7"
      },
      "source": [
        "## Código"
      ]
    },
    {
      "cell_type": "markdown",
      "metadata": {
        "id": "q4nfQTgUaMde"
      },
      "source": [
        "### Bibliotecas"
      ]
    },
    {
      "cell_type": "code",
      "metadata": {
        "id": "MMq5nW_lxrxv"
      },
      "source": [
        "import warnings # para desativar mensagens de advertência\n",
        "warnings.filterwarnings(\"ignore\")"
      ],
      "execution_count": null,
      "outputs": []
    },
    {
      "cell_type": "markdown",
      "metadata": {
        "id": "TdjY6a0c-gQH"
      },
      "source": [
        "### Processo de automatização"
      ]
    },
    {
      "cell_type": "code",
      "metadata": {
        "id": "RRhTuwCR-lO2"
      },
      "source": [
        "import pandas as pd # para visualização, manipulação e análise de dados\n",
        "\n",
        "def criar_dataframe(endereco, delimitador):\n",
        "  \"\"\" Função que lê arquivo em .csv com a biblioteca pandas e o armazena na variável desejável.\n",
        "\n",
        "      endereço: inserir string do local em que o arquivo está armazenado;\n",
        "      delimitador: inserir string do delimitador deste arquivo .csv;\n",
        "  \"\"\"\n",
        "  return pd.read_csv(endereco, delimiter=delimitador)"
      ],
      "execution_count": null,
      "outputs": []
    },
    {
      "cell_type": "code",
      "metadata": {
        "id": "kDplKfqM-pE_"
      },
      "source": [
        "def traducao_atributos(dataframe):\n",
        "  \"\"\" Função para traduzir os nomes dos atributos do Dataframe para o Português-brasileiro. Basta aplicá-la no dataset deste projeto.\n",
        "\n",
        "      dataframe: inserir variável contendo o nome do DataFrame.\n",
        "  \"\"\"\n",
        "\n",
        "  return dataframe.rename(columns={\n",
        "      'age': 'idade',\n",
        "      'job': 'ocupação',\n",
        "      'marital': 'estado civil',\n",
        "      'education': 'educação',\n",
        "      'default': 'inadimplente',\n",
        "      'balance': 'saldo',\n",
        "      'housing': 'aluguel',\n",
        "      'loan': 'empréstimo',\n",
        "      'contact': 'contato',\n",
        "      'month': 'mês',\n",
        "      'day': 'dia do mês',\n",
        "      'duration': 'duração',\n",
        "      'campaign': 'campanha',\n",
        "      'pdays': 'pdias',\n",
        "      'previous': 'anteriores',\n",
        "      'poutcome': 'resultado anterior' })"
      ],
      "execution_count": null,
      "outputs": []
    },
    {
      "cell_type": "code",
      "metadata": {
        "id": "QGSNLQSl2qTH"
      },
      "source": [
        "def traducao_dados(dataframe):\n",
        "  \"\"\" Função para traduzir todos dados do Dataframe para o Português-brasileiro. Basta aplicá-la no dataset deste projeto.\n",
        "\n",
        "      dataframe: inserir variável contendo o nome do DataFrame.\n",
        "  \"\"\"\n",
        "\n",
        "  return dataframe.replace({\n",
        "      \n",
        "      # 'ocupação'\n",
        "      'admin.': 'administrativo(a)',\n",
        "      'blue-collar': 'operário(a)',\n",
        "      'entrepreneur': 'empreendedor(a)',\n",
        "      'housemaid': 'doméstico(a)',\n",
        "      'management': 'gestor(a)',\n",
        "      'retired': 'aposentado(a)',\n",
        "      'self-employed': 'autônomo(a)',\n",
        "      'services': 'servidor(a)',\n",
        "      'student': 'estudante',\n",
        "      'technician': 'técnico(a)',\n",
        "      'unemployed': 'desempregado(a)',\n",
        "      'unknown': 'desconhecido',\n",
        "      \n",
        "      # 'estado civil'\n",
        "      'married': 'casado(a)',\n",
        "      'single': 'solteiro(a)',\n",
        "      'divorced': 'divorciado(a)',\n",
        "      \n",
        "      # 'educação'\n",
        "      'tertiary': 'ensino superior',\n",
        "      'secondary': 'ensino médio',\n",
        "      'primary': 'ensino fundamental',\n",
        "      \n",
        "      # 'inadimplente', 'aluguel', 'empréstimo' e 'y'\n",
        "      'yes': 'sim',\n",
        "      'no': 'não',\n",
        "      \n",
        "      # 'contato'\n",
        "      'cellular': 'celular',\n",
        "      'telephone': 'telefone',\n",
        "      \n",
        "      # 'mês'\n",
        "      'may': 'maio',\n",
        "      'jun': 'junho', \n",
        "      'jul': 'julho', \n",
        "      'aug': 'agosto', \n",
        "      'oct': 'outubro', \n",
        "      'nov': 'novembro', \n",
        "      'dec': 'dezembro', \n",
        "      'jan': 'janeiro', \n",
        "      'feb': 'fevereiro',\n",
        "      'mar': 'março', \n",
        "      'apr': 'abril', \n",
        "      'sep': 'setembro',\n",
        "      \n",
        "      # 'resultado anterior'\n",
        "      'failure': 'fracasso', \n",
        "      'other': 'outros', \n",
        "      'success': 'sucesso' })"
      ],
      "execution_count": null,
      "outputs": []
    },
    {
      "cell_type": "code",
      "metadata": {
        "id": "yrFb2_IRxex2"
      },
      "source": [
        "def traduzir(dataframe):\n",
        "  \"\"\" Função que traduz o DataFrame através da composição das funções de tradução dos atributos e dos dados. Basta aplicá-la no dataset deste projeto.\n",
        "\n",
        "      dataframe: inserir variável contendo o nome do DataFrame.\n",
        "  \"\"\"\n",
        "\n",
        "  dataframe = traducao_atributos(dataframe)\n",
        "  dataframe = traducao_dados(dataframe)\n",
        "  return dataframe"
      ],
      "execution_count": null,
      "outputs": []
    },
    {
      "cell_type": "code",
      "metadata": {
        "id": "MCQO0jVE_pqs"
      },
      "source": [
        "def filtrar(dataframe, atributo, classificacao):\n",
        "  \"\"\" Função para filtrar o DataFrame para mostrar apenas as instâncias com uma classificação única desejada em um determinado atributo.\n",
        "\n",
        "      dataframe: inserir variável contendo o nome do DataFrame;\n",
        "      atributo: inserir string contendo o nome da coluna do DataFrame a ser filtrada;\n",
        "      classificacao: inserir valor único desejado dentro das classificações daquele atributo a ser filtrado.\n",
        "  \"\"\"\n",
        "  \n",
        "  # Criação da variável 'coluna' para maior legibilidade\n",
        "  coluna = dataframe[atributo]\n",
        "\n",
        "  # Localização da classificação desejada dentro da coluna\n",
        "  return dataframe.loc[coluna == classificacao]"
      ],
      "execution_count": null,
      "outputs": []
    },
    {
      "cell_type": "code",
      "metadata": {
        "id": "HHyBqpzv0uNt"
      },
      "source": [
        "def numeracao(dataframe, atributo):\n",
        "  \"\"\" Função que transforma as classes dentro de um atributo em valores quantitativos, em ordem, começando pelo número 0.\n",
        "\n",
        "      dataframe: inserir variável contendo o nome do DataFrame;\n",
        "      atributo: inserir string contendo o nome da coluna do DataFrame a ser numerada.\n",
        "  \"\"\"\n",
        "  \n",
        "  # Criação de uma lista unidimensional com os valores qualitativos\n",
        "  valores = list(df[atributo].unique())\n",
        "  # Criação de uma variável que armazena a quantidade de valores\n",
        "  quantidade = len(valores)\n",
        "  # Criação de uma lista unidimensional, com os valores de 0 até a quantidade de valores\n",
        "  indice = [x for x in range(quantidade)]\n",
        "\n",
        "  # Criação de um dicionário, atribuindo cada valor qualitativo a seu respectivo número\n",
        "  dicionario = {valores[x]:indice[x] for x in range(quantidade)}\n",
        "  # Impressão do dicionário para controle dos valores\n",
        "  print(dicionario)\n",
        "\n",
        "  # Utilização do método 'replace' para renomear as classificações com base no dicionário criado\n",
        "  return dataframe.replace(dicionario)"
      ],
      "execution_count": null,
      "outputs": []
    },
    {
      "cell_type": "code",
      "metadata": {
        "id": "2TxTf-QNVzou"
      },
      "source": [
        "def numeracao_sn(dataframe):\n",
        "  \"\"\" Função que transforma as strings 'sim' e 'não' em 1 e 0, respectivamente, no DataFrame passado como parâmetro.\n",
        "\n",
        "      dataframe: dataframe: inserir variável contendo o nome do DataFrame\n",
        "  \"\"\"\n",
        "\n",
        "  return dataframe.replace({\n",
        "      'sim': 1,\n",
        "      'não': 0 })"
      ],
      "execution_count": null,
      "outputs": []
    },
    {
      "cell_type": "code",
      "metadata": {
        "id": "9KfBqrN58c1Y"
      },
      "source": [
        "def proporcao_adesao(dataframe, atributo, atributo_proporcao):\n",
        "  \"\"\" Função que agrupa os dados em um atributo qualitativo e mostra a proporção de adesões em cada classificação daquele atributo. Retorna um DataFrame.\n",
        "\n",
        "      atributo: inserir string contendo o nome da coluna do DataFrame a ser atribuída a proporção;\n",
        "      dataframe: inserir variável contendo o nome do DataFrame;\n",
        "      atributo_proporcao: inserir string contendo o nome da coluna do DataFrame a ser calculada a proporção.\n",
        "  \"\"\"\n",
        "  \n",
        "  # Agrupamento do DataFrame pelo atributo passado\n",
        "  grupo = dataframe.groupby(atributo)\n",
        "\n",
        "  # Cálculo da média dos atributos quantitativos em cada classificação de 'atributo_proporcao'\n",
        "  return pd.DataFrame(grupo.mean()[atributo_proporcao])"
      ],
      "execution_count": null,
      "outputs": []
    },
    {
      "cell_type": "code",
      "metadata": {
        "id": "0YJUk59C-ybm"
      },
      "source": [
        "def contar_valores(dataframe, atributo, classificacao=None):\n",
        "  \"\"\" Função para contar valores de cada classificação em um determinado atributo. É possível contar os valores de apenas uma determinada classificação. É usado o método 'value_counts()' da biblioteca pandas.\n",
        "  \n",
        "      dataframe: inserir variável contendo o nome do DataFrame;\n",
        "      atributo: inserir string contendo o nome da coluna do DataFrame a ser contada;\n",
        "      classificacao (opcional): inserir valor único desejado dentro das classificações daquele atributo.\n",
        "  \"\"\"\n",
        "\n",
        "  # Criação da variável 'coluna' para maior legibilidade\n",
        "  coluna = dataframe[atributo]\n",
        "\n",
        "  # Caso seja passada uma classificação específica, filtra-se o DataFrame para mostrar apenas as instâncias que a contenham e seleciona-se o próprio atributo\n",
        "  if classificacao != None:\n",
        "    coluna = filtrar(dataframe, atributo, classificacao)[atributo]\n",
        "\n",
        "  # Uso do método 'value_counts()' para contar dentro da coluna criada localmente\n",
        "  return coluna.value_counts()"
      ],
      "execution_count": null,
      "outputs": []
    },
    {
      "cell_type": "code",
      "metadata": {
        "id": "PjnLO4Nz_GpE"
      },
      "source": [
        "import matplotlib.pyplot as plt \n",
        "%matplotlib inline\n",
        "\n",
        "def plotar_histograma(dataframe, atributo, tamanho, titulo=None, cor=None):\n",
        "  \"\"\" Função que realiza a plotagem de um gráfico de barras como um histograma, com base na contagem de ocorrências de um atributo. É usada a biblioteca matplotlib.\n",
        "\n",
        "      dataframe: inserir variável contendo o nome do DataFrame;\n",
        "      atributo: inserir string com o nome da coluna do DataFrame a ser plotada;\n",
        "      tamanho: inserir tupla referente ao tamanho desejado do gráfico;\n",
        "      título (opcional): inserir string com o nome do título desejado do gráfico;\n",
        "      cor (opcional): inserir string com o nome da cor desejada no gráfico.\n",
        "  \"\"\"\n",
        "\n",
        "  # Estilo\n",
        "  plt.style.use(\"ggplot\")\n",
        "  # Tamanho\n",
        "  plt.figure(figsize = tamanho)\n",
        "  # Título\n",
        "  plt.title(titulo)\n",
        "\n",
        "  # Uso da função 'contar_valores()'\n",
        "  contagem = contar_valores(dataframe, atributo)\n",
        "  # Definição dos índices dos atributos\n",
        "  indices = contagem.index\n",
        "  # Definição dos valores dos atributos\n",
        "  valores = contagem.values\n",
        "  \n",
        "  # Plotagem de gráfico de barras com x=indices e y=valores\n",
        "  plt.bar(indices, valores, ec = \"k\", alpha = .6, color=cor)"
      ],
      "execution_count": null,
      "outputs": []
    },
    {
      "cell_type": "code",
      "metadata": {
        "id": "GKIWd2oWGS0I"
      },
      "source": [
        "def plotar_histograma_1(valores, indices, tamanho, titulo=None, cor=None):\n",
        "  \"\"\" Função que realiza a plotagem de um gráfico de barras como um histograma, com base na contagem de ocorrências de um atributo. É usada a biblioteca matplotlib.\n",
        "\n",
        "      valores: valores do gráfico;\n",
        "      indices: índices do gráfico;\n",
        "      tamanho: inserir tupla referente ao tamanho desejado do gráfico;\n",
        "      título (opcional): inserir string com o nome do título desejado do gráfico;\n",
        "      cor (opcional): inserir string com o nome da cor desejada no gráfico.\n",
        "  \"\"\"\n",
        "\n",
        "  # Estilo\n",
        "  plt.style.use(\"ggplot\")\n",
        "  # Tamanho\n",
        "  plt.figure(figsize = tamanho)\n",
        "  # Título\n",
        "  plt.title(titulo)\n",
        "  \n",
        "  # Plotagem de gráfico de barras com x=indices e y=valores\n",
        "  plt.bar(indices, valores, ec = \"k\", alpha = .6, color=cor)"
      ],
      "execution_count": null,
      "outputs": []
    },
    {
      "cell_type": "code",
      "metadata": {
        "id": "rEy6Hxco_KeA"
      },
      "source": [
        "def plotar_pizza(dataframe, atributo, titulo=None):\n",
        "  \"\"\" Função que realiza a plotagem de um gráfico de pizza. Recomenda-se utilizá-la com atributos com no máximo quatro valores possíveis.\n",
        "\n",
        "      dataframe: inserir variável contendo o nome do DataFrame;\n",
        "      atributo: inserir string com o nome da coluna do DataFrame a ser plotada;\n",
        "      título (opcional): inserir string com o nome do título desejado do gráfico.\n",
        "  \"\"\"\n",
        "\n",
        "  # Estilo\n",
        "  plt.style.use(\"ggplot\")\n",
        "  # Título\n",
        "  plt.title(titulo)\n",
        "\n",
        "  # Uso da função 'contar_valores()'\n",
        "  contagem = contar_valores(dataframe, atributo)\n",
        "  # Definição dos índices dos atributos\n",
        "  valores = contagem.values\n",
        "  # Definição dos valores dos atributos\n",
        "  indice = contagem.index\n",
        "  \n",
        "  # Plotagem de gráfico de pizza\n",
        "  plt.pie(valores, labels=list(indice), labeldistance = 1.1, wedgeprops = {'ec': 'k'})"
      ],
      "execution_count": null,
      "outputs": []
    },
    {
      "cell_type": "code",
      "metadata": {
        "id": "AKNqNDye37Vp"
      },
      "source": [
        "def indice(dataframe):\n",
        "  \"\"\" Função que calcula o índice de tempo gasto por adesão.\n",
        "\n",
        "      dataframe: inserir variável contendo o nome do DataFrame.\n",
        "  \"\"\"\n",
        "\n",
        "  # Variável que armazena a soma de todas as durações das ligações\n",
        "  duracao_total = dataframe['duração'].sum() \n",
        "\n",
        "  # Operação para o caso de a coluna de classificação conter valores qualitativos\n",
        "  if ('não' and 'sim') in dataframe['y'].unique():\n",
        "    adesoes = int(contar_valores(dataframe, 'y', 'sim'))\n",
        "\n",
        "  # Operação para o caso de a coluna de classificação conter valores quantitativos\n",
        "  elif (0 and 1) in dataframe['y'].unique():\n",
        "    adesoes = int(contar_valores(dataframe, 'y', 1))\n",
        "\n",
        "  # Índice em segundos/adesão\n",
        "  indice_seg = duracao_total / adesoes \n",
        "  # Índice em minutos/adesão\n",
        "  indice_min = indice_seg / 60 \n",
        "\n",
        "  # Impressão do índice com as duas medidas acima \n",
        "  print(f'{ round(indice_seg, 2) } segundos/adesão \\n{ round(indice_min, 2) } minutos/adesão')"
      ],
      "execution_count": null,
      "outputs": []
    },
    {
      "cell_type": "code",
      "metadata": {
        "id": "ZUUXqeIg1foZ"
      },
      "source": [
        "def remove_repetidos(lista):\n",
        "  \"\"\" Função que remove elementos repetidos em uma lista\n",
        "  \"\"\" \n",
        "  \n",
        "  l = []\n",
        "  for i in lista:\n",
        "    if i not in l:\n",
        "      l.append(i)\n",
        "  l.sort()\n",
        "  return l"
      ],
      "execution_count": null,
      "outputs": []
    },
    {
      "cell_type": "code",
      "metadata": {
        "id": "6698ZhwmTOGI"
      },
      "source": [
        "from sklearn.metrics import confusion_matrix, f1_score, precision_score, recall_score, accuracy_score # métricas para avaliação do modelo\n",
        "\n",
        "def matriz_de_confusao(teste, predicao):\n",
        "  \"\"\" Função para criar um array da matriz de confusão com base no conjunto de teste e no conjunto predito. É usado método 'confusion_matrix' da biblioteca 'scikt-learn'.\n",
        "\n",
        "      teste: inserir a lista contendo o conjunto de teste predefinido;\n",
        "      predicao: inserir a lista contendo o conjunto predito pelo modelo.\n",
        "  \"\"\"\n",
        "\n",
        "  return confusion_matrix(teste, predicao)"
      ],
      "execution_count": null,
      "outputs": []
    },
    {
      "cell_type": "code",
      "metadata": {
        "id": "DE0cRjlrTU0l"
      },
      "source": [
        "def dataframe_matriz(teste, predicao, legendas=None):\n",
        "  \"\"\" Função que cria um DataFrame com base na matriz de confusão. Composta com a função 'matriz_de_confusao()'.\n",
        "\n",
        "      teste: inserir a lista contendo o conjunto de teste predefinido;\n",
        "      predicao: inserir a lista contendo o conjunto predito pelo modelo;\n",
        "      legendas (opcional): inserir a lista de strings contendo o nome das classificações (deve ter o mesmo comprimento da dimensão de classificações).\n",
        "  \"\"\"\n",
        "\n",
        "  # Criação da variável local com o uso da função 'matriz_de_confusao()'\n",
        "  matriz = matriz_de_confusao(teste, predicao)\n",
        "\n",
        "  # Criação do DataFrame com a matriz presente nesta função\n",
        "  df = pd.DataFrame(matriz)\n",
        "\n",
        "  # Se as legendas forem passadas como parâmetro, insere-se as no DataFrame\n",
        "  if legendas != None:\n",
        "    df = pd.DataFrame(matriz, index=legendas, columns=legendas)\n",
        "  return df"
      ],
      "execution_count": null,
      "outputs": []
    },
    {
      "cell_type": "code",
      "metadata": {
        "id": "wRiN6CwVTc46"
      },
      "source": [
        "import seaborn as sns # para storytelling com elaboração de gráficos\n",
        "\n",
        "def mapa_de_calor(teste, predicao, legendas=None, titulo=None):\n",
        "  \"\"\" Função que produz um mapa de calor da matriz de confusão com a biblioteca 'seaborn'. Composta com as funções 'matriz_de_confusão()' e 'dataframe_matriz()'\n",
        "\n",
        "      teste: inserir a lista contendo o conjunto de teste predefinido;\n",
        "      predicao: inserir a lista contendo o conjunto predito pelo modelo;\n",
        "      legendas (opcional): inserir a lista de strings contendo o nome das classificações.\n",
        "      titulo (opcional): inserir string com o nome do título desejado do gráfico.\n",
        "  \"\"\"\n",
        "\n",
        "  # Criação da variável local com o uso da função 'dataframe_matriz()'\n",
        "  df = dataframe_matriz(teste, predicao)\n",
        "\n",
        "  # Se as legendas forem passadas como parâmetro, insere-se as no DataFrame\n",
        "  if legendas != None:\n",
        "    df = dataframe_matriz(teste, predicao, legendas)\n",
        "\n",
        "  # Criação do gráfico do tipo mapa de calor com a biblioteca 'seaborn'\n",
        "  grafico = sns.heatmap(df, annot=True, cmap='Blues', square=True, fmt='g')\n",
        "\n",
        "  # Se o título for passado como parâmetro, insere-se o no gráfico\n",
        "  if titulo != None:\n",
        "    grafico.set_title(titulo) \n",
        "\n",
        "  return grafico"
      ],
      "execution_count": null,
      "outputs": []
    },
    {
      "cell_type": "code",
      "metadata": {
        "id": "VljKYiekhIuZ"
      },
      "source": [
        "def avaliacao(teste, predicao):\n",
        "  \"\"\" Função que avalia o modelo preditivo com quatro métricas: f1_score, precision, recall e accuracy. Imprime as quatro pontuações.\n",
        "\n",
        "      teste: inserir a lista contendo o conjunto de teste predefinido;\n",
        "      predicao: inserir a lista contendo o conjunto predito pelo modelo.\n",
        "  \"\"\"\n",
        "\n",
        "  # Criação das variáveis de pontuação com o uso das métricas da biblioteca 'sklearn'\n",
        "  f1 = f1_score(teste, predicao)\n",
        "  precisão = precision_score(teste, predicao)\n",
        "  revocação = recall_score(teste, predicao)\n",
        "  acurácia = accuracy_score(teste, predicao)\n",
        "\n",
        "  # Lista com as quatro variáveis\n",
        "  métricas = ['f1', 'precisão', 'revocação', 'acurácia']\n",
        "\n",
        "  # Iteração para impressão das variáveis e seus valores arredondados e transformados em porcentagem\n",
        "  for métrica in métricas:\n",
        "    print(f'{métrica}: {round(eval(métrica)*100, 2)}%' )"
      ],
      "execution_count": null,
      "outputs": []
    },
    {
      "cell_type": "markdown",
      "metadata": {
        "id": "XF96CjN5am7L"
      },
      "source": [
        "### Leitura do dataset"
      ]
    },
    {
      "cell_type": "code",
      "metadata": {
        "colab": {
          "resources": {
            "http://localhost:8080/nbextensions/google.colab/files.js": {
              "data": "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",
              "ok": true,
              "headers": [
                [
                  "content-type",
                  "application/javascript"
                ]
              ],
              "status": 200,
              "status_text": ""
            }
          },
          "base_uri": "https://localhost:8080/",
          "height": 73
        },
        "id": "h6PeiPicd202",
        "outputId": "fac8852f-4ccd-4d1d-effd-750ab8961321"
      },
      "source": [
        "# Carregando arquivo da máquina\n",
        "from google.colab import files\n",
        "\n",
        "uploaded = files.upload()"
      ],
      "execution_count": null,
      "outputs": [
        {
          "output_type": "display_data",
          "data": {
            "text/html": [
              "\n",
              "     <input type=\"file\" id=\"files-926731ae-4e6f-45e1-8523-2373b1c9daae\" name=\"files[]\" multiple disabled\n",
              "        style=\"border:none\" />\n",
              "     <output id=\"result-926731ae-4e6f-45e1-8523-2373b1c9daae\">\n",
              "      Upload widget is only available when the cell has been executed in the\n",
              "      current browser session. Please rerun this cell to enable.\n",
              "      </output>\n",
              "      <script src=\"/nbextensions/google.colab/files.js\"></script> "
            ],
            "text/plain": [
              "<IPython.core.display.HTML object>"
            ]
          },
          "metadata": {
            "tags": []
          }
        },
        {
          "output_type": "stream",
          "text": [
            "Saving bank-full.csv to bank-full.csv\n"
          ],
          "name": "stdout"
        }
      ]
    },
    {
      "cell_type": "code",
      "metadata": {
        "id": "L3CPZL1rjxEy"
      },
      "source": [
        "# Criação do DataFrame\n",
        "\n",
        "df = criar_dataframe('bank-full.csv', ';')"
      ],
      "execution_count": null,
      "outputs": []
    },
    {
      "cell_type": "code",
      "metadata": {
        "colab": {
          "base_uri": "https://localhost:8080/",
          "height": 314
        },
        "id": "VzB7FWaCxzHy",
        "outputId": "f8f7461e-b8db-45f0-a53b-9ae919cfc51e"
      },
      "source": [
        "# Tradução do DataFrame\n",
        "\n",
        "df = traduzir(df)\n",
        "print(f'Quantidade de ligações: {df.shape[0]} \\nQuantidade de atributos: {df.shape[1]}')\n",
        "df.head()"
      ],
      "execution_count": null,
      "outputs": [
        {
          "output_type": "stream",
          "text": [
            "Quantidade de ligações: 45211 \n",
            "Quantidade de atributos: 17\n"
          ],
          "name": "stdout"
        },
        {
          "output_type": "execute_result",
          "data": {
            "text/html": [
              "<div>\n",
              "<style scoped>\n",
              "    .dataframe tbody tr th:only-of-type {\n",
              "        vertical-align: middle;\n",
              "    }\n",
              "\n",
              "    .dataframe tbody tr th {\n",
              "        vertical-align: top;\n",
              "    }\n",
              "\n",
              "    .dataframe thead th {\n",
              "        text-align: right;\n",
              "    }\n",
              "</style>\n",
              "<table border=\"1\" class=\"dataframe\">\n",
              "  <thead>\n",
              "    <tr style=\"text-align: right;\">\n",
              "      <th></th>\n",
              "      <th>idade</th>\n",
              "      <th>ocupação</th>\n",
              "      <th>estado civil</th>\n",
              "      <th>educação</th>\n",
              "      <th>inadimplente</th>\n",
              "      <th>saldo</th>\n",
              "      <th>aluguel</th>\n",
              "      <th>empréstimo</th>\n",
              "      <th>contato</th>\n",
              "      <th>dia do mês</th>\n",
              "      <th>mês</th>\n",
              "      <th>duração</th>\n",
              "      <th>campanha</th>\n",
              "      <th>pdias</th>\n",
              "      <th>anteriores</th>\n",
              "      <th>resultado anterior</th>\n",
              "      <th>y</th>\n",
              "    </tr>\n",
              "  </thead>\n",
              "  <tbody>\n",
              "    <tr>\n",
              "      <th>0</th>\n",
              "      <td>58</td>\n",
              "      <td>gestor(a)</td>\n",
              "      <td>casado(a)</td>\n",
              "      <td>ensino superior</td>\n",
              "      <td>não</td>\n",
              "      <td>2143</td>\n",
              "      <td>sim</td>\n",
              "      <td>não</td>\n",
              "      <td>desconhecido</td>\n",
              "      <td>5</td>\n",
              "      <td>maio</td>\n",
              "      <td>261</td>\n",
              "      <td>1</td>\n",
              "      <td>-1</td>\n",
              "      <td>0</td>\n",
              "      <td>desconhecido</td>\n",
              "      <td>não</td>\n",
              "    </tr>\n",
              "    <tr>\n",
              "      <th>1</th>\n",
              "      <td>44</td>\n",
              "      <td>técnico(a)</td>\n",
              "      <td>solteiro(a)</td>\n",
              "      <td>ensino médio</td>\n",
              "      <td>não</td>\n",
              "      <td>29</td>\n",
              "      <td>sim</td>\n",
              "      <td>não</td>\n",
              "      <td>desconhecido</td>\n",
              "      <td>5</td>\n",
              "      <td>maio</td>\n",
              "      <td>151</td>\n",
              "      <td>1</td>\n",
              "      <td>-1</td>\n",
              "      <td>0</td>\n",
              "      <td>desconhecido</td>\n",
              "      <td>não</td>\n",
              "    </tr>\n",
              "    <tr>\n",
              "      <th>2</th>\n",
              "      <td>33</td>\n",
              "      <td>empreendedor(a)</td>\n",
              "      <td>casado(a)</td>\n",
              "      <td>ensino médio</td>\n",
              "      <td>não</td>\n",
              "      <td>2</td>\n",
              "      <td>sim</td>\n",
              "      <td>sim</td>\n",
              "      <td>desconhecido</td>\n",
              "      <td>5</td>\n",
              "      <td>maio</td>\n",
              "      <td>76</td>\n",
              "      <td>1</td>\n",
              "      <td>-1</td>\n",
              "      <td>0</td>\n",
              "      <td>desconhecido</td>\n",
              "      <td>não</td>\n",
              "    </tr>\n",
              "    <tr>\n",
              "      <th>3</th>\n",
              "      <td>47</td>\n",
              "      <td>operário(a)</td>\n",
              "      <td>casado(a)</td>\n",
              "      <td>desconhecido</td>\n",
              "      <td>não</td>\n",
              "      <td>1506</td>\n",
              "      <td>sim</td>\n",
              "      <td>não</td>\n",
              "      <td>desconhecido</td>\n",
              "      <td>5</td>\n",
              "      <td>maio</td>\n",
              "      <td>92</td>\n",
              "      <td>1</td>\n",
              "      <td>-1</td>\n",
              "      <td>0</td>\n",
              "      <td>desconhecido</td>\n",
              "      <td>não</td>\n",
              "    </tr>\n",
              "    <tr>\n",
              "      <th>4</th>\n",
              "      <td>33</td>\n",
              "      <td>desconhecido</td>\n",
              "      <td>solteiro(a)</td>\n",
              "      <td>desconhecido</td>\n",
              "      <td>não</td>\n",
              "      <td>1</td>\n",
              "      <td>não</td>\n",
              "      <td>não</td>\n",
              "      <td>desconhecido</td>\n",
              "      <td>5</td>\n",
              "      <td>maio</td>\n",
              "      <td>198</td>\n",
              "      <td>1</td>\n",
              "      <td>-1</td>\n",
              "      <td>0</td>\n",
              "      <td>desconhecido</td>\n",
              "      <td>não</td>\n",
              "    </tr>\n",
              "  </tbody>\n",
              "</table>\n",
              "</div>"
            ],
            "text/plain": [
              "   idade         ocupação estado civil  ... anteriores resultado anterior    y\n",
              "0     58        gestor(a)    casado(a)  ...          0       desconhecido  não\n",
              "1     44       técnico(a)  solteiro(a)  ...          0       desconhecido  não\n",
              "2     33  empreendedor(a)    casado(a)  ...          0       desconhecido  não\n",
              "3     47      operário(a)    casado(a)  ...          0       desconhecido  não\n",
              "4     33     desconhecido  solteiro(a)  ...          0       desconhecido  não\n",
              "\n",
              "[5 rows x 17 columns]"
            ]
          },
          "metadata": {
            "tags": []
          },
          "execution_count": 24
        }
      ]
    },
    {
      "cell_type": "code",
      "metadata": {
        "id": "_9GMTic9WSGD"
      },
      "source": [
        "# Criação de um DataFrame em que somente as classificações binárias estarão numeradas (0 e 1)\n",
        "\n",
        "df_sn = numeracao_sn(df)"
      ],
      "execution_count": null,
      "outputs": []
    },
    {
      "cell_type": "code",
      "metadata": {
        "colab": {
          "base_uri": "https://localhost:8080/",
          "height": 365
        },
        "id": "QGgu936BSXwy",
        "outputId": "461fd4eb-b76b-4ae6-e6e8-2c97321e0508"
      },
      "source": [
        "# Filtragem do DataFrame somente com a amostra de adesão\n",
        "\n",
        "df_alvo = filtrar(df, 'y', 'sim')\n",
        "\n",
        "print(f'Quantidade de adesões: {df_alvo.shape[0]}')\n",
        "df_alvo.head()"
      ],
      "execution_count": null,
      "outputs": [
        {
          "output_type": "stream",
          "text": [
            "Quantidade de adesões: 5289\n"
          ],
          "name": "stdout"
        },
        {
          "output_type": "execute_result",
          "data": {
            "text/html": [
              "<div>\n",
              "<style scoped>\n",
              "    .dataframe tbody tr th:only-of-type {\n",
              "        vertical-align: middle;\n",
              "    }\n",
              "\n",
              "    .dataframe tbody tr th {\n",
              "        vertical-align: top;\n",
              "    }\n",
              "\n",
              "    .dataframe thead th {\n",
              "        text-align: right;\n",
              "    }\n",
              "</style>\n",
              "<table border=\"1\" class=\"dataframe\">\n",
              "  <thead>\n",
              "    <tr style=\"text-align: right;\">\n",
              "      <th></th>\n",
              "      <th>idade</th>\n",
              "      <th>ocupação</th>\n",
              "      <th>estado civil</th>\n",
              "      <th>educação</th>\n",
              "      <th>inadimplente</th>\n",
              "      <th>saldo</th>\n",
              "      <th>aluguel</th>\n",
              "      <th>empréstimo</th>\n",
              "      <th>contato</th>\n",
              "      <th>dia do mês</th>\n",
              "      <th>mês</th>\n",
              "      <th>duração</th>\n",
              "      <th>campanha</th>\n",
              "      <th>pdias</th>\n",
              "      <th>anteriores</th>\n",
              "      <th>resultado anterior</th>\n",
              "      <th>y</th>\n",
              "    </tr>\n",
              "  </thead>\n",
              "  <tbody>\n",
              "    <tr>\n",
              "      <th>83</th>\n",
              "      <td>59</td>\n",
              "      <td>administrativo(a)</td>\n",
              "      <td>casado(a)</td>\n",
              "      <td>ensino médio</td>\n",
              "      <td>não</td>\n",
              "      <td>2343</td>\n",
              "      <td>sim</td>\n",
              "      <td>não</td>\n",
              "      <td>desconhecido</td>\n",
              "      <td>5</td>\n",
              "      <td>maio</td>\n",
              "      <td>1042</td>\n",
              "      <td>1</td>\n",
              "      <td>-1</td>\n",
              "      <td>0</td>\n",
              "      <td>desconhecido</td>\n",
              "      <td>sim</td>\n",
              "    </tr>\n",
              "    <tr>\n",
              "      <th>86</th>\n",
              "      <td>56</td>\n",
              "      <td>administrativo(a)</td>\n",
              "      <td>casado(a)</td>\n",
              "      <td>ensino médio</td>\n",
              "      <td>não</td>\n",
              "      <td>45</td>\n",
              "      <td>não</td>\n",
              "      <td>não</td>\n",
              "      <td>desconhecido</td>\n",
              "      <td>5</td>\n",
              "      <td>maio</td>\n",
              "      <td>1467</td>\n",
              "      <td>1</td>\n",
              "      <td>-1</td>\n",
              "      <td>0</td>\n",
              "      <td>desconhecido</td>\n",
              "      <td>sim</td>\n",
              "    </tr>\n",
              "    <tr>\n",
              "      <th>87</th>\n",
              "      <td>41</td>\n",
              "      <td>técnico(a)</td>\n",
              "      <td>casado(a)</td>\n",
              "      <td>ensino médio</td>\n",
              "      <td>não</td>\n",
              "      <td>1270</td>\n",
              "      <td>sim</td>\n",
              "      <td>não</td>\n",
              "      <td>desconhecido</td>\n",
              "      <td>5</td>\n",
              "      <td>maio</td>\n",
              "      <td>1389</td>\n",
              "      <td>1</td>\n",
              "      <td>-1</td>\n",
              "      <td>0</td>\n",
              "      <td>desconhecido</td>\n",
              "      <td>sim</td>\n",
              "    </tr>\n",
              "    <tr>\n",
              "      <th>129</th>\n",
              "      <td>55</td>\n",
              "      <td>servidor(a)</td>\n",
              "      <td>casado(a)</td>\n",
              "      <td>ensino médio</td>\n",
              "      <td>não</td>\n",
              "      <td>2476</td>\n",
              "      <td>sim</td>\n",
              "      <td>não</td>\n",
              "      <td>desconhecido</td>\n",
              "      <td>5</td>\n",
              "      <td>maio</td>\n",
              "      <td>579</td>\n",
              "      <td>1</td>\n",
              "      <td>-1</td>\n",
              "      <td>0</td>\n",
              "      <td>desconhecido</td>\n",
              "      <td>sim</td>\n",
              "    </tr>\n",
              "    <tr>\n",
              "      <th>168</th>\n",
              "      <td>54</td>\n",
              "      <td>administrativo(a)</td>\n",
              "      <td>casado(a)</td>\n",
              "      <td>ensino superior</td>\n",
              "      <td>não</td>\n",
              "      <td>184</td>\n",
              "      <td>não</td>\n",
              "      <td>não</td>\n",
              "      <td>desconhecido</td>\n",
              "      <td>5</td>\n",
              "      <td>maio</td>\n",
              "      <td>673</td>\n",
              "      <td>2</td>\n",
              "      <td>-1</td>\n",
              "      <td>0</td>\n",
              "      <td>desconhecido</td>\n",
              "      <td>sim</td>\n",
              "    </tr>\n",
              "  </tbody>\n",
              "</table>\n",
              "</div>"
            ],
            "text/plain": [
              "     idade           ocupação estado civil  ... anteriores resultado anterior    y\n",
              "83      59  administrativo(a)    casado(a)  ...          0       desconhecido  sim\n",
              "86      56  administrativo(a)    casado(a)  ...          0       desconhecido  sim\n",
              "87      41         técnico(a)    casado(a)  ...          0       desconhecido  sim\n",
              "129     55        servidor(a)    casado(a)  ...          0       desconhecido  sim\n",
              "168     54  administrativo(a)    casado(a)  ...          0       desconhecido  sim\n",
              "\n",
              "[5 rows x 17 columns]"
            ]
          },
          "metadata": {
            "tags": []
          },
          "execution_count": 26
        }
      ]
    },
    {
      "cell_type": "markdown",
      "metadata": {
        "id": "u9u-aaCksiNi"
      },
      "source": [
        "### Tratamento do DataFrame"
      ]
    },
    {
      "cell_type": "markdown",
      "metadata": {
        "id": "z1wqIhx-vp53"
      },
      "source": [
        "Nesta seção, será realizada a transformação dos dados qualitativos em valores quantitativos no corpo do *dataframe*, para viabilizar a ação da biblioteca *skicit-learn* no desenvolvimento dos modelos preditivos."
      ]
    },
    {
      "cell_type": "code",
      "metadata": {
        "id": "Cu6EtqMJ0EQA"
      },
      "source": [
        "df_tratado = df"
      ],
      "execution_count": null,
      "outputs": []
    },
    {
      "cell_type": "code",
      "metadata": {
        "colab": {
          "base_uri": "https://localhost:8080/"
        },
        "id": "nhcKnRdzw4G6",
        "outputId": "3c7214f7-8add-46b6-b517-3be20e5926c4"
      },
      "source": [
        "# Aplicação da função 'numeracao()' em df_tratado\n",
        "\n",
        "qualitativos = ['ocupação', 'estado civil', 'educação', 'inadimplente', 'aluguel', 'empréstimo', 'contato', 'mês', 'y']\n",
        "for i in range(len(qualitativos)):\n",
        "  df_tratado = numeracao(df_tratado, qualitativos[i])\n",
        "df_tratado = df_tratado.drop(columns='resultado anterior')\n",
        "df_tratado.head()\n",
        "\n",
        "# Obs.: todos os desconhecidos ficaram com o valor 4"
      ],
      "execution_count": null,
      "outputs": [
        {
          "output_type": "stream",
          "text": [
            "{'gestor(a)': 0, 'técnico(a)': 1, 'empreendedor(a)': 2, 'operário(a)': 3, 'desconhecido': 4, 'aposentado(a)': 5, 'administrativo(a)': 6, 'servidor(a)': 7, 'autônomo(a)': 8, 'desempregado(a)': 9, 'doméstico(a)': 10, 'estudante': 11}\n",
            "{'casado(a)': 0, 'solteiro(a)': 1, 'divorciado(a)': 2}\n",
            "{'ensino superior': 0, 'ensino médio': 1, 'desconhecido': 2, 'ensino fundamental': 3}\n",
            "{'não': 0, 'sim': 1}\n",
            "{'sim': 0, 'não': 1}\n",
            "{'não': 0, 'sim': 1}\n",
            "{'desconhecido': 0, 'celular': 1, 'telefone': 2}\n",
            "{'maio': 0, 'junho': 1, 'julho': 2, 'agosto': 3, 'outubro': 4, 'novembro': 5, 'dezembro': 6, 'janeiro': 7, 'fevereiro': 8, 'março': 9, 'abril': 10, 'setembro': 11}\n",
            "{'não': 0, 'sim': 1}\n"
          ],
          "name": "stdout"
        },
        {
          "output_type": "execute_result",
          "data": {
            "text/html": [
              "<div>\n",
              "<style scoped>\n",
              "    .dataframe tbody tr th:only-of-type {\n",
              "        vertical-align: middle;\n",
              "    }\n",
              "\n",
              "    .dataframe tbody tr th {\n",
              "        vertical-align: top;\n",
              "    }\n",
              "\n",
              "    .dataframe thead th {\n",
              "        text-align: right;\n",
              "    }\n",
              "</style>\n",
              "<table border=\"1\" class=\"dataframe\">\n",
              "  <thead>\n",
              "    <tr style=\"text-align: right;\">\n",
              "      <th></th>\n",
              "      <th>idade</th>\n",
              "      <th>ocupação</th>\n",
              "      <th>estado civil</th>\n",
              "      <th>educação</th>\n",
              "      <th>inadimplente</th>\n",
              "      <th>saldo</th>\n",
              "      <th>aluguel</th>\n",
              "      <th>empréstimo</th>\n",
              "      <th>contato</th>\n",
              "      <th>dia do mês</th>\n",
              "      <th>mês</th>\n",
              "      <th>duração</th>\n",
              "      <th>campanha</th>\n",
              "      <th>pdias</th>\n",
              "      <th>anteriores</th>\n",
              "      <th>y</th>\n",
              "    </tr>\n",
              "  </thead>\n",
              "  <tbody>\n",
              "    <tr>\n",
              "      <th>0</th>\n",
              "      <td>58</td>\n",
              "      <td>0</td>\n",
              "      <td>0</td>\n",
              "      <td>0</td>\n",
              "      <td>0</td>\n",
              "      <td>2143</td>\n",
              "      <td>1</td>\n",
              "      <td>0</td>\n",
              "      <td>4</td>\n",
              "      <td>5</td>\n",
              "      <td>0</td>\n",
              "      <td>261</td>\n",
              "      <td>1</td>\n",
              "      <td>-1</td>\n",
              "      <td>0</td>\n",
              "      <td>0</td>\n",
              "    </tr>\n",
              "    <tr>\n",
              "      <th>1</th>\n",
              "      <td>44</td>\n",
              "      <td>1</td>\n",
              "      <td>1</td>\n",
              "      <td>1</td>\n",
              "      <td>0</td>\n",
              "      <td>29</td>\n",
              "      <td>1</td>\n",
              "      <td>0</td>\n",
              "      <td>4</td>\n",
              "      <td>5</td>\n",
              "      <td>0</td>\n",
              "      <td>151</td>\n",
              "      <td>1</td>\n",
              "      <td>-1</td>\n",
              "      <td>0</td>\n",
              "      <td>0</td>\n",
              "    </tr>\n",
              "    <tr>\n",
              "      <th>2</th>\n",
              "      <td>33</td>\n",
              "      <td>2</td>\n",
              "      <td>0</td>\n",
              "      <td>1</td>\n",
              "      <td>0</td>\n",
              "      <td>2</td>\n",
              "      <td>1</td>\n",
              "      <td>1</td>\n",
              "      <td>4</td>\n",
              "      <td>5</td>\n",
              "      <td>0</td>\n",
              "      <td>76</td>\n",
              "      <td>1</td>\n",
              "      <td>-1</td>\n",
              "      <td>0</td>\n",
              "      <td>0</td>\n",
              "    </tr>\n",
              "    <tr>\n",
              "      <th>3</th>\n",
              "      <td>47</td>\n",
              "      <td>3</td>\n",
              "      <td>0</td>\n",
              "      <td>4</td>\n",
              "      <td>0</td>\n",
              "      <td>1506</td>\n",
              "      <td>1</td>\n",
              "      <td>0</td>\n",
              "      <td>4</td>\n",
              "      <td>5</td>\n",
              "      <td>0</td>\n",
              "      <td>92</td>\n",
              "      <td>1</td>\n",
              "      <td>-1</td>\n",
              "      <td>0</td>\n",
              "      <td>0</td>\n",
              "    </tr>\n",
              "    <tr>\n",
              "      <th>4</th>\n",
              "      <td>33</td>\n",
              "      <td>4</td>\n",
              "      <td>1</td>\n",
              "      <td>4</td>\n",
              "      <td>0</td>\n",
              "      <td>1</td>\n",
              "      <td>0</td>\n",
              "      <td>0</td>\n",
              "      <td>4</td>\n",
              "      <td>5</td>\n",
              "      <td>0</td>\n",
              "      <td>198</td>\n",
              "      <td>1</td>\n",
              "      <td>-1</td>\n",
              "      <td>0</td>\n",
              "      <td>0</td>\n",
              "    </tr>\n",
              "  </tbody>\n",
              "</table>\n",
              "</div>"
            ],
            "text/plain": [
              "   idade  ocupação  estado civil  educação  ...  campanha  pdias  anteriores  y\n",
              "0     58         0             0         0  ...         1     -1           0  0\n",
              "1     44         1             1         1  ...         1     -1           0  0\n",
              "2     33         2             0         1  ...         1     -1           0  0\n",
              "3     47         3             0         4  ...         1     -1           0  0\n",
              "4     33         4             1         4  ...         1     -1           0  0\n",
              "\n",
              "[5 rows x 16 columns]"
            ]
          },
          "metadata": {
            "tags": []
          },
          "execution_count": 28
        }
      ]
    },
    {
      "cell_type": "code",
      "metadata": {
        "colab": {
          "base_uri": "https://localhost:8080/"
        },
        "id": "ujFTp4hpx6KB",
        "outputId": "d642e6f8-a5f2-44a9-b224-d32cf47247a8"
      },
      "source": [
        "df_modelo = df_tratado[['idade', \n",
        "                        'ocupação', \n",
        "                        'estado civil', \n",
        "                        'educação', \n",
        "                        'inadimplente', \n",
        "                        'saldo', \n",
        "                        'aluguel', \n",
        "                        'empréstimo', \n",
        "                        'campanha', \n",
        "                        'pdias', \n",
        "                        'anteriores', \n",
        "                        'y']]\n",
        "df_modelo"
      ],
      "execution_count": null,
      "outputs": [
        {
          "output_type": "execute_result",
          "data": {
            "text/html": [
              "<div>\n",
              "<style scoped>\n",
              "    .dataframe tbody tr th:only-of-type {\n",
              "        vertical-align: middle;\n",
              "    }\n",
              "\n",
              "    .dataframe tbody tr th {\n",
              "        vertical-align: top;\n",
              "    }\n",
              "\n",
              "    .dataframe thead th {\n",
              "        text-align: right;\n",
              "    }\n",
              "</style>\n",
              "<table border=\"1\" class=\"dataframe\">\n",
              "  <thead>\n",
              "    <tr style=\"text-align: right;\">\n",
              "      <th></th>\n",
              "      <th>idade</th>\n",
              "      <th>ocupação</th>\n",
              "      <th>estado civil</th>\n",
              "      <th>educação</th>\n",
              "      <th>inadimplente</th>\n",
              "      <th>saldo</th>\n",
              "      <th>aluguel</th>\n",
              "      <th>empréstimo</th>\n",
              "      <th>campanha</th>\n",
              "      <th>pdias</th>\n",
              "      <th>anteriores</th>\n",
              "      <th>y</th>\n",
              "    </tr>\n",
              "  </thead>\n",
              "  <tbody>\n",
              "    <tr>\n",
              "      <th>0</th>\n",
              "      <td>58</td>\n",
              "      <td>0</td>\n",
              "      <td>0</td>\n",
              "      <td>0</td>\n",
              "      <td>0</td>\n",
              "      <td>2143</td>\n",
              "      <td>1</td>\n",
              "      <td>0</td>\n",
              "      <td>1</td>\n",
              "      <td>-1</td>\n",
              "      <td>0</td>\n",
              "      <td>0</td>\n",
              "    </tr>\n",
              "    <tr>\n",
              "      <th>1</th>\n",
              "      <td>44</td>\n",
              "      <td>1</td>\n",
              "      <td>1</td>\n",
              "      <td>1</td>\n",
              "      <td>0</td>\n",
              "      <td>29</td>\n",
              "      <td>1</td>\n",
              "      <td>0</td>\n",
              "      <td>1</td>\n",
              "      <td>-1</td>\n",
              "      <td>0</td>\n",
              "      <td>0</td>\n",
              "    </tr>\n",
              "    <tr>\n",
              "      <th>2</th>\n",
              "      <td>33</td>\n",
              "      <td>2</td>\n",
              "      <td>0</td>\n",
              "      <td>1</td>\n",
              "      <td>0</td>\n",
              "      <td>2</td>\n",
              "      <td>1</td>\n",
              "      <td>1</td>\n",
              "      <td>1</td>\n",
              "      <td>-1</td>\n",
              "      <td>0</td>\n",
              "      <td>0</td>\n",
              "    </tr>\n",
              "    <tr>\n",
              "      <th>3</th>\n",
              "      <td>47</td>\n",
              "      <td>3</td>\n",
              "      <td>0</td>\n",
              "      <td>4</td>\n",
              "      <td>0</td>\n",
              "      <td>1506</td>\n",
              "      <td>1</td>\n",
              "      <td>0</td>\n",
              "      <td>1</td>\n",
              "      <td>-1</td>\n",
              "      <td>0</td>\n",
              "      <td>0</td>\n",
              "    </tr>\n",
              "    <tr>\n",
              "      <th>4</th>\n",
              "      <td>33</td>\n",
              "      <td>4</td>\n",
              "      <td>1</td>\n",
              "      <td>4</td>\n",
              "      <td>0</td>\n",
              "      <td>1</td>\n",
              "      <td>0</td>\n",
              "      <td>0</td>\n",
              "      <td>1</td>\n",
              "      <td>-1</td>\n",
              "      <td>0</td>\n",
              "      <td>0</td>\n",
              "    </tr>\n",
              "    <tr>\n",
              "      <th>...</th>\n",
              "      <td>...</td>\n",
              "      <td>...</td>\n",
              "      <td>...</td>\n",
              "      <td>...</td>\n",
              "      <td>...</td>\n",
              "      <td>...</td>\n",
              "      <td>...</td>\n",
              "      <td>...</td>\n",
              "      <td>...</td>\n",
              "      <td>...</td>\n",
              "      <td>...</td>\n",
              "      <td>...</td>\n",
              "    </tr>\n",
              "    <tr>\n",
              "      <th>45206</th>\n",
              "      <td>51</td>\n",
              "      <td>1</td>\n",
              "      <td>0</td>\n",
              "      <td>0</td>\n",
              "      <td>0</td>\n",
              "      <td>825</td>\n",
              "      <td>0</td>\n",
              "      <td>0</td>\n",
              "      <td>3</td>\n",
              "      <td>-1</td>\n",
              "      <td>0</td>\n",
              "      <td>1</td>\n",
              "    </tr>\n",
              "    <tr>\n",
              "      <th>45207</th>\n",
              "      <td>71</td>\n",
              "      <td>5</td>\n",
              "      <td>2</td>\n",
              "      <td>3</td>\n",
              "      <td>0</td>\n",
              "      <td>1729</td>\n",
              "      <td>0</td>\n",
              "      <td>0</td>\n",
              "      <td>2</td>\n",
              "      <td>-1</td>\n",
              "      <td>0</td>\n",
              "      <td>1</td>\n",
              "    </tr>\n",
              "    <tr>\n",
              "      <th>45208</th>\n",
              "      <td>72</td>\n",
              "      <td>5</td>\n",
              "      <td>0</td>\n",
              "      <td>1</td>\n",
              "      <td>0</td>\n",
              "      <td>5715</td>\n",
              "      <td>0</td>\n",
              "      <td>0</td>\n",
              "      <td>5</td>\n",
              "      <td>184</td>\n",
              "      <td>3</td>\n",
              "      <td>1</td>\n",
              "    </tr>\n",
              "    <tr>\n",
              "      <th>45209</th>\n",
              "      <td>57</td>\n",
              "      <td>3</td>\n",
              "      <td>0</td>\n",
              "      <td>1</td>\n",
              "      <td>0</td>\n",
              "      <td>668</td>\n",
              "      <td>0</td>\n",
              "      <td>0</td>\n",
              "      <td>4</td>\n",
              "      <td>-1</td>\n",
              "      <td>0</td>\n",
              "      <td>0</td>\n",
              "    </tr>\n",
              "    <tr>\n",
              "      <th>45210</th>\n",
              "      <td>37</td>\n",
              "      <td>2</td>\n",
              "      <td>0</td>\n",
              "      <td>1</td>\n",
              "      <td>0</td>\n",
              "      <td>2971</td>\n",
              "      <td>0</td>\n",
              "      <td>0</td>\n",
              "      <td>2</td>\n",
              "      <td>188</td>\n",
              "      <td>11</td>\n",
              "      <td>0</td>\n",
              "    </tr>\n",
              "  </tbody>\n",
              "</table>\n",
              "<p>45211 rows × 12 columns</p>\n",
              "</div>"
            ],
            "text/plain": [
              "       idade  ocupação  estado civil  educação  ...  campanha  pdias  anteriores  y\n",
              "0         58         0             0         0  ...         1     -1           0  0\n",
              "1         44         1             1         1  ...         1     -1           0  0\n",
              "2         33         2             0         1  ...         1     -1           0  0\n",
              "3         47         3             0         4  ...         1     -1           0  0\n",
              "4         33         4             1         4  ...         1     -1           0  0\n",
              "...      ...       ...           ...       ...  ...       ...    ...         ... ..\n",
              "45206     51         1             0         0  ...         3     -1           0  1\n",
              "45207     71         5             2         3  ...         2     -1           0  1\n",
              "45208     72         5             0         1  ...         5    184           3  1\n",
              "45209     57         3             0         1  ...         4     -1           0  0\n",
              "45210     37         2             0         1  ...         2    188          11  0\n",
              "\n",
              "[45211 rows x 12 columns]"
            ]
          },
          "metadata": {
            "tags": []
          },
          "execution_count": 29
        }
      ]
    },
    {
      "cell_type": "markdown",
      "metadata": {
        "id": "QIcIVBTqDq0k"
      },
      "source": [
        "### Controle dos DataFrames\n",
        "**df**: contém os dados qualitativos em Português-brasileiro; <p>\n",
        "**df_sn**: contém os dados qualitativos em Português-brasileiro, com exceção dos atributos binários, presentes como 0 e 1. <p>\n",
        "**df_alvo**: contém os dados qualitativos em Português-brasileiro da amostra de adesão; <p>\n",
        "**df_tratado**: contém os dados em forma quantitativa <p>\n",
        "**df_modelo**: contém os dados previsíveis pré-ligação, para ser utilizado nos modelos preditivos, em forma quantitativa"
      ]
    },
    {
      "cell_type": "markdown",
      "metadata": {
        "id": "pbD0sk1q4DNw"
      },
      "source": [
        "### Descrição do DataFrame"
      ]
    },
    {
      "cell_type": "code",
      "metadata": {
        "colab": {
          "base_uri": "https://localhost:8080/"
        },
        "id": "QXIq3PVQCDBh",
        "outputId": "1b59c68f-be05-44da-ebdb-0fd74b0c81d0"
      },
      "source": [
        "print(f'Adesões ({df_alvo.shape[0]}) vs. Não adesões ({df.shape[0] - df_alvo.shape[0]})')"
      ],
      "execution_count": null,
      "outputs": [
        {
          "output_type": "stream",
          "text": [
            "Adesões (5289) vs. Não adesões (39922)\n"
          ],
          "name": "stdout"
        }
      ]
    },
    {
      "cell_type": "code",
      "metadata": {
        "colab": {
          "base_uri": "https://localhost:8080/",
          "height": 299
        },
        "id": "diz5ShAWP91P",
        "outputId": "90b89fe7-9051-4d0f-8347-b83a44fdfac0"
      },
      "source": [
        "df.describe()"
      ],
      "execution_count": null,
      "outputs": [
        {
          "output_type": "execute_result",
          "data": {
            "text/html": [
              "<div>\n",
              "<style scoped>\n",
              "    .dataframe tbody tr th:only-of-type {\n",
              "        vertical-align: middle;\n",
              "    }\n",
              "\n",
              "    .dataframe tbody tr th {\n",
              "        vertical-align: top;\n",
              "    }\n",
              "\n",
              "    .dataframe thead th {\n",
              "        text-align: right;\n",
              "    }\n",
              "</style>\n",
              "<table border=\"1\" class=\"dataframe\">\n",
              "  <thead>\n",
              "    <tr style=\"text-align: right;\">\n",
              "      <th></th>\n",
              "      <th>idade</th>\n",
              "      <th>saldo</th>\n",
              "      <th>dia do mês</th>\n",
              "      <th>duração</th>\n",
              "      <th>campanha</th>\n",
              "      <th>pdias</th>\n",
              "      <th>anteriores</th>\n",
              "    </tr>\n",
              "  </thead>\n",
              "  <tbody>\n",
              "    <tr>\n",
              "      <th>count</th>\n",
              "      <td>45211.000000</td>\n",
              "      <td>45211.000000</td>\n",
              "      <td>45211.000000</td>\n",
              "      <td>45211.000000</td>\n",
              "      <td>45211.000000</td>\n",
              "      <td>45211.000000</td>\n",
              "      <td>45211.000000</td>\n",
              "    </tr>\n",
              "    <tr>\n",
              "      <th>mean</th>\n",
              "      <td>40.936210</td>\n",
              "      <td>1362.272058</td>\n",
              "      <td>15.806419</td>\n",
              "      <td>258.163080</td>\n",
              "      <td>2.763841</td>\n",
              "      <td>40.197828</td>\n",
              "      <td>0.580323</td>\n",
              "    </tr>\n",
              "    <tr>\n",
              "      <th>std</th>\n",
              "      <td>10.618762</td>\n",
              "      <td>3044.765829</td>\n",
              "      <td>8.322476</td>\n",
              "      <td>257.527812</td>\n",
              "      <td>3.098021</td>\n",
              "      <td>100.128746</td>\n",
              "      <td>2.303441</td>\n",
              "    </tr>\n",
              "    <tr>\n",
              "      <th>min</th>\n",
              "      <td>18.000000</td>\n",
              "      <td>-8019.000000</td>\n",
              "      <td>1.000000</td>\n",
              "      <td>0.000000</td>\n",
              "      <td>1.000000</td>\n",
              "      <td>-1.000000</td>\n",
              "      <td>0.000000</td>\n",
              "    </tr>\n",
              "    <tr>\n",
              "      <th>25%</th>\n",
              "      <td>33.000000</td>\n",
              "      <td>72.000000</td>\n",
              "      <td>8.000000</td>\n",
              "      <td>103.000000</td>\n",
              "      <td>1.000000</td>\n",
              "      <td>-1.000000</td>\n",
              "      <td>0.000000</td>\n",
              "    </tr>\n",
              "    <tr>\n",
              "      <th>50%</th>\n",
              "      <td>39.000000</td>\n",
              "      <td>448.000000</td>\n",
              "      <td>16.000000</td>\n",
              "      <td>180.000000</td>\n",
              "      <td>2.000000</td>\n",
              "      <td>-1.000000</td>\n",
              "      <td>0.000000</td>\n",
              "    </tr>\n",
              "    <tr>\n",
              "      <th>75%</th>\n",
              "      <td>48.000000</td>\n",
              "      <td>1428.000000</td>\n",
              "      <td>21.000000</td>\n",
              "      <td>319.000000</td>\n",
              "      <td>3.000000</td>\n",
              "      <td>-1.000000</td>\n",
              "      <td>0.000000</td>\n",
              "    </tr>\n",
              "    <tr>\n",
              "      <th>max</th>\n",
              "      <td>95.000000</td>\n",
              "      <td>102127.000000</td>\n",
              "      <td>31.000000</td>\n",
              "      <td>4918.000000</td>\n",
              "      <td>63.000000</td>\n",
              "      <td>871.000000</td>\n",
              "      <td>275.000000</td>\n",
              "    </tr>\n",
              "  </tbody>\n",
              "</table>\n",
              "</div>"
            ],
            "text/plain": [
              "              idade          saldo  ...         pdias    anteriores\n",
              "count  45211.000000   45211.000000  ...  45211.000000  45211.000000\n",
              "mean      40.936210    1362.272058  ...     40.197828      0.580323\n",
              "std       10.618762    3044.765829  ...    100.128746      2.303441\n",
              "min       18.000000   -8019.000000  ...     -1.000000      0.000000\n",
              "25%       33.000000      72.000000  ...     -1.000000      0.000000\n",
              "50%       39.000000     448.000000  ...     -1.000000      0.000000\n",
              "75%       48.000000    1428.000000  ...     -1.000000      0.000000\n",
              "max       95.000000  102127.000000  ...    871.000000    275.000000\n",
              "\n",
              "[8 rows x 7 columns]"
            ]
          },
          "metadata": {
            "tags": []
          },
          "execution_count": 31
        }
      ]
    },
    {
      "cell_type": "code",
      "metadata": {
        "colab": {
          "base_uri": "https://localhost:8080/",
          "height": 143
        },
        "id": "nVIiQC7b5VU9",
        "outputId": "b68e8f2d-f0fa-4677-f995-8ca3a531f3f9"
      },
      "source": [
        "df.groupby('y').mean()"
      ],
      "execution_count": null,
      "outputs": [
        {
          "output_type": "execute_result",
          "data": {
            "text/html": [
              "<div>\n",
              "<style scoped>\n",
              "    .dataframe tbody tr th:only-of-type {\n",
              "        vertical-align: middle;\n",
              "    }\n",
              "\n",
              "    .dataframe tbody tr th {\n",
              "        vertical-align: top;\n",
              "    }\n",
              "\n",
              "    .dataframe thead th {\n",
              "        text-align: right;\n",
              "    }\n",
              "</style>\n",
              "<table border=\"1\" class=\"dataframe\">\n",
              "  <thead>\n",
              "    <tr style=\"text-align: right;\">\n",
              "      <th></th>\n",
              "      <th>idade</th>\n",
              "      <th>saldo</th>\n",
              "      <th>dia do mês</th>\n",
              "      <th>duração</th>\n",
              "      <th>campanha</th>\n",
              "      <th>pdias</th>\n",
              "      <th>anteriores</th>\n",
              "    </tr>\n",
              "    <tr>\n",
              "      <th>y</th>\n",
              "      <th></th>\n",
              "      <th></th>\n",
              "      <th></th>\n",
              "      <th></th>\n",
              "      <th></th>\n",
              "      <th></th>\n",
              "      <th></th>\n",
              "    </tr>\n",
              "  </thead>\n",
              "  <tbody>\n",
              "    <tr>\n",
              "      <th>não</th>\n",
              "      <td>40.838986</td>\n",
              "      <td>1303.714969</td>\n",
              "      <td>15.892290</td>\n",
              "      <td>221.182806</td>\n",
              "      <td>2.846350</td>\n",
              "      <td>36.421372</td>\n",
              "      <td>0.502154</td>\n",
              "    </tr>\n",
              "    <tr>\n",
              "      <th>sim</th>\n",
              "      <td>41.670070</td>\n",
              "      <td>1804.267915</td>\n",
              "      <td>15.158253</td>\n",
              "      <td>537.294574</td>\n",
              "      <td>2.141047</td>\n",
              "      <td>68.702968</td>\n",
              "      <td>1.170354</td>\n",
              "    </tr>\n",
              "  </tbody>\n",
              "</table>\n",
              "</div>"
            ],
            "text/plain": [
              "         idade        saldo  dia do mês  ...  campanha      pdias  anteriores\n",
              "y                                        ...                                 \n",
              "não  40.838986  1303.714969   15.892290  ...  2.846350  36.421372    0.502154\n",
              "sim  41.670070  1804.267915   15.158253  ...  2.141047  68.702968    1.170354\n",
              "\n",
              "[2 rows x 7 columns]"
            ]
          },
          "metadata": {
            "tags": []
          },
          "execution_count": 32
        }
      ]
    },
    {
      "cell_type": "code",
      "metadata": {
        "colab": {
          "base_uri": "https://localhost:8080/",
          "height": 455
        },
        "id": "aX4c0Xuv5wMi",
        "outputId": "faf0761a-58ae-403a-b822-17cf11370fa8"
      },
      "source": [
        "proporcao_adesao(df_sn, 'ocupação', 'y')"
      ],
      "execution_count": null,
      "outputs": [
        {
          "output_type": "execute_result",
          "data": {
            "text/html": [
              "<div>\n",
              "<style scoped>\n",
              "    .dataframe tbody tr th:only-of-type {\n",
              "        vertical-align: middle;\n",
              "    }\n",
              "\n",
              "    .dataframe tbody tr th {\n",
              "        vertical-align: top;\n",
              "    }\n",
              "\n",
              "    .dataframe thead th {\n",
              "        text-align: right;\n",
              "    }\n",
              "</style>\n",
              "<table border=\"1\" class=\"dataframe\">\n",
              "  <thead>\n",
              "    <tr style=\"text-align: right;\">\n",
              "      <th></th>\n",
              "      <th>y</th>\n",
              "    </tr>\n",
              "    <tr>\n",
              "      <th>ocupação</th>\n",
              "      <th></th>\n",
              "    </tr>\n",
              "  </thead>\n",
              "  <tbody>\n",
              "    <tr>\n",
              "      <th>administrativo(a)</th>\n",
              "      <td>0.122027</td>\n",
              "    </tr>\n",
              "    <tr>\n",
              "      <th>aposentado(a)</th>\n",
              "      <td>0.227915</td>\n",
              "    </tr>\n",
              "    <tr>\n",
              "      <th>autônomo(a)</th>\n",
              "      <td>0.118429</td>\n",
              "    </tr>\n",
              "    <tr>\n",
              "      <th>desconhecido</th>\n",
              "      <td>0.118056</td>\n",
              "    </tr>\n",
              "    <tr>\n",
              "      <th>desempregado(a)</th>\n",
              "      <td>0.155027</td>\n",
              "    </tr>\n",
              "    <tr>\n",
              "      <th>doméstico(a)</th>\n",
              "      <td>0.087903</td>\n",
              "    </tr>\n",
              "    <tr>\n",
              "      <th>empreendedor(a)</th>\n",
              "      <td>0.082717</td>\n",
              "    </tr>\n",
              "    <tr>\n",
              "      <th>estudante</th>\n",
              "      <td>0.286780</td>\n",
              "    </tr>\n",
              "    <tr>\n",
              "      <th>gestor(a)</th>\n",
              "      <td>0.137556</td>\n",
              "    </tr>\n",
              "    <tr>\n",
              "      <th>operário(a)</th>\n",
              "      <td>0.072750</td>\n",
              "    </tr>\n",
              "    <tr>\n",
              "      <th>servidor(a)</th>\n",
              "      <td>0.088830</td>\n",
              "    </tr>\n",
              "    <tr>\n",
              "      <th>técnico(a)</th>\n",
              "      <td>0.110570</td>\n",
              "    </tr>\n",
              "  </tbody>\n",
              "</table>\n",
              "</div>"
            ],
            "text/plain": [
              "                          y\n",
              "ocupação                   \n",
              "administrativo(a)  0.122027\n",
              "aposentado(a)      0.227915\n",
              "autônomo(a)        0.118429\n",
              "desconhecido       0.118056\n",
              "desempregado(a)    0.155027\n",
              "doméstico(a)       0.087903\n",
              "empreendedor(a)    0.082717\n",
              "estudante          0.286780\n",
              "gestor(a)          0.137556\n",
              "operário(a)        0.072750\n",
              "servidor(a)        0.088830\n",
              "técnico(a)         0.110570"
            ]
          },
          "metadata": {
            "tags": []
          },
          "execution_count": 33
        }
      ]
    },
    {
      "cell_type": "code",
      "metadata": {
        "colab": {
          "base_uri": "https://localhost:8080/",
          "height": 205
        },
        "id": "5vUUDn916Vr-",
        "outputId": "8c08f526-fc8a-4b08-ac71-6ef54fbc91f6"
      },
      "source": [
        "proporcao_adesao(df_sn, 'educação', 'y')"
      ],
      "execution_count": null,
      "outputs": [
        {
          "output_type": "execute_result",
          "data": {
            "text/html": [
              "<div>\n",
              "<style scoped>\n",
              "    .dataframe tbody tr th:only-of-type {\n",
              "        vertical-align: middle;\n",
              "    }\n",
              "\n",
              "    .dataframe tbody tr th {\n",
              "        vertical-align: top;\n",
              "    }\n",
              "\n",
              "    .dataframe thead th {\n",
              "        text-align: right;\n",
              "    }\n",
              "</style>\n",
              "<table border=\"1\" class=\"dataframe\">\n",
              "  <thead>\n",
              "    <tr style=\"text-align: right;\">\n",
              "      <th></th>\n",
              "      <th>y</th>\n",
              "    </tr>\n",
              "    <tr>\n",
              "      <th>educação</th>\n",
              "      <th></th>\n",
              "    </tr>\n",
              "  </thead>\n",
              "  <tbody>\n",
              "    <tr>\n",
              "      <th>desconhecido</th>\n",
              "      <td>0.135703</td>\n",
              "    </tr>\n",
              "    <tr>\n",
              "      <th>ensino fundamental</th>\n",
              "      <td>0.086265</td>\n",
              "    </tr>\n",
              "    <tr>\n",
              "      <th>ensino médio</th>\n",
              "      <td>0.105594</td>\n",
              "    </tr>\n",
              "    <tr>\n",
              "      <th>ensino superior</th>\n",
              "      <td>0.150064</td>\n",
              "    </tr>\n",
              "  </tbody>\n",
              "</table>\n",
              "</div>"
            ],
            "text/plain": [
              "                           y\n",
              "educação                    \n",
              "desconhecido        0.135703\n",
              "ensino fundamental  0.086265\n",
              "ensino médio        0.105594\n",
              "ensino superior     0.150064"
            ]
          },
          "metadata": {
            "tags": []
          },
          "execution_count": 34
        }
      ]
    },
    {
      "cell_type": "code",
      "metadata": {
        "colab": {
          "base_uri": "https://localhost:8080/",
          "height": 175
        },
        "id": "Ifc92zKO-FyK",
        "outputId": "1fda4192-8f6f-4ec9-c1f8-0d0f4dea6d31"
      },
      "source": [
        "proporcao_adesao(df_sn, 'estado civil', 'y')"
      ],
      "execution_count": null,
      "outputs": [
        {
          "output_type": "execute_result",
          "data": {
            "text/html": [
              "<div>\n",
              "<style scoped>\n",
              "    .dataframe tbody tr th:only-of-type {\n",
              "        vertical-align: middle;\n",
              "    }\n",
              "\n",
              "    .dataframe tbody tr th {\n",
              "        vertical-align: top;\n",
              "    }\n",
              "\n",
              "    .dataframe thead th {\n",
              "        text-align: right;\n",
              "    }\n",
              "</style>\n",
              "<table border=\"1\" class=\"dataframe\">\n",
              "  <thead>\n",
              "    <tr style=\"text-align: right;\">\n",
              "      <th></th>\n",
              "      <th>y</th>\n",
              "    </tr>\n",
              "    <tr>\n",
              "      <th>estado civil</th>\n",
              "      <th></th>\n",
              "    </tr>\n",
              "  </thead>\n",
              "  <tbody>\n",
              "    <tr>\n",
              "      <th>casado(a)</th>\n",
              "      <td>0.101235</td>\n",
              "    </tr>\n",
              "    <tr>\n",
              "      <th>divorciado(a)</th>\n",
              "      <td>0.119455</td>\n",
              "    </tr>\n",
              "    <tr>\n",
              "      <th>solteiro(a)</th>\n",
              "      <td>0.149492</td>\n",
              "    </tr>\n",
              "  </tbody>\n",
              "</table>\n",
              "</div>"
            ],
            "text/plain": [
              "                      y\n",
              "estado civil           \n",
              "casado(a)      0.101235\n",
              "divorciado(a)  0.119455\n",
              "solteiro(a)    0.149492"
            ]
          },
          "metadata": {
            "tags": []
          },
          "execution_count": 35
        }
      ]
    },
    {
      "cell_type": "code",
      "metadata": {
        "colab": {
          "base_uri": "https://localhost:8080/",
          "height": 143
        },
        "id": "uCFy4pbmW0et",
        "outputId": "2c4b45d7-f733-45c9-ba8c-141777c5dff8"
      },
      "source": [
        "proporcao_adesao(df_sn, 'aluguel', 'y')"
      ],
      "execution_count": null,
      "outputs": [
        {
          "output_type": "execute_result",
          "data": {
            "text/html": [
              "<div>\n",
              "<style scoped>\n",
              "    .dataframe tbody tr th:only-of-type {\n",
              "        vertical-align: middle;\n",
              "    }\n",
              "\n",
              "    .dataframe tbody tr th {\n",
              "        vertical-align: top;\n",
              "    }\n",
              "\n",
              "    .dataframe thead th {\n",
              "        text-align: right;\n",
              "    }\n",
              "</style>\n",
              "<table border=\"1\" class=\"dataframe\">\n",
              "  <thead>\n",
              "    <tr style=\"text-align: right;\">\n",
              "      <th></th>\n",
              "      <th>y</th>\n",
              "    </tr>\n",
              "    <tr>\n",
              "      <th>aluguel</th>\n",
              "      <th></th>\n",
              "    </tr>\n",
              "  </thead>\n",
              "  <tbody>\n",
              "    <tr>\n",
              "      <th>0</th>\n",
              "      <td>0.167024</td>\n",
              "    </tr>\n",
              "    <tr>\n",
              "      <th>1</th>\n",
              "      <td>0.077000</td>\n",
              "    </tr>\n",
              "  </tbody>\n",
              "</table>\n",
              "</div>"
            ],
            "text/plain": [
              "                y\n",
              "aluguel          \n",
              "0        0.167024\n",
              "1        0.077000"
            ]
          },
          "metadata": {
            "tags": []
          },
          "execution_count": 36
        }
      ]
    },
    {
      "cell_type": "code",
      "metadata": {
        "colab": {
          "base_uri": "https://localhost:8080/",
          "height": 143
        },
        "id": "QyqsQjYIW7ll",
        "outputId": "9eac2203-a6a0-4e54-bedb-889804599f3d"
      },
      "source": [
        "proporcao_adesao(df_sn, 'inadimplente', 'y')"
      ],
      "execution_count": null,
      "outputs": [
        {
          "output_type": "execute_result",
          "data": {
            "text/html": [
              "<div>\n",
              "<style scoped>\n",
              "    .dataframe tbody tr th:only-of-type {\n",
              "        vertical-align: middle;\n",
              "    }\n",
              "\n",
              "    .dataframe tbody tr th {\n",
              "        vertical-align: top;\n",
              "    }\n",
              "\n",
              "    .dataframe thead th {\n",
              "        text-align: right;\n",
              "    }\n",
              "</style>\n",
              "<table border=\"1\" class=\"dataframe\">\n",
              "  <thead>\n",
              "    <tr style=\"text-align: right;\">\n",
              "      <th></th>\n",
              "      <th>y</th>\n",
              "    </tr>\n",
              "    <tr>\n",
              "      <th>inadimplente</th>\n",
              "      <th></th>\n",
              "    </tr>\n",
              "  </thead>\n",
              "  <tbody>\n",
              "    <tr>\n",
              "      <th>0</th>\n",
              "      <td>0.117961</td>\n",
              "    </tr>\n",
              "    <tr>\n",
              "      <th>1</th>\n",
              "      <td>0.063804</td>\n",
              "    </tr>\n",
              "  </tbody>\n",
              "</table>\n",
              "</div>"
            ],
            "text/plain": [
              "                     y\n",
              "inadimplente          \n",
              "0             0.117961\n",
              "1             0.063804"
            ]
          },
          "metadata": {
            "tags": []
          },
          "execution_count": 37
        }
      ]
    },
    {
      "cell_type": "markdown",
      "metadata": {
        "id": "MwCKKat1aYy6"
      },
      "source": [
        "## Análise descritiva do público-alvo"
      ]
    },
    {
      "cell_type": "markdown",
      "metadata": {
        "id": "j6ew0DiCelWP"
      },
      "source": [
        "Nesta seção, a amostra de mais de 40 mil pessoas será analisada estatisticamente, com o intuito de realizar um panorama para conhecer melhor o público-alvo."
      ]
    },
    {
      "cell_type": "markdown",
      "metadata": {
        "id": "eJJruKv_ZuAB"
      },
      "source": [
        "### Adesão"
      ]
    },
    {
      "cell_type": "code",
      "metadata": {
        "id": "uyNorbqZwI6R",
        "colab": {
          "base_uri": "https://localhost:8080/",
          "height": 283
        },
        "outputId": "070d818a-c8ec-4d40-93a7-9161671eeaf7"
      },
      "source": [
        "tamanho = (3,4)\n",
        "plotar_histograma(df, 'y', tamanho, 'Adesão dos clientes à campanha de marketing', cor='m')"
      ],
      "execution_count": null,
      "outputs": [
        {
          "output_type": "display_data",
          "data": {
            "image/png": "[encoded data removed]",
            "text/plain": [
              "<Figure size 216x288 with 1 Axes>"
            ]
          },
          "metadata": {
            "tags": []
          }
        }
      ]
    },
    {
      "cell_type": "markdown",
      "metadata": {
        "id": "f1RNrr6FTBZa"
      },
      "source": [
        "### Educação"
      ]
    },
    {
      "cell_type": "code",
      "metadata": {
        "id": "BlFxrzTWsvkO",
        "colab": {
          "base_uri": "https://localhost:8080/",
          "height": 549
        },
        "outputId": "79617974-9487-4f0c-bb43-4bb45fdd813c"
      },
      "source": [
        "tamanho = (7,4)\n",
        "plotar_histograma(df, 'educação', tamanho, 'Nível de educação dos clientes contatados', cor='black')\n",
        "plotar_histograma(df_alvo, 'educação', tamanho, 'Nível de educação dos clientes que aderiram', cor='black')"
      ],
      "execution_count": null,
      "outputs": [
        {
          "output_type": "display_data",
          "data": {
            "image/png": "[encoded data removed]",
            "text/plain": [
              "<Figure size 504x288 with 1 Axes>"
            ]
          },
          "metadata": {
            "tags": []
          }
        },
        {
          "output_type": "display_data",
          "data": {
            "image/png": "[encoded data removed]",
            "text/plain": [
              "<Figure size 504x288 with 1 Axes>"
            ]
          },
          "metadata": {
            "tags": []
          }
        }
      ]
    },
    {
      "cell_type": "markdown",
      "metadata": {
        "id": "FaIRy7z5TK3W"
      },
      "source": [
        "### Ocupação"
      ]
    },
    {
      "cell_type": "markdown",
      "metadata": {
        "id": "R3z2DLwQKi2o"
      },
      "source": [
        "Percebe-se que gestores e estudantes estão mais propensos a aderir à campanha do que operários e domésticos, por exemplo."
      ]
    },
    {
      "cell_type": "code",
      "metadata": {
        "id": "elGjqdbdvKUC",
        "colab": {
          "base_uri": "https://localhost:8080/",
          "height": 505
        },
        "outputId": "3b33b67b-6a77-4c67-e543-12bd5cb30c29"
      },
      "source": [
        "tamanho = (21,4)\n",
        "plotar_histograma(df, 'ocupação', tamanho, 'Ocupação dos clientes contatados')\n",
        "plotar_histograma(df_alvo, 'ocupação', tamanho, 'Ocupação dos clientes que aderiram')"
      ],
      "execution_count": null,
      "outputs": [
        {
          "output_type": "display_data",
          "data": {
            "image/png": "[encoded data removed]",
            "text/plain": [
              "<Figure size 1512x288 with 1 Axes>"
            ]
          },
          "metadata": {
            "tags": []
          }
        },
        {
          "output_type": "display_data",
          "data": {
            "image/png": "[encoded data removed]",
            "text/plain": [
              "<Figure size 1512x288 with 1 Axes>"
            ]
          },
          "metadata": {
            "tags": []
          }
        }
      ]
    },
    {
      "cell_type": "markdown",
      "metadata": {
        "id": "AOXo8ByVTTtN"
      },
      "source": [
        "### Estado civil"
      ]
    },
    {
      "cell_type": "code",
      "metadata": {
        "id": "YRf-RIEmxUpS",
        "colab": {
          "base_uri": "https://localhost:8080/",
          "height": 331
        },
        "outputId": "55f8e081-51c9-4b06-9479-e303b50a02e1"
      },
      "source": [
        "tamanho = (4,2)\n",
        "plotar_histograma(df, 'estado civil', tamanho, 'Estado civil dos clientes contatados', cor='yellow')\n",
        "plotar_histograma(df_alvo, 'estado civil', tamanho, 'Estado civil dos clientes que aderiram', cor='yellow')"
      ],
      "execution_count": null,
      "outputs": [
        {
          "output_type": "display_data",
          "data": {
            "image/png": "[encoded data removed]",
            "text/plain": [
              "<Figure size 288x144 with 1 Axes>"
            ]
          },
          "metadata": {
            "tags": []
          }
        },
        {
          "output_type": "display_data",
          "data": {
            "image/png": "[encoded data removed]",
            "text/plain": [
              "<Figure size 288x144 with 1 Axes>"
            ]
          },
          "metadata": {
            "tags": []
          }
        }
      ]
    },
    {
      "cell_type": "markdown",
      "metadata": {
        "id": "-7eaN0JdTj-B"
      },
      "source": [
        "### Aluguel"
      ]
    },
    {
      "cell_type": "code",
      "metadata": {
        "id": "SfjdZSY67TwH",
        "colab": {
          "base_uri": "https://localhost:8080/",
          "height": 439
        },
        "outputId": "6654f90d-7ea7-45cb-f05f-67bb22100b00"
      },
      "source": [
        "tamanho = (3,3)\n",
        "plotar_histograma(df, 'aluguel', tamanho, 'Aluguel dos clientes contatados', cor='orange')\n",
        "plotar_histograma(df_alvo, 'aluguel', tamanho, 'Aluguel dos clientes que aderiram', cor='orange')"
      ],
      "execution_count": null,
      "outputs": [
        {
          "output_type": "display_data",
          "data": {
            "image/png": "[encoded data removed]",
            "text/plain": [
              "<Figure size 216x216 with 1 Axes>"
            ]
          },
          "metadata": {
            "tags": []
          }
        },
        {
          "output_type": "display_data",
          "data": {
            "image/png": "[encoded data removed]",
            "text/plain": [
              "<Figure size 216x216 with 1 Axes>"
            ]
          },
          "metadata": {
            "tags": []
          }
        }
      ]
    },
    {
      "cell_type": "markdown",
      "metadata": {
        "id": "QeRACyDlTq0f"
      },
      "source": [
        "### Empréstimo"
      ]
    },
    {
      "cell_type": "code",
      "metadata": {
        "id": "mi4QsqO47cJQ",
        "colab": {
          "base_uri": "https://localhost:8080/",
          "height": 439
        },
        "outputId": "f8214b8e-c563-41dc-e369-9e57babc28da"
      },
      "source": [
        "tamanho = (3,3)\n",
        "plotar_histograma(df, 'empréstimo', tamanho, 'Empréstimo dos clientes contatados', cor='green')\n",
        "plotar_histograma(df_alvo, 'empréstimo', tamanho, 'Empréstimo dos clientes que aderiram', cor='green')"
      ],
      "execution_count": null,
      "outputs": [
        {
          "output_type": "display_data",
          "data": {
            "image/png": "[encoded data removed]",
            "text/plain": [
              "<Figure size 216x216 with 1 Axes>"
            ]
          },
          "metadata": {
            "tags": []
          }
        },
        {
          "output_type": "display_data",
          "data": {
            "image/png": "[encoded data removed]",
            "text/plain": [
              "<Figure size 216x216 with 1 Axes>"
            ]
          },
          "metadata": {
            "tags": []
          }
        }
      ]
    },
    {
      "cell_type": "markdown",
      "metadata": {
        "id": "-VePmmYQTxeb"
      },
      "source": [
        "### Mês de contato"
      ]
    },
    {
      "cell_type": "code",
      "metadata": {
        "id": "cS2LXPn5VEcK",
        "colab": {
          "base_uri": "https://localhost:8080/",
          "height": 765
        },
        "outputId": "18fd9d8c-6c9f-4cdb-ec1b-28ff7db43d5a"
      },
      "source": [
        "tamanho = (10,6)\n",
        "plotar_histograma(df, 'mês', tamanho, 'Mês de contato com os clientes', cor='turquoise')\n",
        "plotar_histograma(df_alvo, 'mês', tamanho, 'Mês de adesão dos clientes', cor='turquoise')"
      ],
      "execution_count": null,
      "outputs": [
        {
          "output_type": "display_data",
          "data": {
            "image/png": "[encoded data removed]",
            "text/plain": [
              "<Figure size 720x432 with 1 Axes>"
            ]
          },
          "metadata": {
            "tags": []
          }
        },
        {
          "output_type": "display_data",
          "data": {
            "image/png": "[encoded data removed]",
            "text/plain": [
              "<Figure size 720x432 with 1 Axes>"
            ]
          },
          "metadata": {
            "tags": []
          }
        }
      ]
    },
    {
      "cell_type": "markdown",
      "metadata": {
        "id": "lkhDPcF6UR0Q"
      },
      "source": [
        "### Dia de contato"
      ]
    },
    {
      "cell_type": "code",
      "metadata": {
        "id": "VqLMmqP7OOb-",
        "colab": {
          "base_uri": "https://localhost:8080/",
          "height": 983
        },
        "outputId": "86584236-f7fa-4ed4-fb82-c768c5aeace3"
      },
      "source": [
        "tamanho = (16,8)\n",
        "plotar_histograma(df, 'dia do mês', tamanho, 'Dia do mês de contato com os clientes', cor='navy')\n",
        "plotar_histograma(df_alvo, 'dia do mês', tamanho, 'Dia do mês de adesão dos clientes', cor='navy')"
      ],
      "execution_count": null,
      "outputs": [
        {
          "output_type": "display_data",
          "data": {
            "image/png": "[encoded data removed]",
            "text/plain": [
              "<Figure size 1152x576 with 1 Axes>"
            ]
          },
          "metadata": {
            "tags": []
          }
        },
        {
          "output_type": "display_data",
          "data": {
            "image/png": "[encoded data removed]",
            "text/plain": [
              "<Figure size 1152x576 with 1 Axes>"
            ]
          },
          "metadata": {
            "tags": []
          }
        }
      ]
    },
    {
      "cell_type": "markdown",
      "metadata": {
        "id": "wYqKKP5tJWov"
      },
      "source": [
        "### Ligações anteriores"
      ]
    },
    {
      "cell_type": "markdown",
      "metadata": {
        "id": "gNsLiTivJl8r"
      },
      "source": [
        "Percebe-se que insistência não traz resultados muito satisfatórios. São raros os casos em que um cliente aderiu a campanha depois da 10ª ligação."
      ]
    },
    {
      "cell_type": "code",
      "metadata": {
        "id": "AQ2DIxl4JWG7",
        "colab": {
          "base_uri": "https://localhost:8080/",
          "height": 355
        },
        "outputId": "f23d6a78-afb3-4d7d-fe68-9b7de243c934"
      },
      "source": [
        "plt.rcParams['figure.figsize']=8,5\n",
        "sns.scatterplot(x='idade', y='campanha', data=df, hue='y')"
      ],
      "execution_count": null,
      "outputs": [
        {
          "output_type": "execute_result",
          "data": {
            "text/plain": [
              "<matplotlib.axes._subplots.AxesSubplot at 0x7fd3558357d0>"
            ]
          },
          "metadata": {
            "tags": []
          },
          "execution_count": 46
        },
        {
          "output_type": "display_data",
          "data": {
            "image/png": "[encoded data removed]",
            "text/plain": [
              "<Figure size 576x360 with 1 Axes>"
            ]
          },
          "metadata": {
            "tags": []
          }
        }
      ]
    },
    {
      "cell_type": "markdown",
      "metadata": {
        "id": "8aqQq6iRU-Un"
      },
      "source": [
        "### Campanhas anteriores"
      ]
    },
    {
      "cell_type": "code",
      "metadata": {
        "id": "YYcFbertVXSB",
        "colab": {
          "base_uri": "https://localhost:8080/",
          "height": 547
        },
        "outputId": "1e4a6282-52c9-4649-ccf4-57513713bf41"
      },
      "source": [
        "tamanho = (5,4)\n",
        "plotar_histograma(df, 'resultado anterior', tamanho, 'Sucesso das campanhas anteriores', cor='firebrick')\n",
        "plotar_histograma(df_alvo, 'resultado anterior', tamanho, 'Sucesso das campanhas anteriores entre os usufruidores', cor='firebrick')"
      ],
      "execution_count": null,
      "outputs": [
        {
          "output_type": "display_data",
          "data": {
            "image/png": "[encoded data removed]",
            "text/plain": [
              "<Figure size 360x288 with 1 Axes>"
            ]
          },
          "metadata": {
            "tags": []
          }
        },
        {
          "output_type": "display_data",
          "data": {
            "image/png": "[encoded data removed]",
            "text/plain": [
              "<Figure size 360x288 with 1 Axes>"
            ]
          },
          "metadata": {
            "tags": []
          }
        }
      ]
    },
    {
      "cell_type": "markdown",
      "metadata": {
        "id": "jgV3qZkfVTb7"
      },
      "source": [
        "### Meio de contato"
      ]
    },
    {
      "cell_type": "code",
      "metadata": {
        "id": "F5dFAF0aWHjS",
        "colab": {
          "base_uri": "https://localhost:8080/",
          "height": 547
        },
        "outputId": "c57e8d2d-2fde-4c36-9f49-98e34a6969f8"
      },
      "source": [
        "tamanho = (3,4)\n",
        "plotar_histograma(df, 'contato', tamanho, 'Meio de contato com os clientes', cor='mediumseagreen')\n",
        "plotar_histograma(df_alvo, 'contato', tamanho, 'Meio de contato de adesão', cor='mediumseagreen')\n",
        "\n",
        "# A equipe de telemarketing poderia contatar os clientes por e-mail e investir em marketing no próprio site"
      ],
      "execution_count": null,
      "outputs": [
        {
          "output_type": "display_data",
          "data": {
            "image/png": "[encoded data removed]",
            "text/plain": [
              "<Figure size 216x288 with 1 Axes>"
            ]
          },
          "metadata": {
            "tags": []
          }
        },
        {
          "output_type": "display_data",
          "data": {
            "image/png": "[encoded data removed]",
            "text/plain": [
              "<Figure size 216x288 with 1 Axes>"
            ]
          },
          "metadata": {
            "tags": []
          }
        }
      ]
    },
    {
      "cell_type": "markdown",
      "metadata": {
        "id": "qHRmzaoJb4Ve"
      },
      "source": [
        "# Banco de dados"
      ]
    },
    {
      "cell_type": "markdown",
      "metadata": {
        "id": "dEnTBsltVGCz"
      },
      "source": [
        "Para criar um Banco de Dados precisamos da elaboração do Modelo Conceitual, Modelo Lógico e Modelo Físico. "
      ]
    },
    {
      "cell_type": "markdown",
      "metadata": {
        "id": "x17rp8yLPI5r"
      },
      "source": [
        "## Modelo Conceitual "
      ]
    },
    {
      "cell_type": "markdown",
      "metadata": {
        "id": "wmNuXSJrYbpa"
      },
      "source": [
        "O Modelo Conceitual é o primeiro passo para criação do Banco de Dados. Baseado no Dataset há três entidades, sendo elas, Campanha, Contato e Cliente. "
      ]
    },
    {
      "cell_type": "markdown",
      "metadata": {
        "id": "s4vMQXXBRfnj"
      },
      "source": [
        "![Projeto Final - Modelo Conceitual (1).png](data:image/png;base64,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)"
      ]
    },
    {
      "cell_type": "markdown",
      "metadata": {
        "id": "y5yg5ucxPIkP"
      },
      "source": [
        "## Modelo Lógico"
      ]
    },
    {
      "cell_type": "markdown",
      "metadata": {
        "id": "uOWlhgBMehZo"
      },
      "source": [
        "Com base no Modelo Conceitual criamos o Modelo Modelo Lógico, com as mesmas entidades e organizando os atributos."
      ]
    },
    {
      "cell_type": "markdown",
      "metadata": {
        "id": "l26kTUQEUMwD"
      },
      "source": [
        "![Projeto Final - Modelo Lógico.png](data:image/png;base64,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)"
      ]
    },
    {
      "cell_type": "markdown",
      "metadata": {
        "id": "fhVVwuzTUeUN"
      },
      "source": [
        "## Modelo Físico"
      ]
    },
    {
      "cell_type": "markdown",
      "metadata": {
        "id": "8wdQf06VffRY"
      },
      "source": [
        "Agora para a etapa final, iremos programar em SQLite junto com python, através da biblioteca **sqlite3**, aplicando o Modelo Lógico ao Modelo Físico. \n",
        "\n",
        "Para isso, criamos um script .py, chamado main.py."
      ]
    },
    {
      "cell_type": "markdown",
      "metadata": {
        "id": "xobGXVw_Ralq"
      },
      "source": [
        "### Código"
      ]
    },
    {
      "cell_type": "markdown",
      "metadata": {
        "id": "T7dv8QBBRm12"
      },
      "source": [
        "```\n",
        "import pandas as pd\n",
        "import sqlite3 as sql\n",
        "\n",
        "def criar_table():\n",
        "  \"\"\" Função que cria as entidades do dataset, de acordo com o modelo físico\n",
        "\n",
        "  \"\"\"\n",
        "  conexao = sql.connect(\"Bank_data.db\") # Criar um arquivo database vazio (até então)\n",
        "  cursor = conexao.cursor() # cursor que navega pelo database em sqlite\n",
        "  cursor.execute(\"CREATE TABLE Campanha(Id_campanha INT, Id_cliente INT, resultado_anterior TEXT, pdias_anteriores INT, campanha INT);\") # Criação da tabela Campanha e seus atributos \n",
        "  cursor.execute(\"CREATE TABLE Contato(Id_contato INT, Id_cliente INT, id_campanha INT, duração INT, dia_da_semana INT, mes INT, tipo_contato TEXT);\")# Criação da tabela Contato e seus atributos \n",
        "  cursor.execute(\"CREATE TABLE Cliente(Id_cliente INT, Id_contato INT, idade INT, ocupação TEXT, estado_civil TEXT, educação TEXT, inadimplencia TEXT, campanhas_anteriores INT, aluguel TEXT, emprestimo TEXT, status_final TEXT, saldo INT);\")# Criação da tabela Cliente e seus atributos \n",
        "  conexao.commit()\n",
        "  conexao.close()\n",
        "\n",
        "\n",
        "def criar_Campanha(df):\n",
        "  \"\"\" Função que popula a entidade Campanha\n",
        "      \n",
        "      df: datadrame\n",
        "  \"\"\"\n",
        "  conexao = sql.connect(\"Bank_data.db\") # Conexão com o arquivo database\n",
        "  cursor = conexao.cursor() # cursor que navega pelo database em sqlite\n",
        "  Id = (len(df))\n",
        "  for i in range(Id): # criar um loop para todas as linhas do dataset\n",
        "    # atributos da tabela \n",
        "    ra = str(df['resultado anterior'][i])\n",
        "    pdias = int(df['pdias'][i])\n",
        "    campanha = int(df['campanha'][i])\n",
        "\n",
        "    # inserir todos os dados da tabela  \n",
        "    s1 = \"INSERT INTO Campanha VALUES ({},{},'{}',{},{})\".format(i+1,i+1,ra,pdias,campanha)\n",
        "    cursor.execute(s1)\n",
        "    i += 1 \n",
        "  #Encerrar o cursor\n",
        "  conexao.commit()\n",
        "  conexao.close()\n",
        "\n",
        "def criar_Contato(df):\n",
        "  \"\"\" Função que popula a entidade Contato\n",
        "      \n",
        "      df: datadrame\n",
        "  \"\"\"\n",
        "  conexao = sql.connect(\"Bank_data.db\") # Conexão com o arquivo database\n",
        "  cursor = conexao.cursor()  # cursor que navega pelo database em sqlite\n",
        "  Id = (len(df))\n",
        "  for i in range(Id): # criar um loop para todas as linhas do dataset\n",
        "    Id = (len(df))\n",
        "    # atributos da tabela \n",
        "    duracao = df['duração'][i]\n",
        "    dia = df['dia do mês'][i]\n",
        "    mes = df['mês'][i]\n",
        "    tipo = df['contato'][i]\n",
        "    campanha = df['campanha'][i]\n",
        "\n",
        "    # inserir todos os dados da tabela  \n",
        "    s2 = \"INSERT INTO Contato VALUES ({},{},{},'{}','{}','{}','{}')\".format(i+1,i+1,i+1,duracao,dia,mes,tipo)\n",
        "    cursor.execute(s2)\n",
        "\n",
        "    i += 1 \n",
        "  #Encerrar o cursor\n",
        "  conexao.commit()\n",
        "  conexao.close()\n",
        "\n",
        "\n",
        "def criar_Cliente(df):\n",
        "  \"\"\" Função que popula a entidade Cliente\n",
        "      \n",
        "      df: datadrame\n",
        "  \"\"\"\n",
        "  conexao = sql.connect(\"Bank_data.db\") # Conexão com o arquivo database\n",
        "  cursor = conexao.cursor() # cursor que navega pelo database em sqlite\n",
        "  \n",
        "  Id = len(df)\n",
        "\n",
        "  for i in range(Id): # criar um loop para todas as linhas do dataset\n",
        "\n",
        "    # atributos da tabela \n",
        "    idade = df['idade'][i]\n",
        "    ocupacao = df['ocupação'][i]\n",
        "    es = df['estado civil'][i]\n",
        "    educ = df['educação'][i]\n",
        "    inadimplência = df['inadimplente'][i]\n",
        "    anteriores = df['anteriores'][i]\n",
        "    aluguel = df['aluguel'][i]\n",
        "    emprestimos = df['empréstimo'][i]\n",
        "    status = df['y'][i]\n",
        "    balanco = df['saldo'][i]\n",
        "    \n",
        "\n",
        "  # inserir todos os dados da tabela \n",
        "    s3 = \"INSERT INTO Cliente VALUES ({},{},{},'{}','{}','{}','{}','{}','{}','{}','{}',{})\".format(i+1,i+1,idade,ocupacao,es,educ,inadimplência,anteriores,aluguel,emprestimos,status,balanco)\n",
        "    cursor.execute(s3)\n",
        "    i += 1\n",
        "  #Encerrar o cursor\n",
        "  conexao.commit()\n",
        "  conexao.close()\n",
        "\n",
        "\n",
        "def main():\n",
        "  df = criar_dataframe('bank-full.csv', ';')\n",
        "  df = traduzir(df)\n",
        "  criar_table()\n",
        "  criar_Campanha(df)\n",
        "  criar_Cliente(df)\n",
        "  criar_Contato(df)\n",
        "main()\n",
        "\n",
        "```\n",
        "\n",
        "\n"
      ]
    },
    {
      "cell_type": "code",
      "metadata": {
        "id": "uI509fL9AJuD"
      },
      "source": [
        "!python main.py"
      ],
      "execution_count": null,
      "outputs": []
    },
    {
      "cell_type": "code",
      "metadata": {
        "id": "3OzPO2F4Go4R"
      },
      "source": [
        "import sqlite3 as sql # para criar, manipular e analisar a base de dados\n",
        "\n",
        "conexao = sql.connect(\"Bank_data.db\") # Conexão com o database\n",
        "cursor = conexao.cursor() # Cursor que navega pelo database"
      ],
      "execution_count": null,
      "outputs": []
    },
    {
      "cell_type": "markdown",
      "metadata": {
        "id": "aDTey_Y-PGbf"
      },
      "source": [
        "## Questões "
      ]
    },
    {
      "cell_type": "markdown",
      "metadata": {
        "id": "PAD_eDIWVEMn"
      },
      "source": [
        "### 1.**Qual a proporção de emprestimos aceito, de acordo com o tipo de contato ?**\n"
      ]
    },
    {
      "cell_type": "markdown",
      "metadata": {
        "id": "GPnkBN9nAQpe"
      },
      "source": [
        "PARA SABER SE O TIPO DE CONTATO INFLUENCIA NA TAXA DE ADESÃO TEMOS A SEGUINTE SOLUÇÃO:\n"
      ]
    },
    {
      "cell_type": "markdown",
      "metadata": {
        "id": "qcahYmY4qY2Q"
      },
      "source": [
        "\n",
        "\n",
        "> Totais de contato por telefone\n",
        "\n"
      ]
    },
    {
      "cell_type": "code",
      "metadata": {
        "id": "6N72mTXcYmaA",
        "colab": {
          "base_uri": "https://localhost:8080/"
        },
        "outputId": "4fda341e-d03e-45e5-8614-2ebb3f83c94d"
      },
      "source": [
        "q1_1 = \"select * from Contato where tipo_contato = 'telefone' \"\n",
        "cursor.execute(q1_1)\n",
        "total_t = cursor.fetchall()\n",
        "len(total_t) "
      ],
      "execution_count": null,
      "outputs": [
        {
          "output_type": "execute_result",
          "data": {
            "text/plain": [
              "2906"
            ]
          },
          "metadata": {
            "tags": []
          },
          "execution_count": 208
        }
      ]
    },
    {
      "cell_type": "markdown",
      "metadata": {
        "id": "e9yMlXKNqgfw"
      },
      "source": [
        "> Totais contato por telefone que aderiram a campanha\n",
        "\n",
        "\n"
      ]
    },
    {
      "cell_type": "code",
      "metadata": {
        "id": "uSdMDWLNjMey",
        "colab": {
          "base_uri": "https://localhost:8080/"
        },
        "outputId": "d70e1bbd-7d5f-41fb-e92e-46cacf5d9a2f"
      },
      "source": [
        "q1_2 = \"select Contato.tipo_contato, Cliente.status_final from Contato, Cliente where Cliente.Id_cliente = Contato.Id_cliente and Contato.tipo_contato = 'telefone' and Cliente.status_final = 'sim'; \"\n",
        "cursor.execute(q1_2)\n",
        "aderiram_t = cursor.fetchall()\n",
        "len(aderiram_t)"
      ],
      "execution_count": null,
      "outputs": [
        {
          "output_type": "execute_result",
          "data": {
            "text/plain": [
              "390"
            ]
          },
          "metadata": {
            "tags": []
          },
          "execution_count": 209
        }
      ]
    },
    {
      "cell_type": "markdown",
      "metadata": {
        "id": "a3XlqLFhq0pJ"
      },
      "source": [
        "> Totais contato por telefone que não aderiram a campanha\n",
        "\n",
        "\n"
      ]
    },
    {
      "cell_type": "code",
      "metadata": {
        "id": "zgotKoUzjgbJ",
        "colab": {
          "base_uri": "https://localhost:8080/"
        },
        "outputId": "25c70ed2-a9e0-444d-af70-75a44e5816c1"
      },
      "source": [
        "q1_3 = \"select Contato.tipo_contato, Cliente.status_final from Contato, Cliente where Cliente.Id_cliente = Contato.Id_cliente and Contato.tipo_contato = 'telefone' and Cliente.status_final = 'não'; \"\n",
        "cursor.execute(q1_3)\n",
        "n_aderiram_t = cursor.fetchall()\n",
        "len(n_aderiram_t)"
      ],
      "execution_count": null,
      "outputs": [
        {
          "output_type": "execute_result",
          "data": {
            "text/plain": [
              "2516"
            ]
          },
          "metadata": {
            "tags": []
          },
          "execution_count": 210
        }
      ]
    },
    {
      "cell_type": "markdown",
      "metadata": {
        "id": "muUZ2NrJuocw"
      },
      "source": [
        "> Totais de contato por celular\n"
      ]
    },
    {
      "cell_type": "code",
      "metadata": {
        "id": "30LHPuq1usOd",
        "colab": {
          "base_uri": "https://localhost:8080/"
        },
        "outputId": "37c63b51-31dc-4c68-f585-bbc39d8cc164"
      },
      "source": [
        "q1_4 = \"select * from Contato where tipo_contato = 'celular' \"\n",
        "cursor.execute(q1_4)\n",
        "total_c = cursor.fetchall()\n",
        "len(total_c)"
      ],
      "execution_count": null,
      "outputs": [
        {
          "output_type": "execute_result",
          "data": {
            "text/plain": [
              "29285"
            ]
          },
          "metadata": {
            "tags": []
          },
          "execution_count": 211
        }
      ]
    },
    {
      "cell_type": "markdown",
      "metadata": {
        "id": "02fErB7Ku9al"
      },
      "source": [
        "> Totais contato por celular que aderiram a campanha\n"
      ]
    },
    {
      "cell_type": "code",
      "metadata": {
        "id": "Qxu0vN7IvDx2",
        "colab": {
          "base_uri": "https://localhost:8080/"
        },
        "outputId": "8532663a-25a9-4f3a-d479-a389faafd690"
      },
      "source": [
        "q1_5 = \"select Contato.tipo_contato, Cliente.status_final from Contato, Cliente where Cliente.Id_cliente = Contato.Id_cliente and Contato.tipo_contato = 'celular' and Cliente.status_final = 'sim'; \"\n",
        "cursor.execute(q1_5)\n",
        "aderiram_c = cursor.fetchall()\n",
        "len(aderiram_c)"
      ],
      "execution_count": null,
      "outputs": [
        {
          "output_type": "execute_result",
          "data": {
            "text/plain": [
              "4369"
            ]
          },
          "metadata": {
            "tags": []
          },
          "execution_count": 212
        }
      ]
    },
    {
      "cell_type": "markdown",
      "metadata": {
        "id": "aB9IF1dGvEmV"
      },
      "source": [
        "\n",
        "> Totais contato por celular que não aderiram a campanha\n",
        "\n"
      ]
    },
    {
      "cell_type": "code",
      "metadata": {
        "id": "PhYpTGXDvFIv",
        "colab": {
          "base_uri": "https://localhost:8080/"
        },
        "outputId": "ed8889f3-5fff-4cd3-e27d-6241f9d6be2a"
      },
      "source": [
        "q1_6 = \"select Contato.tipo_contato, Cliente.status_final from Contato, Cliente where Cliente.Id_cliente = Contato.Id_cliente and Contato.tipo_contato = 'celular' and Cliente.status_final = 'não'; \"\n",
        "cursor.execute(q1_6)\n",
        "n_aderiram_c = cursor.fetchall()\n",
        "len(n_aderiram_c)"
      ],
      "execution_count": null,
      "outputs": [
        {
          "output_type": "execute_result",
          "data": {
            "text/plain": [
              "24916"
            ]
          },
          "metadata": {
            "tags": []
          },
          "execution_count": 213
        }
      ]
    },
    {
      "cell_type": "markdown",
      "metadata": {
        "id": "Ep08Z_sMEisp"
      },
      "source": [
        "#### RESULTADO"
      ]
    },
    {
      "cell_type": "markdown",
      "metadata": {
        "id": "8vzd5KzZrctp"
      },
      "source": [
        "> Proporção total tipo de contato telefone\n",
        "\n",
        "\n",
        "\n",
        "\n",
        "\n"
      ]
    },
    {
      "cell_type": "code",
      "metadata": {
        "id": "SH_DYWDkrcQF",
        "colab": {
          "base_uri": "https://localhost:8080/"
        },
        "outputId": "e047c414-5bc5-455e-ebe9-de49f08f9ade"
      },
      "source": [
        "t_n = len(n_aderiram_t) / len(total_t)\n",
        "t_s = len(aderiram_t) / len(total_t)\n",
        "\n",
        "print(f'CONTATO POR TELEFONE \\nNão aderiram: {round(t_n*100, 2)}% \\n Aderiram: {round(t_s*100, 2)}%')"
      ],
      "execution_count": null,
      "outputs": [
        {
          "output_type": "stream",
          "text": [
            "CONTATO POR TELEFONE \n",
            "Não aderiram: 86.58% \n",
            " Aderiram: 13.42%\n"
          ],
          "name": "stdout"
        }
      ]
    },
    {
      "cell_type": "markdown",
      "metadata": {
        "id": "12zB-kTkv6Bd"
      },
      "source": [
        "> Proporção total tipo de contato celular\n"
      ]
    },
    {
      "cell_type": "code",
      "metadata": {
        "id": "e068VDQ8v3cF",
        "colab": {
          "base_uri": "https://localhost:8080/"
        },
        "outputId": "6807deea-765a-401b-e418-556878c1409b"
      },
      "source": [
        "c_n = len(n_aderiram_c) / len(total_c)\n",
        "c_s = len(aderiram_c) / len(total_c)\n",
        "\n",
        "print(f'CONTATO POR CELULAR \\nNão aderiram: {round(c_n*100, 2)}% \\nAderiram: {round(c_s*100, 2)}%')"
      ],
      "execution_count": null,
      "outputs": [
        {
          "output_type": "stream",
          "text": [
            "CONTATO POR CELULAR \n",
            "Não aderiram: 85.08% \n",
            "Aderiram: 14.92%\n"
          ],
          "name": "stdout"
        }
      ]
    },
    {
      "cell_type": "markdown",
      "metadata": {
        "id": "xJr-AsnJIn3l"
      },
      "source": [
        "Portanto, não há diferença relevante em porcentagem do número de adesões de acordo com o tipo de contato."
      ]
    },
    {
      "cell_type": "markdown",
      "metadata": {
        "id": "GHZAXBBaYWEh"
      },
      "source": [
        "\n",
        "\n",
        "### 2.**Qual a duração média das ligações com os clientes que aderiram ?**\n",
        "\n",
        "\n"
      ]
    },
    {
      "cell_type": "markdown",
      "metadata": {
        "id": "vL9XJOjqDCkK"
      },
      "source": [
        "PARA SABER QUANTO TEMPO TEM UMA LIGAÇÃO COM ADESÃO A CAMPANHA TEMOS A SEGUINTE SOLUÇÃO:"
      ]
    },
    {
      "cell_type": "code",
      "metadata": {
        "id": "J9_Uu6_H4Dk2",
        "colab": {
          "base_uri": "https://localhost:8080/"
        },
        "outputId": "aa9f3c42-d9a7-414e-d33f-7664dd1013c8"
      },
      "source": [
        "q2_1 = \"select avg(Contato.duração) from Contato,Cliente where Cliente.Id_cliente = Contato.Id_cliente and Cliente.status_final = 'sim'; \"\n",
        "cursor.execute(q2_1)\n",
        "media = cursor.fetchall()\n",
        "print(f'{ round(media[0][0]/60, 2) } minutos')"
      ],
      "execution_count": null,
      "outputs": [
        {
          "output_type": "stream",
          "text": [
            "8.95 minutos\n"
          ],
          "name": "stdout"
        }
      ]
    },
    {
      "cell_type": "markdown",
      "metadata": {
        "id": "nQy-i_tSJXrV"
      },
      "source": [
        "Para uma ligação com adesão a duração é aproximadamente de 9 minutos."
      ]
    },
    {
      "cell_type": "markdown",
      "metadata": {
        "id": "FbMaJzPSlVoM"
      },
      "source": [
        "### 3.**Quais as ocupações dos clientes contatados?**"
      ]
    },
    {
      "cell_type": "markdown",
      "metadata": {
        "id": "hAQJ8GqsZ_Cg"
      },
      "source": [
        "PARA SABER QUAIS AS OCUPAÇÕES FORAM CONTATADAS PELA CAMPANHA FIZEMOS A SEGUINTE SOLUÇÃO:"
      ]
    },
    {
      "cell_type": "code",
      "metadata": {
        "id": "-XkK-NdmlZFw",
        "colab": {
          "base_uri": "https://localhost:8080/"
        },
        "outputId": "85853da5-c861-4fb7-d82e-844dad587d97"
      },
      "source": [
        "q3_1 = \"select Cliente.ocupação from Cliente \"\n",
        "cursor.execute(q3_1)\n",
        "trabalhos = cursor.fetchall()\n",
        "ocu_cliente = remove_repetidos(trabalhos) \n",
        "\n",
        "print('OCUPAÇÕES DOS CLIENTES\\n')\n",
        "for i in ocu_cliente: print(i[0])"
      ],
      "execution_count": null,
      "outputs": [
        {
          "output_type": "stream",
          "text": [
            "OCUPAÇÕES DOS CLIENTES\n",
            "\n",
            "administrativo(a)\n",
            "aposentado(a)\n",
            "autônomo(a)\n",
            "desconhecido\n",
            "desempregado(a)\n",
            "doméstico(a)\n",
            "empreendedor(a)\n",
            "estudante\n",
            "gestor(a)\n",
            "operário(a)\n",
            "servidor(a)\n",
            "técnico(a)\n"
          ],
          "name": "stdout"
        }
      ]
    },
    {
      "cell_type": "markdown",
      "metadata": {
        "id": "NjEZxcMf2Wty"
      },
      "source": [
        "### 4.**Qual a taxa de adesão por ocupação? Qual a proporção por ocupação no Banco de Dados?**"
      ]
    },
    {
      "cell_type": "markdown",
      "metadata": {
        "id": "qMjKuNcpD72l"
      },
      "source": [
        "SABENDO AS OCUPAÇÕES, CALCULAMOS A TAXA DE ADESÃO POR OCUPAÇÃO E COMPARAMOS COM A PROPORÇÃO DE OCUPAÇÃO NO BANCO DE DADOS, PARA DESCOBRIR SE A PROPORÇÃO ESTABELICIDA É JUSTIFICADA."
      ]
    },
    {
      "cell_type": "code",
      "metadata": {
        "id": "Qzdfu1p2ybPr"
      },
      "source": [
        "#Total de ligações \n",
        "q4_13 = \"select  Count(*) from Cliente  \"\n",
        "cursor.execute(q4_13)\n",
        "total_t = cursor.fetchall()"
      ],
      "execution_count": null,
      "outputs": []
    },
    {
      "cell_type": "code",
      "metadata": {
        "id": "iIwXLRavGLXQ"
      },
      "source": [
        "#administrativo(a)\n",
        "\n",
        "# total Clientes que aderiram com ocupação administrativa \n",
        "q4_1 = \"select  Count(*) from Cliente where Cliente.status_final = 'sim' and Cliente.ocupação = 'administrativo(a)'; \"\n",
        "cursor.execute(q4_1)\n",
        "admin_s = cursor.fetchall()\n",
        "\n",
        "# total Clientes com ocupação administrativa \n",
        "q4_1 = \"select  Count(*) from Cliente where Cliente.ocupação = 'administrativo(a)'; \"\n",
        "cursor.execute(q4_1)\n",
        "admin_t = cursor.fetchall()\n",
        "\n",
        "# proporção de ocupação administrativa na população  \n",
        "porce_admin_t = admin_t[0][0]/total_t[0][0]\n",
        "\n",
        "# taxa de adesão em ocupação administrativa\n",
        "porce_admin_s = admin_s[0][0]/admin_t[0][0]"
      ],
      "execution_count": null,
      "outputs": []
    },
    {
      "cell_type": "code",
      "metadata": {
        "id": "vkXp0XDmGlxp"
      },
      "source": [
        "#operário(a)\n",
        "\n",
        "# total Clientes que aderiram com ocupação operária \n",
        "q4_2 = \"select  Count(*) from Cliente where Cliente.status_final = 'sim' and Cliente.ocupação = 'operário(a)'; \"\n",
        "cursor.execute(q4_2)\n",
        "blue_c_s = cursor.fetchall()\n",
        "\n",
        "# total Clientes com ocupação operária \n",
        "q4_2 = \"select  Count(*) from Cliente where Cliente.ocupação = 'operário(a)'; \"\n",
        "cursor.execute(q4_2)\n",
        "blue_c_t = cursor.fetchall()\n",
        "\n",
        "# proporção de ocupação operária na população  \n",
        "porce_blue_c_t = blue_c_t[0][0]/total_t[0][0]\n",
        "\n",
        "# taxa de adesão em ocupação operária\n",
        "porce_blue_s = blue_c_s[0][0]/blue_c_t[0][0]"
      ],
      "execution_count": null,
      "outputs": []
    },
    {
      "cell_type": "code",
      "metadata": {
        "id": "muedRaddG5oB"
      },
      "source": [
        "#empreendedor(a)\n",
        "\n",
        "# total Clientes que aderiram com ocupação empreendedora \n",
        "q4_3 = \"select  Count(*) from Cliente where Cliente.status_final = 'sim' and Cliente.ocupação = 'empreendedor(a)'; \"\n",
        "cursor.execute(q4_3)\n",
        "empree_s = cursor.fetchall()\n",
        "\n",
        "# total Clientes com ocupação empreendedora \n",
        "q4_3 = \"select  Count(*) from Cliente where Cliente.ocupação = 'empreendedor(a)'; \"\n",
        "cursor.execute(q4_3)\n",
        "empree_t = cursor.fetchall()\n",
        "\n",
        "# proporção de ocupação empreendedora na população  \n",
        "porce_empree_t = empree_t[0][0]/total_t[0][0]\n",
        "\n",
        "# taxa de adesão em ocupação empreendedora\n",
        "porce_empree_s = empree_s[0][0]/empree_t[0][0]"
      ],
      "execution_count": null,
      "outputs": []
    },
    {
      "cell_type": "code",
      "metadata": {
        "id": "0Bdq1L2_Hcwh"
      },
      "source": [
        "#doméstico(a)\n",
        "\n",
        "# total Clientes que aderiram com ocupação doméstica \n",
        "q4_4 = \"select  Count(*) from Cliente where Cliente.status_final = 'sim' and Cliente.ocupação = 'doméstico(a)'; \"\n",
        "cursor.execute(q4_4)\n",
        "house_s = cursor.fetchall()\n",
        "\n",
        "# total Clientes com ocupação doméstica \n",
        "q4_4 = \"select  Count(*) from Cliente where Cliente.ocupação = 'doméstico(a)'; \"\n",
        "cursor.execute(q4_4)\n",
        "house_t = cursor.fetchall()\n",
        "\n",
        "# proporção de ocupação doméstica na população  \n",
        "porce_house_t = house_t[0][0]/total_t[0][0]\n",
        "\n",
        "# taxa de adesão em ocupação doméstica\n",
        "porce_house_s = house_s[0][0]/house_t[0][0]"
      ],
      "execution_count": null,
      "outputs": []
    },
    {
      "cell_type": "code",
      "metadata": {
        "id": "hkWmTOLUH5YE"
      },
      "source": [
        "#gestor(a)\n",
        "\n",
        "# total Clientes que aderiram com ocupação gestora \n",
        "q4_5 = \"select  Count(*) from Cliente where Cliente.status_final = 'sim' and Cliente.ocupação = 'gestor(a)'; \"\n",
        "cursor.execute(q4_5)\n",
        "manage_s = cursor.fetchall()\n",
        "\n",
        "# total Clientes com ocupação gestora \n",
        "q4_5 = \"select  Count(*) from Cliente where Cliente.ocupação = 'gestor(a)'; \"\n",
        "cursor.execute(q4_5)\n",
        "manage_t = cursor.fetchall()\n",
        "\n",
        "# proporção de ocupação gestora na população  \n",
        "porce_manage_t = manage_t[0][0]/total_t[0][0]\n",
        "\n",
        "# taxa de adesão em ocupação gestora\n",
        "porce_manage_s = manage_s[0][0]/manage_t[0][0]"
      ],
      "execution_count": null,
      "outputs": []
    },
    {
      "cell_type": "code",
      "metadata": {
        "id": "DL4iLxj1Iirf"
      },
      "source": [
        "#aposentado(a)\n",
        "\n",
        "# total Clientes que aderiram com ocupação aposentada \n",
        "q4_6 = \"select  Count(*) from Cliente where Cliente.status_final = 'sim' and Cliente.ocupação = 'aposentado(a)'; \"\n",
        "cursor.execute(q4_6)\n",
        "retired_s = cursor.fetchall()\n",
        "\n",
        "# total Clientes com ocupação aposentada \n",
        "q4_6 = \"select  Count(*) from Cliente where Cliente.ocupação = 'aposentado(a)'; \"\n",
        "cursor.execute(q4_6)\n",
        "retired_t = cursor.fetchall()\n",
        "\n",
        "# proporção de ocupação aposentada na população  \n",
        "porce_retired_t = retired_t[0][0]/total_t[0][0]\n",
        "\n",
        "# taxa de adesão em ocupação aposentada\n",
        "porce_retired_s = retired_s[0][0]/retired_t[0][0]"
      ],
      "execution_count": null,
      "outputs": []
    },
    {
      "cell_type": "code",
      "metadata": {
        "id": "waV_RTSII_wn"
      },
      "source": [
        "#autônomo(a)\n",
        "\n",
        "# total Clientes que aderiram com ocupação autônoma \n",
        "q4_7 = \"select  Count(*) from Cliente where Cliente.status_final = 'sim' and Cliente.ocupação = 'autônomo(a)'; \"\n",
        "cursor.execute(q4_7)\n",
        "self_em_s = cursor.fetchall()\n",
        "\n",
        "# total Clientes com ocupação autônoma \n",
        "q4_7 = \"select  Count(*) from Cliente where Cliente.ocupação = 'autônomo(a)'; \"\n",
        "cursor.execute(q4_7)\n",
        "self_em_t = cursor.fetchall()\n",
        "\n",
        "# proporção de ocupação autônoma na população  \n",
        "porce_self_em_t = self_em_t[0][0]/total_t[0][0]\n",
        "\n",
        "# taxa de adesão em ocupação autônoma\n",
        "porce_self_em_s = self_em_s[0][0]/self_em_t[0][0]"
      ],
      "execution_count": null,
      "outputs": []
    },
    {
      "cell_type": "code",
      "metadata": {
        "id": "zxyowEW7nbKV"
      },
      "source": [
        "#servidor(a)\n",
        "\n",
        "# total Clientes que aderiram com ocupação servidora \n",
        "q4_8 = \"select  Count(*) from Cliente where Cliente.status_final = 'sim' and Cliente.ocupação = 'servidor(a)'; \"\n",
        "cursor.execute(q4_8)\n",
        "service_s = cursor.fetchall()\n",
        "\n",
        "# total Clientes que aderiram com ocupação servidora \n",
        "q4_8 = \"select  Count(*) from Cliente where Cliente.ocupação = 'servidor(a)'; \"\n",
        "cursor.execute(q4_8)\n",
        "service_t = cursor.fetchall()\n",
        "\n",
        "# proporção de ocupação servidora na população  \n",
        "porce_service_t = service_t[0][0]/total_t[0][0]\n",
        "\n",
        "# taxa de adesão em ocupação servidora\n",
        "porce_serv_em_s = service_s[0][0]/service_t[0][0]"
      ],
      "execution_count": null,
      "outputs": []
    },
    {
      "cell_type": "code",
      "metadata": {
        "id": "9RscW1WBp6Tt"
      },
      "source": [
        "#estudante\n",
        "\n",
        "# total Clientes que aderiram com ocupação estudante \n",
        "q4_9 = \"select  Count(*) from Cliente where Cliente.status_final = 'sim' and Cliente.ocupação = 'estudante'; \"\n",
        "cursor.execute(q4_9)\n",
        "student_s = cursor.fetchall()\n",
        "\n",
        "# total Clientes que aderiram com ocupação estudante \n",
        "q4_9 = \"select  Count(*) from Cliente where Cliente.ocupação = 'estudante'; \"\n",
        "cursor.execute(q4_9)\n",
        "student_t = cursor.fetchall()\n",
        "\n",
        "# proporção de ocupação estudante na população  \n",
        "porce_student_t = student_t[0][0]/total_t[0][0]\n",
        "\n",
        "# taxa de adesão em ocupação estudante\n",
        "porce_student_s = student_s[0][0]/student_t[0][0]"
      ],
      "execution_count": null,
      "outputs": []
    },
    {
      "cell_type": "code",
      "metadata": {
        "id": "esLDFS7XsKNG"
      },
      "source": [
        "#técnico(a)\n",
        "\n",
        "# total Clientes que aderiram com ocupação técnica \n",
        "q4_10 = \"select  Count(*) from Cliente where Cliente.status_final = 'sim' and Cliente.ocupação = 'técnico(a)'; \"\n",
        "cursor.execute(q4_10)\n",
        "tech_s = cursor.fetchall()\n",
        "\n",
        "# total Clientes que aderiram com ocupação técnica \n",
        "q4_10 = \"select  Count(*) from Cliente where Cliente.ocupação = 'técnico(a)'; \"\n",
        "cursor.execute(q4_10)\n",
        "tech_t = cursor.fetchall()\n",
        "\n",
        "# proporção de ocupação técnica na população  \n",
        "porce_tech_t = tech_t[0][0]/total_t[0][0]\n",
        "\n",
        "# taxa de adesão em ocupação técnica\n",
        "porce_tech_s = tech_s[0][0]/tech_t[0][0]"
      ],
      "execution_count": null,
      "outputs": []
    },
    {
      "cell_type": "code",
      "metadata": {
        "id": "TOYL5Q6hsdC3"
      },
      "source": [
        "#desempregado(a)\n",
        "\n",
        "# total Clientes que aderiram com ocupação desempregado \n",
        "q4_11 = \"select  Count(*) from Cliente where Cliente.status_final = 'sim' and Cliente.ocupação = 'desempregado(a)'; \"\n",
        "cursor.execute(q4_11)\n",
        "unemployed_s = cursor.fetchall()\n",
        "\n",
        "# total Clientes que aderiram com ocupação desempregado \n",
        "q4_11 = \"select  Count(*) from Cliente where Cliente.ocupação = 'desempregado(a)'; \"\n",
        "cursor.execute(q4_11)\n",
        "unemployed_t = cursor.fetchall()\n",
        "\n",
        "# proporção de ocupação desempregado na população  \n",
        "porce_unemployed_t = unemployed_t[0][0]/total_t[0][0]\n",
        "\n",
        "# taxa de adesão em ocupação desempregado\n",
        "porce_unemployed_s = unemployed_s[0][0]/unemployed_t[0][0]"
      ],
      "execution_count": null,
      "outputs": []
    },
    {
      "cell_type": "code",
      "metadata": {
        "id": "pggGzWLf2bBN"
      },
      "source": [
        "#desconhecido\n",
        "\n",
        "# total Clientes que aderiram com ocupação desconhecida\n",
        "q4_12 = \"select  Count(*) from Cliente where Cliente.status_final = 'sim' and Cliente.ocupação = 'desconhecido'; \"\n",
        "cursor.execute(q4_12)\n",
        "unknown_s = cursor.fetchall()\n",
        "\n",
        "# total Clientes que aderiram com ocupação desconhecido \n",
        "q4_12 = \"select  Count(*) from Cliente where Cliente.ocupação = 'desconhecido'; \"\n",
        "cursor.execute(q4_12)\n",
        "unknown_t = cursor.fetchall()\n",
        "\n",
        "# proporção de ocupação desconhecido na população  \n",
        "porce_unknown_t = unknown_t[0][0]/total_t[0][0]\n",
        "\n",
        "# taxa de adesão em ocupação desconhecido\n",
        "porce_unknown_s = unknown_s[0][0]/unknown_t[0][0]"
      ],
      "execution_count": null,
      "outputs": []
    },
    {
      "cell_type": "markdown",
      "metadata": {
        "id": "fWoKBOPTFE_X"
      },
      "source": [
        "#### GRAFICAMENTE"
      ]
    },
    {
      "cell_type": "code",
      "metadata": {
        "id": "5LrrqD825I_U"
      },
      "source": [
        "indices_s = ['administrativo(a)','operário(a)','empreendedor(a)','doméstico(a)','gestor(a)','aposentado(a)','autônomo(a)','servidor(a)','estudante','técnico(a)','desempregado(a)','desconhecido']\n",
        "\n",
        "#taxa de adesão por ocupação\n",
        "valores_s = [porce_admin_s, porce_blue_s,porce_empree_s,porce_house_s,porce_manage_s,porce_retired_s,porce_self_em_s,porce_serv_em_s,porce_student_s,porce_tech_s,porce_unemployed_s,porce_unknown_s]"
      ],
      "execution_count": null,
      "outputs": []
    },
    {
      "cell_type": "code",
      "metadata": {
        "id": "u_0E2DGSwyfo"
      },
      "source": [
        "#proporção por ocupação\n",
        "valores_t = [porce_admin_t, porce_blue_c_t,porce_empree_t,porce_house_t,porce_manage_t,porce_retired_t,porce_self_em_t,porce_service_t,porce_student_t,porce_tech_t,porce_unemployed_t,porce_unknown_t]"
      ],
      "execution_count": null,
      "outputs": []
    },
    {
      "cell_type": "code",
      "metadata": {
        "id": "VOBONzHz2xF_",
        "colab": {
          "base_uri": "https://localhost:8080/",
          "height": 609
        },
        "outputId": "a55475a5-83d2-4211-a600-a61c3b6b7d90"
      },
      "source": [
        "import numpy as np\n",
        "# Cria eixo x para Adeção e População com uma separação de 0.25 entre as barras\n",
        "x1 =  np.arange(len(valores_s))\n",
        "x2 = [x + 0.25 for x in x1]\n",
        "\n",
        "\n",
        "plt.figure(figsize = (20,10))\n",
        "\n",
        "# Plota as barras\n",
        "plt.bar(x1, valores_s, width=0.25, label = 'Adesão', color = 'b')\n",
        "plt.bar(x2, valores_t, width=0.25, label = 'População', color = 'y')\n",
        "\n",
        "# coloca o nome dos meses como label do eixo x\n",
        "plt.xticks([x + 0.25 for x in range(len(valores_s))], indices_s)\n",
        "\n",
        "# inseri uma legenda no gráfico\n",
        "plt.legend()\n",
        "\n",
        "plt.title(\"Proporção de adesão por ocupação vs. Proporção das ligações\")\n",
        "plt.show()"
      ],
      "execution_count": null,
      "outputs": [
        {
          "output_type": "display_data",
          "data": {
            "image/png": "[encoded data removed]",
            "text/plain": [
              "<Figure size 1440x720 with 1 Axes>"
            ]
          },
          "metadata": {
            "tags": []
          }
        }
      ]
    },
    {
      "cell_type": "markdown",
      "metadata": {
        "id": "YRs2SKSPKCDQ"
      },
      "source": [
        "Analisando o gráfico, as ocupações operário e gestor têm bastante ligações, e estudante e aposentado tem pouca ligação em comparação, porém a taxa de adesão é bem superior, não justificando a distribuição de ligação. "
      ]
    },
    {
      "cell_type": "markdown",
      "metadata": {
        "id": "NvBsasXsxyas"
      },
      "source": [
        "### 5.**Qual o saldo médio dos clientes que aderiram e dos clientes que recusaram?**"
      ]
    },
    {
      "cell_type": "markdown",
      "metadata": {
        "id": "pNM41Fg-XW2X"
      },
      "source": [
        "PARA SABER COMO O SALDO DO CLIENTE AFETA NA ADESÃO TEMOS A SEGUINTE SOLUÇÃO:"
      ]
    },
    {
      "cell_type": "code",
      "metadata": {
        "id": "8TUJ8iVGx5iv",
        "colab": {
          "base_uri": "https://localhost:8080/"
        },
        "outputId": "b62209b9-f9f7-4f83-c177-5dab71d38b16"
      },
      "source": [
        "#média saldo clientes que não aderiram\n",
        "q5_1 = \"select  avg(Cliente.saldo) from Cliente where Cliente.status_final = 'não'\"\n",
        "cursor.execute(q5_1)\n",
        "saldo_n = cursor.fetchall()\n",
        "\n",
        "#média saldo clientes que aderiram\n",
        "q5_2 = \"select  avg(Cliente.saldo) from Cliente where Cliente.status_final = 'sim'\"\n",
        "cursor.execute(q5_2)\n",
        "saldo_s = cursor.fetchall()\n",
        "\n",
        "print(f'Saldo médio dos clientes que recusaram { round(saldo_n[0][0],2) }€\\nSaldo médio dos clientes que aceitaram { round(saldo_s[0][0],2) }€ ' )"
      ],
      "execution_count": null,
      "outputs": [
        {
          "output_type": "stream",
          "text": [
            "Saldo médio dos clientes que recusaram 1303.71€\n",
            "Saldo médio dos clientes que aceitaram 1804.27€ \n"
          ],
          "name": "stdout"
        }
      ]
    },
    {
      "cell_type": "markdown",
      "metadata": {
        "id": "3nSNAPvkX4KC"
      },
      "source": [
        "Em média quem aderiu a campanha tem um saldo de 500 euros a mais de quem não aderiu."
      ]
    },
    {
      "cell_type": "markdown",
      "metadata": {
        "id": "5NXifGOKrQUl"
      },
      "source": [
        "### 6.Diferença de taxa de adesão em relação a média de saldo "
      ]
    },
    {
      "cell_type": "code",
      "metadata": {
        "colab": {
          "base_uri": "https://localhost:8080/"
        },
        "id": "KRE-pUWKsVnZ",
        "outputId": "88580f95-5416-42d0-8281-1ff598d34450"
      },
      "source": [
        "#Média de saldo do BD\n",
        "q6_1 = \"select  avg(Cliente.saldo) from Cliente \"\n",
        "cursor.execute(q6_1)\n",
        "media_saldo = cursor.fetchall()\n",
        "print(f'Média  de saldo dos clientes contatados : { round(media_saldo[0][0],2)}€')"
      ],
      "execution_count": null,
      "outputs": [
        {
          "output_type": "stream",
          "text": [
            "Média  de saldo dos clientes contatados : 1362.27€\n"
          ],
          "name": "stdout"
        }
      ]
    },
    {
      "cell_type": "code",
      "metadata": {
        "colab": {
          "base_uri": "https://localhost:8080/"
        },
        "id": "MyUp_bv4tTMX",
        "outputId": "83080c59-3601-4931-abfe-f3c57840cbbd"
      },
      "source": [
        "# Taxa de adesão com saldo igual ou abaixo da média\n",
        "q6_1 = \"select  count(Cliente.saldo) from Cliente where Cliente.status_final = 'sim' and Cliente.saldo <= 1362.27 \"\n",
        "cursor.execute(q6_1)\n",
        "saldo_menor_s = cursor.fetchall()\n",
        "\n",
        "q6_1 = \"select  count(Cliente.saldo) from Cliente where Cliente.saldo <= 1362.27 \"\n",
        "cursor.execute(q6_1)\n",
        "saldo_menor_t = cursor.fetchall()\n",
        "taxa_menor_media = saldo_menor_s[0][0]/ saldo_menor_t[0][0]\n",
        "\n",
        "print(f'Taxa de adesão de clientes com saldo menor ou igual a média geral: { round(taxa_menor_media*100,2)}%')"
      ],
      "execution_count": null,
      "outputs": [
        {
          "output_type": "stream",
          "text": [
            "Taxa de adesão de clientes com saldo menor ou igual a média geral: 10.19%\n"
          ],
          "name": "stdout"
        }
      ]
    },
    {
      "cell_type": "code",
      "metadata": {
        "colab": {
          "base_uri": "https://localhost:8080/"
        },
        "id": "cUKNNv_4vn0L",
        "outputId": "34b9cea6-ef78-4320-fad9-182b839cd406"
      },
      "source": [
        "# Taxa de adesão com saldo superior a média\n",
        "q6_1 = \"select  count(Cliente.saldo) from Cliente where Cliente.status_final = 'sim' and Cliente.saldo > 1362.27 \"\n",
        "cursor.execute(q6_1)\n",
        "saldo_maior_s = cursor.fetchall()\n",
        "\n",
        "q6_1 = \"select  count(Cliente.saldo) from Cliente where Cliente.saldo > 1362.27 \"\n",
        "cursor.execute(q6_1)\n",
        "saldo_maior_t = cursor.fetchall()\n",
        "taxa_maior_media = saldo_maior_s[0][0]/ saldo_maior_t[0][0]\n",
        "print(f'Taxa de adesão de clientes com saldo maior a média geral: { round(taxa_maior_media*100,2)}%')\n"
      ],
      "execution_count": null,
      "outputs": [
        {
          "output_type": "stream",
          "text": [
            "Taxa de adesão de clientes com saldo maior a média geral: 15.99%\n"
          ],
          "name": "stdout"
        }
      ]
    },
    {
      "cell_type": "markdown",
      "metadata": {
        "id": "dcme7hAO71Xc"
      },
      "source": [
        "Explorando ainda mais o saldo de cliente, concluimos que o saldo é relevante para adesão ou não, sendo adesão maior quanto maior o saldo. "
      ]
    },
    {
      "cell_type": "markdown",
      "metadata": {
        "id": "oa8rNMOh86PS"
      },
      "source": [
        "### 7.**Em qual mês foram realizadas mais ligações?**"
      ]
    },
    {
      "cell_type": "markdown",
      "metadata": {
        "id": "snlny9ZQb9u3"
      },
      "source": [
        "PARA SABER EM QUE MÊS FOI REALIZADO MAIS ESORÇOS TEMOS A SEGUINTE SOLUÇÃO:"
      ]
    },
    {
      "cell_type": "code",
      "metadata": {
        "id": "y1kL_IbpK08z"
      },
      "source": [
        "#janeiro\n",
        "q7_1 = \"select  count(*) from Contato where Contato.mes = 'janeiro' \"\n",
        "cursor.execute(q7_1)\n",
        "janeiro = cursor.fetchall()\n",
        "\n",
        "#fevereiro\n",
        "q7_1 = \"select  count(*) from Contato where Contato.mes = 'fevereiro' \"\n",
        "cursor.execute(q7_1)\n",
        "fevereiro = cursor.fetchall()\n",
        "\n",
        "#março\n",
        "q7_1 = \"select  count(*) from Contato where Contato.mes = 'março' \"\n",
        "cursor.execute(q7_1)\n",
        "marco = cursor.fetchall()\n",
        "\n",
        "#abril\n",
        "q7_1 = \"select  count(*) from Contato where Contato.mes = 'abril' \"\n",
        "cursor.execute(q7_1)\n",
        "abril = cursor.fetchall()\n",
        "\n",
        "#maio\n",
        "q7_1 = \"select  count(*) from Contato where Contato.mes = 'maio' \"\n",
        "cursor.execute(q7_1)\n",
        "maio = cursor.fetchall()\n",
        "\n",
        "#junho\n",
        "q7_1 = \"select  count(*) from Contato where Contato.mes = 'junho' \"\n",
        "cursor.execute(q7_1)\n",
        "junho = cursor.fetchall()\n",
        "\n",
        "#julho\n",
        "q7_1 = \"select  count(*) from Contato where Contato.mes = 'julho' \"\n",
        "cursor.execute(q7_1)\n",
        "julho = cursor.fetchall()\n",
        "\n",
        "#agosto\n",
        "q7_1 = \"select  count(*) from Contato where Contato.mes = 'agosto' \"\n",
        "cursor.execute(q7_1)\n",
        "agosto = cursor.fetchall()\n",
        "\n",
        "#setembro\n",
        "q7_1 = \"select  count(*) from Contato where Contato.mes = 'setembro' \"\n",
        "cursor.execute(q7_1)\n",
        "setembro = cursor.fetchall()\n",
        "\n",
        "#outubro\n",
        "q7_1 = \"select  count(*) from Contato where Contato.mes = 'outubro' \"\n",
        "cursor.execute(q7_1)\n",
        "outubro = cursor.fetchall()\n",
        "\n",
        "#novembro\n",
        "q7_1 = \"select  count(*) from Contato where Contato.mes = 'novembro' \"\n",
        "cursor.execute(q7_1)\n",
        "novembro = cursor.fetchall()\n",
        "\n",
        "#dezembro\n",
        "q7_1 = \"select  count(*) from Contato where Contato.mes = 'dezembro' \"\n",
        "cursor.execute(q7_1)\n",
        "dezembro = cursor.fetchall()"
      ],
      "execution_count": null,
      "outputs": []
    },
    {
      "cell_type": "code",
      "metadata": {
        "id": "XI87Tp4_K6Tq"
      },
      "source": [
        "valores_mes = [janeiro[0][0],fevereiro[0][0],marco[0][0],abril[0][0],maio[0][0],junho[0][0],julho[0][0],agosto[0][0],setembro[0][0],outubro[0][0],novembro[0][0],dezembro[0][0]]\n",
        "indice_mes = ['janeiro','fevereiro','marco','abril','maio','junho','julho','agosto','setembro','outubro','novembro','dezembro']"
      ],
      "execution_count": null,
      "outputs": []
    },
    {
      "cell_type": "markdown",
      "metadata": {
        "id": "sv7k4lI0dSXu"
      },
      "source": [
        "####GRAFICAMENTE"
      ]
    },
    {
      "cell_type": "code",
      "metadata": {
        "id": "2JvVf6FCK7QL",
        "colab": {
          "base_uri": "https://localhost:8080/",
          "height": 555
        },
        "outputId": "ba33d8d4-41e4-4881-e8ad-2aa16405f7bd"
      },
      "source": [
        "plotar_histograma_1(valores_mes,indice_mes,tamanho = (12,9),titulo='Quantidade de ligações por mês')"
      ],
      "execution_count": null,
      "outputs": [
        {
          "output_type": "display_data",
          "data": {
            "image/png": "[encoded data removed]",
            "text/plain": [
              "<Figure size 864x648 with 1 Axes>"
            ]
          },
          "metadata": {
            "tags": []
          }
        }
      ]
    },
    {
      "cell_type": "markdown",
      "metadata": {
        "id": "iHCtZaEBc0Sx"
      },
      "source": [
        "Analisando o gráfico, observamos esforço maciço no mês de maio, será que esse esforço teve resultado em adesão? "
      ]
    },
    {
      "cell_type": "markdown",
      "metadata": {
        "id": "LcUV6qpHc5Od"
      },
      "source": [
        "###**8.Mês com maior taxa de adeção ?**"
      ]
    },
    {
      "cell_type": "markdown",
      "metadata": {
        "id": "ks4msLfgdLA8"
      },
      "source": [
        "APÓS ANALISARMOS O MÊS COM MAIS LIGAÇÕES, IREMOS ANALISAR OS MESES EM TAXA DE ADESÃO:"
      ]
    },
    {
      "cell_type": "code",
      "metadata": {
        "id": "zVzRU6OiOiVA"
      },
      "source": [
        "#janeiro\n",
        "q8_1 = \"select  count(*) from Contato,Cliente where Cliente.Id_cliente = Contato.Id_cliente and Cliente.status_final = 'sim' and Contato.mes = 'janeiro' \"\n",
        "cursor.execute(q8_1)\n",
        "janeiro_s = cursor.fetchall()\n",
        "prop_jan = janeiro_s[0][0]/janeiro[0][0]\n",
        "\n",
        "#fevereiro\n",
        "q8_1 = \"select  count(*) from Contato,Cliente where Cliente.Id_cliente = Contato.Id_cliente and Cliente.status_final = 'sim' and Contato.mes = 'fevereiro' \"\n",
        "cursor.execute(q8_1)\n",
        "fevereiro_s = cursor.fetchall()\n",
        "prop_fev = fevereiro_s[0][0]/fevereiro[0][0]\n",
        "\n",
        "#março\n",
        "q8_1 = \"select  count(*) from Contato,Cliente where Cliente.Id_cliente = Contato.Id_cliente and Cliente.status_final = 'sim' and Contato.mes = 'março' \"\n",
        "cursor.execute(q8_1)\n",
        "marco_s = cursor.fetchall()\n",
        "prop_mar = marco_s[0][0]/marco[0][0]\n",
        "\n",
        "\n",
        "#abril\n",
        "q7_1 = \"select  count(*) from Contato,Cliente where Cliente.Id_cliente = Contato.Id_cliente and Cliente.status_final = 'sim' and Contato.mes = 'abril' \"\n",
        "cursor.execute(q7_1)\n",
        "abril_s = cursor.fetchall()\n",
        "prop_abr = abril_s[0][0]/abril[0][0]\n",
        "\n",
        "\n",
        "#maio\n",
        "q8_1 = \"select  count(*) from Contato,Cliente where Cliente.Id_cliente = Contato.Id_cliente and Cliente.status_final = 'sim' and Contato.mes = 'maio' \"\n",
        "cursor.execute(q8_1)\n",
        "maio_s = cursor.fetchall()\n",
        "prop_maio = maio_s[0][0]/maio[0][0]\n",
        "\n",
        "\n",
        "#junho\n",
        "q7_1 = \"select  count(*) from Contato,Cliente where Cliente.Id_cliente = Contato.Id_cliente and Cliente.status_final = 'sim' and Contato.mes = 'junho' \"\n",
        "cursor.execute(q7_1)\n",
        "junho_s = cursor.fetchall()\n",
        "prop_jun = junho_s[0][0]/junho[0][0]\n",
        "\n",
        "#julho\n",
        "q8_1 = \"select  count(*) from Contato,Cliente where Cliente.Id_cliente = Contato.Id_cliente and Cliente.status_final = 'sim' and Contato.mes = 'julho' \"\n",
        "cursor.execute(q8_1)\n",
        "julho_s = cursor.fetchall()\n",
        "prop_jul = julho_s[0][0]/julho[0][0]\n",
        "\n",
        "#agosto\n",
        "q8_1 = \"select  count(*) from Contato,Cliente where Cliente.Id_cliente = Contato.Id_cliente and Cliente.status_final = 'sim' and Contato.mes = 'agosto' \"\n",
        "cursor.execute(q8_1)\n",
        "agosto_s = cursor.fetchall()\n",
        "prop_ago = agosto_s[0][0]/agosto[0][0]\n",
        "\n",
        "#setembro\n",
        "q8_1 = \"select  count(*) from Contato,Cliente where Cliente.Id_cliente = Contato.Id_cliente and Cliente.status_final = 'sim' and Contato.mes = 'setembro' \"\n",
        "cursor.execute(q8_1)\n",
        "setembro_s = cursor.fetchall()\n",
        "prop_set = setembro_s[0][0]/agosto[0][0]\n",
        "\n",
        "#outubro\n",
        "q8_1 = \"select  count(*) from Contato,Cliente where Cliente.Id_cliente = Contato.Id_cliente and Cliente.status_final = 'sim' and Contato.mes = 'outubro' \"\n",
        "cursor.execute(q8_1)\n",
        "outubro_s = cursor.fetchall()\n",
        "prop_out = outubro_s[0][0]/outubro[0][0]\n",
        "\n",
        "#novembro\n",
        "q8_1 = \"select  count(*) from Contato,Cliente where Cliente.Id_cliente = Contato.Id_cliente and Cliente.status_final = 'sim' and Contato.mes = 'novembro' \"\n",
        "cursor.execute(q8_1)\n",
        "novembro_s = cursor.fetchall()\n",
        "prop_nov = novembro_s[0][0]/novembro[0][0]\n",
        "\n",
        "#dezembro\n",
        "q8_1 = \"select  count(*) from Contato,Cliente where Cliente.Id_cliente = Contato.Id_cliente and Cliente.status_final = 'sim' and Contato.mes = 'dezembro' \"\n",
        "cursor.execute(q8_1)\n",
        "dezembro_s = cursor.fetchall()\n",
        "prop_dez = dezembro_s[0][0]/dezembro[0][0]\n"
      ],
      "execution_count": null,
      "outputs": []
    },
    {
      "cell_type": "markdown",
      "metadata": {
        "id": "slQMndT_dhl6"
      },
      "source": [
        "#### GRAFICAMENTE"
      ]
    },
    {
      "cell_type": "code",
      "metadata": {
        "id": "Xqs59gLFj-9Y"
      },
      "source": [
        "valores_mes_s = [prop_jan,prop_fev,prop_mar,prop_abr,prop_maio,prop_jun,prop_jul,prop_ago,prop_set,prop_out,prop_nov,prop_dez]\n",
        "indice_mes = ['janeiro','fevereiro','marco','abril','maio','junho','julho','agosto','setembro','outubro','novembro','dezembro']"
      ],
      "execution_count": null,
      "outputs": []
    },
    {
      "cell_type": "code",
      "metadata": {
        "id": "EnFU6PJ-kD_k",
        "colab": {
          "base_uri": "https://localhost:8080/",
          "height": 555
        },
        "outputId": "593ffc1a-bdb2-4e4f-c200-73f81f5e6754"
      },
      "source": [
        "plotar_histograma_1(valores_mes_s,indice_mes,tamanho = (12,9),titulo='Porcentagem de adesões por mês',cor='b')"
      ],
      "execution_count": null,
      "outputs": [
        {
          "output_type": "display_data",
          "data": {
            "image/png": "[encoded data removed]",
            "text/plain": [
              "<Figure size 864x648 with 1 Axes>"
            ]
          },
          "metadata": {
            "tags": []
          }
        }
      ]
    },
    {
      "cell_type": "markdown",
      "metadata": {
        "id": "wS_ojgpNeG6N"
      },
      "source": [
        "Ao analisar o gráfico podemos ver que maio foi um mês com taxa de adesão baixa, ou seja, quantidade de ligação não significa taxa de adesão alta."
      ]
    },
    {
      "cell_type": "markdown",
      "metadata": {
        "id": "k1TK0_4M_ODY"
      },
      "source": [
        "### 9.**Qual a porcentagem de adesão por educação em comparação a proporção de ligação ?**\n",
        "\n"
      ]
    },
    {
      "cell_type": "markdown",
      "metadata": {
        "id": "Eg8w15eci6du"
      },
      "source": [
        "PARA SABER SE A EDUCAÇÃO AFETA NA ADEÇÃO FORMULAMOS A SEGUINTE SOLUÇÃO:"
      ]
    },
    {
      "cell_type": "code",
      "metadata": {
        "id": "DU7K2c7b2GOJ"
      },
      "source": [
        "#Total população\n",
        "q9_5 = \"select Count(Cliente.educação)  from Cliente \"\n",
        "cursor.execute(q9_5)\n",
        "educ_total = cursor.fetchall()"
      ],
      "execution_count": null,
      "outputs": []
    },
    {
      "cell_type": "code",
      "metadata": {
        "id": "APm3S2z--XRq"
      },
      "source": [
        "#Desconhecido que aderiram\n",
        "q9_1 = \"select Count(Cliente.educação)  from Cliente where Cliente.educação = 'desconhecido' and Cliente.status_final = 'sim'\"\n",
        "cursor.execute(q9_1)\n",
        "educ_des = cursor.fetchall()\n",
        "\n",
        "\n",
        "#Desconhecidos totais\n",
        "q9_2 =  \"select Count(Cliente.educação)  from Cliente where Cliente.educação = 'desconhecido'\"\n",
        "cursor.execute(q9_2)\n",
        "educ_des_t = cursor.fetchall()\n",
        "\n",
        "prop_des_t = educ_des_t[0][0]/educ_total[0][0]\n",
        "\n",
        "prop_des_s = educ_des[0][0]/educ_des_t[0][0]"
      ],
      "execution_count": null,
      "outputs": []
    },
    {
      "cell_type": "code",
      "metadata": {
        "id": "8aAchY7y_B0E"
      },
      "source": [
        "#Ensino Fundamental que aderiram\n",
        "q9_1 = \"select Count(Cliente.educação)  from Cliente where Cliente.educação = 'ensino fundamental' and Cliente.status_final = 'sim'\"\n",
        "cursor.execute(q9_1)\n",
        "educ_ef = cursor.fetchall()\n",
        "\n",
        "\n",
        "#Ensino Fundamental totais\n",
        "q9_2 =  \"select Count(Cliente.educação)  from Cliente where Cliente.educação = 'ensino fundamental'\"\n",
        "cursor.execute(q9_2)\n",
        "educ_ef_t = cursor.fetchall()\n",
        "\n",
        "prop_ef_t = educ_ef_t[0][0]/educ_total[0][0]\n",
        "\n",
        "prop_ef_s = educ_ef[0][0]/educ_ef_t[0][0]"
      ],
      "execution_count": null,
      "outputs": []
    },
    {
      "cell_type": "code",
      "metadata": {
        "id": "2P5gTfC8AeaY"
      },
      "source": [
        "#Ensino Fundamental que aderiram\n",
        "q9_1 = \"select Count(Cliente.educação)  from Cliente where Cliente.educação = 'ensino médio' and Cliente.status_final = 'sim'\"\n",
        "cursor.execute(q9_1)\n",
        "educ_em = cursor.fetchall()\n",
        "\n",
        "\n",
        "#Ensino Fundamental totais\n",
        "q9_2 =  \"select Count(Cliente.educação)  from Cliente where Cliente.educação = 'ensino médio'\"\n",
        "cursor.execute(q9_2)\n",
        "educ_em_t = cursor.fetchall()\n",
        "\n",
        "prop_em_t = educ_em_t[0][0]/educ_total[0][0]\n",
        "\n",
        "prop_em_s = educ_em[0][0]/educ_em_t[0][0]"
      ],
      "execution_count": null,
      "outputs": []
    },
    {
      "cell_type": "code",
      "metadata": {
        "id": "I-vMeG3F_bUQ"
      },
      "source": [
        "#Ensino Fundamental que aderiram\n",
        "q9_1 = \"select Count(Cliente.educação)  from Cliente where Cliente.educação = 'ensino superior' and Cliente.status_final = 'sim'\"\n",
        "cursor.execute(q9_1)\n",
        "educ_es = cursor.fetchall()\n",
        "\n",
        "\n",
        "#Ensino Fundamental totais\n",
        "q9_2 =  \"select Count(Cliente.educação)  from Cliente where Cliente.educação = 'ensino superior'\"\n",
        "cursor.execute(q9_2)\n",
        "educ_es_t = cursor.fetchall()\n",
        "\n",
        "prop_es_t = educ_es_t[0][0]/educ_total[0][0]\n",
        "\n",
        "prop_es_s = educ_es[0][0]/educ_es_t[0][0]"
      ],
      "execution_count": null,
      "outputs": []
    },
    {
      "cell_type": "code",
      "metadata": {
        "id": "IFRhiongpVrq"
      },
      "source": [
        "valores_educ_t = [prop_des_t,prop_ef_t,prop_em_t,prop_es_t]\n",
        "valores_educ_s = [prop_des_s,prop_ef_s,prop_em_s,prop_es_s]\n",
        "indices_educ = ['Desconhecido','Ensino Fundamnetal','Ensino Médio','Ensino Superior']"
      ],
      "execution_count": null,
      "outputs": []
    },
    {
      "cell_type": "markdown",
      "metadata": {
        "id": "Mo4A8ydfCrbE"
      },
      "source": [
        "#### GRAFICAMENTE "
      ]
    },
    {
      "cell_type": "code",
      "metadata": {
        "id": "Iyw8_5rgpVak",
        "colab": {
          "base_uri": "https://localhost:8080/",
          "height": 609
        },
        "outputId": "78eee8ac-f1f1-4082-e95b-c25a877fd4c8"
      },
      "source": [
        "# Cria eixo x para Adeção e População com uma separação de 0.25 entre as barras\n",
        "x1 =  np.arange(len(valores_educ_s))\n",
        "x2 = [x + 0.25 for x in x1]\n",
        "\n",
        "\n",
        "plt.figure(figsize = (20,10))\n",
        "\n",
        "# Plota as barras\n",
        "plt.bar(x1, valores_educ_s, width=0.25, label = 'Adesão', color = 'b')\n",
        "plt.bar(x2, valores_educ_t, width=0.25, label = 'População', color = 'y')\n",
        "\n",
        "# coloca o nome dos meses como label do eixo x\n",
        "plt.xticks([x + 0.25 for x in range(len(valores_educ_s))], indices_educ)\n",
        "\n",
        "# inseri uma legenda no gráfico\n",
        "plt.legend()\n",
        "\n",
        "plt.title(\"Proporção de adesão por educação vs. Proporção das ligações\")\n",
        "plt.show()"
      ],
      "execution_count": null,
      "outputs": [
        {
          "output_type": "display_data",
          "data": {
            "image/png": "[encoded data removed]",
            "text/plain": [
              "<Figure size 1440x720 with 1 Axes>"
            ]
          },
          "metadata": {
            "tags": []
          }
        }
      ]
    },
    {
      "cell_type": "markdown",
      "metadata": {
        "id": "2UNNFGTwjI5b"
      },
      "source": [
        "Podemos perceber que o ensino superior tem taxa de adeção quase 2x maior do que a taxa de ensino fundamental, portanto a educação do cliente é um fator relevante para adesão.\n",
        "Podemos ver também que a ligação para quem tem ensino médio é muito superior as outras, com uma taxa de adeção média."
      ]
    },
    {
      "cell_type": "markdown",
      "metadata": {
        "id": "5N0glvq_QiXS"
      },
      "source": [
        "### 10.Média de idade de adesão e não adesão?"
      ]
    },
    {
      "cell_type": "code",
      "metadata": {
        "id": "cxuVs_ApQh_J",
        "colab": {
          "base_uri": "https://localhost:8080/"
        },
        "outputId": "fe5def7c-7380-4673-e920-c5b57eed9d52"
      },
      "source": [
        "#Média de idade das pessoas que aderiram\n",
        "q10_1 = \"select avg(Cliente.idade) from Cliente where Cliente.status_final = 'sim'\"\n",
        "cursor.execute(q10_1)\n",
        "media_idade_s = cursor.fetchall()\n",
        "\n",
        "#Média de idade das pessoas que não aderiram\n",
        "q10_2 = \"select avg(Cliente.idade) from Cliente where Cliente.status_final = 'não'\"\n",
        "cursor.execute(q10_2)\n",
        "media_idade_n = cursor.fetchall()\n",
        "\n",
        "print(f'Média de idade pessoa que aderiram: {round(media_idade_s[0][0],2)} \\nMédia de idade pessoa que não aderiram: {round(media_idade_n[0][0],2)} \\n')"
      ],
      "execution_count": null,
      "outputs": [
        {
          "output_type": "stream",
          "text": [
            "Média de idade pessoa que aderiram: 41.67 \n",
            "Média de idade pessoa que não aderiram: 40.84 \n",
            "\n"
          ],
          "name": "stdout"
        }
      ]
    },
    {
      "cell_type": "markdown",
      "metadata": {
        "id": "KaV1-MNtTF-9"
      },
      "source": [
        "Portanto, não há uma diferença relevante da méda de idade de quem aderiu ou não a campanha."
      ]
    },
    {
      "cell_type": "markdown",
      "metadata": {
        "id": "PFAf6VPk9bWp"
      },
      "source": [
        "# Modelos preditivos\n",
        "Nesta seção, utilizaremos a biblioteca *scikit-learn* para identificar padrões através da coletânea de dados deste projeto e prever classificações de instâncias aleatórias. <p>\n",
        "A seção **Com viés de desbalanceamento** conta com o dataset desproporcional, isto é, 89:11 de proporção em recusa/adesão da campanha. <br>\n",
        "Já a seção **Sem viés de desbalanceamento** iguala as classificações, ou seja, 50:50 de proporção em recusa/adesão da campanha."
      ]
    },
    {
      "cell_type": "markdown",
      "metadata": {
        "id": "M8MH0PESXTXr"
      },
      "source": [
        "## Com viés de desbalanceamento"
      ]
    },
    {
      "cell_type": "markdown",
      "metadata": {
        "id": "W_b4LENuDEZJ"
      },
      "source": [
        "### KNN\n",
        "*(K — Nearest Neighbors)* é um dos muitos algoritmos de aprendizagem supervisionada usado no campo de *machine learning*. É um classificador onde o aprendizado é baseado “no quão similar” é um dado do outro. O treinamento é formado por vetores de *n* dimensões."
      ]
    },
    {
      "cell_type": "markdown",
      "metadata": {
        "id": "OVtzimhMmQ7E"
      },
      "source": [
        "#### Tratamento dos dados"
      ]
    },
    {
      "cell_type": "code",
      "metadata": {
        "id": "rnA_86RN-Ydn"
      },
      "source": [
        "# Definição das classes X e Y\n",
        "\n",
        "X = df_modelo.loc[:, df_modelo.columns != 'y']\n",
        "y = df_modelo.loc[:, df_modelo.columns == 'y']"
      ],
      "execution_count": null,
      "outputs": []
    },
    {
      "cell_type": "code",
      "metadata": {
        "id": "pfdcINC2_dAb"
      },
      "source": [
        "# Padronização dos dados (média = 0 e desvio padrão = 1)\n",
        "from sklearn.preprocessing import StandardScaler\n",
        "\n",
        "padronizador = StandardScaler()\n",
        "X_std = padronizador.fit_transform(X)"
      ],
      "execution_count": null,
      "outputs": []
    },
    {
      "cell_type": "markdown",
      "metadata": {
        "id": "04atlTaEdrhI"
      },
      "source": [
        "#### Busca do melhor $k$"
      ]
    },
    {
      "cell_type": "code",
      "metadata": {
        "id": "t49XhtQf_RmU",
        "colab": {
          "base_uri": "https://localhost:8080/"
        },
        "outputId": "e85d1fea-5045-48bf-d552-ff98786576a6"
      },
      "source": [
        "# Criação da variável de 'KNeighborsClassifier'\n",
        "from sklearn.neighbors import KNeighborsClassifier\n",
        "knn = KNeighborsClassifier() \n",
        "\n",
        "# Criação da Pipeline para mapeamento\n",
        "from sklearn.pipeline import Pipeline\n",
        "pipe = Pipeline([('padronizador', padronizador), ('knn', knn)]) \n",
        "\n",
        "# Definição da lista de busca entre os números plausíveis\n",
        "lista_busca = [x for x in range(1,4)]\n",
        "    \n",
        "# Definição do espaço de busca do algoritmo\n",
        "espaço_de_busca = [{'knn__n_neighbors': lista_busca}] \n",
        "\n",
        "# Aplicação do algoritmo GridSearchCV, para buscar o número de vizinhos ideal\n",
        "from sklearn.model_selection import GridSearchCV\n",
        "classificador = GridSearchCV(pipe, espaço_de_busca, cv=5, verbose=0).fit(X_std, y) \n",
        "\n",
        "# Impressão do melhor número de vizinhos, de acordo com o algoritmo\n",
        "melhor_k = classificador.best_estimator_.get_params()['knn__n_neighbors']\n",
        "melhor_k"
      ],
      "execution_count": null,
      "outputs": [
        {
          "output_type": "execute_result",
          "data": {
            "text/plain": [
              "2"
            ]
          },
          "metadata": {
            "tags": []
          },
          "execution_count": 51
        }
      ]
    },
    {
      "cell_type": "markdown",
      "metadata": {
        "id": "NYSO_bdQjd1c"
      },
      "source": [
        "#### Divisão dos conjuntos de treinamento e teste"
      ]
    },
    {
      "cell_type": "code",
      "metadata": {
        "id": "aOa8GqpzBeO2"
      },
      "source": [
        "# Divisão do dataset: 70% para treinamento e 30% para teste\n",
        "from sklearn.model_selection import train_test_split\n",
        "\n",
        "X_treino, X_teste, y_treino, y_teste = train_test_split(X_std, y, random_state=0, test_size=.3)"
      ],
      "execution_count": null,
      "outputs": []
    },
    {
      "cell_type": "markdown",
      "metadata": {
        "id": "JxkiKUbKjpJQ"
      },
      "source": [
        "#### Predição do conjunto de teste"
      ]
    },
    {
      "cell_type": "code",
      "metadata": {
        "id": "pZo0QF0TBjSu",
        "colab": {
          "base_uri": "https://localhost:8080/"
        },
        "outputId": "f5c28ad1-3435-417d-a7d7-60988afeb10b"
      },
      "source": [
        "# Predição das classificações do já definido conjunto de teste\n",
        "classif = KNeighborsClassifier(n_neighbors=melhor_k, metric='manhattan')\n",
        "classif.fit(X_treino, y_treino)\n",
        "\n",
        "# Impressão das predições\n",
        "y_predito = classif.predict(X_teste)\n",
        "y_predito"
      ],
      "execution_count": null,
      "outputs": [
        {
          "output_type": "execute_result",
          "data": {
            "text/plain": [
              "array([0, 0, 0, ..., 0, 0, 0])"
            ]
          },
          "metadata": {
            "tags": []
          },
          "execution_count": 53
        }
      ]
    },
    {
      "cell_type": "markdown",
      "metadata": {
        "id": "mInlIuo3j-Yx"
      },
      "source": [
        "#### Avaliação da predição"
      ]
    },
    {
      "cell_type": "code",
      "metadata": {
        "id": "04c1xN11wGiF",
        "colab": {
          "base_uri": "https://localhost:8080/",
          "height": 355
        },
        "outputId": "2d61c973-e1b0-40f7-e8b8-d3bf754cabfa"
      },
      "source": [
        "# Impressão do mapa de calor da matriz de confusão\n",
        "\n",
        "legendas = ['recusa', 'adesão']\n",
        "titulo = 'Matriz de confusão - KNN'\n",
        "mapa_de_calor(y_teste, y_predito, legendas, titulo)"
      ],
      "execution_count": null,
      "outputs": [
        {
          "output_type": "execute_result",
          "data": {
            "text/plain": [
              "<matplotlib.axes._subplots.AxesSubplot at 0x7fd355a30510>"
            ]
          },
          "metadata": {
            "tags": []
          },
          "execution_count": 54
        },
        {
          "output_type": "display_data",
          "data": {
            "image/png": "[encoded data removed]",
            "text/plain": [
              "<Figure size 576x360 with 2 Axes>"
            ]
          },
          "metadata": {
            "tags": []
          }
        }
      ]
    },
    {
      "cell_type": "code",
      "metadata": {
        "id": "-PNayx1fCiBY",
        "colab": {
          "base_uri": "https://localhost:8080/"
        },
        "outputId": "0c59a1f4-1ec5-4575-b85c-6c4f8d0d3f44"
      },
      "source": [
        "# Impressão do F1, da precisão, da revocação e da acurácia do modelo preditivo\n",
        "\n",
        "avaliacao(y_teste, y_predito)"
      ],
      "execution_count": null,
      "outputs": [
        {
          "output_type": "stream",
          "text": [
            "f1: 15.31%\n",
            "precisão: 39.95%\n",
            "revocação: 9.47%\n",
            "acurácia: 87.68%\n"
          ],
          "name": "stdout"
        }
      ]
    },
    {
      "cell_type": "code",
      "metadata": {
        "colab": {
          "base_uri": "https://localhost:8080/"
        },
        "id": "wfnnI0okckkY",
        "outputId": "eae9e4fd-690a-4851-bb82-d9bb4c3cfa07"
      },
      "source": [
        "# Persistência do modelo\n",
        "from sklearn.externals import joblib\n",
        "\n",
        "filename = 'KNN_modelo_marketing_desb.sav'\n",
        "joblib.dump(knn, filename)"
      ],
      "execution_count": null,
      "outputs": [
        {
          "output_type": "execute_result",
          "data": {
            "text/plain": [
              "['KNN_modelo_marketing_desb.sav']"
            ]
          },
          "metadata": {
            "tags": []
          },
          "execution_count": 56
        }
      ]
    },
    {
      "cell_type": "markdown",
      "metadata": {
        "id": "HCYzD6itnXn1"
      },
      "source": [
        "### Regresssão linear simples\n",
        "É uma equação para se estimar a condicional de uma variável y, dados os valores de alguma outra variáveis x."
      ]
    },
    {
      "cell_type": "markdown",
      "metadata": {
        "id": "daIFLZyf_vFL"
      },
      "source": [
        "#### Tratamento dos dados"
      ]
    },
    {
      "cell_type": "code",
      "metadata": {
        "id": "2FWn96-Uwgz_"
      },
      "source": [
        "# Definição das classes X e Y\n",
        "\n",
        "X = df_tratado[['duração']]\n",
        "y = df_tratado[['y']]"
      ],
      "execution_count": null,
      "outputs": []
    },
    {
      "cell_type": "markdown",
      "metadata": {
        "id": "Lm0oqM9IAzu2"
      },
      "source": [
        "#### Treino do modelo"
      ]
    },
    {
      "cell_type": "code",
      "metadata": {
        "id": "1An1mOWKAtpI",
        "colab": {
          "base_uri": "https://localhost:8080/"
        },
        "outputId": "678a1f36-0662-413a-ca52-29dceed9ef76"
      },
      "source": [
        "# Criação e treinamento do modelo de Regressão Linear\n",
        "from sklearn.linear_model import LinearRegression\n",
        "\n",
        "modelo = LinearRegression()\n",
        "modelo.fit(X, y)"
      ],
      "execution_count": null,
      "outputs": [
        {
          "output_type": "execute_result",
          "data": {
            "text/plain": [
              "LinearRegression(copy_X=True, fit_intercept=True, n_jobs=None, normalize=False)"
            ]
          },
          "metadata": {
            "tags": []
          },
          "execution_count": 58
        }
      ]
    },
    {
      "cell_type": "markdown",
      "metadata": {
        "id": "mAcoBDF-BVH7"
      },
      "source": [
        "#### Visualização dos coeficientes"
      ]
    },
    {
      "cell_type": "code",
      "metadata": {
        "id": "tYGinoPfwnps",
        "colab": {
          "base_uri": "https://localhost:8080/"
        },
        "outputId": "2c44a9c9-9a11-445a-d603-4a97139a1850"
      },
      "source": [
        "# Visualização do coeficiente encontrado\n",
        "\n",
        "modelo.coef_"
      ],
      "execution_count": null,
      "outputs": [
        {
          "output_type": "execute_result",
          "data": {
            "text/plain": [
              "array([[0.00049238]])"
            ]
          },
          "metadata": {
            "tags": []
          },
          "execution_count": 59
        }
      ]
    },
    {
      "cell_type": "code",
      "metadata": {
        "id": "f2vetFgzwnf5",
        "colab": {
          "base_uri": "https://localhost:8080/"
        },
        "outputId": "e1b24af3-516d-4ab5-f062-2770541b8a73"
      },
      "source": [
        "# Visualização do R²\n",
        "\n",
        "correlação = modelo.score(X, y)\n",
        "print(f'O índice de correlação da duração da ligação com a sua resposta é igual a {round(correlação*100,2)}%. \\nEsta variável quantitativa é a que mais tem correlação com a adesão do cliente.')"
      ],
      "execution_count": null,
      "outputs": [
        {
          "output_type": "stream",
          "text": [
            "O índice de correlação da duração da ligação com a sua resposta é igual a 15.56%. \n",
            "Esta variável quantitativa é a que mais tem correlação com a adesão do cliente.\n"
          ],
          "name": "stdout"
        }
      ]
    },
    {
      "cell_type": "markdown",
      "metadata": {
        "id": "2Vr2psoWBPgu"
      },
      "source": [
        "#### Divisão dos conjuntos de treinamento e teste"
      ]
    },
    {
      "cell_type": "code",
      "metadata": {
        "id": "Uu0ozPyZHn5i"
      },
      "source": [
        "# Divisão do dataset: 70% para treinamento e 30% para teste\n",
        "\n",
        "X_treino, X_teste, y_treino, y_teste = train_test_split(X, y, random_state=0, test_size=.3)"
      ],
      "execution_count": null,
      "outputs": []
    },
    {
      "cell_type": "markdown",
      "metadata": {
        "id": "KS67KdilBfMr"
      },
      "source": [
        "#### Predição do conjunto de teste"
      ]
    },
    {
      "cell_type": "code",
      "metadata": {
        "id": "SToyrCM9wnUp",
        "colab": {
          "base_uri": "https://localhost:8080/"
        },
        "outputId": "ff5eeee9-b1eb-4f31-c78d-6dee16a98b9d"
      },
      "source": [
        "# Impressão das predições\n",
        "\n",
        "X_predito = modelo.predict(X_teste)\n",
        "X_predito"
      ],
      "execution_count": null,
      "outputs": [
        {
          "output_type": "execute_result",
          "data": {
            "text/plain": [
              "array([[0.0346772 ],\n",
              "       [0.51819349],\n",
              "       [0.10951882],\n",
              "       ...,\n",
              "       [0.08096083],\n",
              "       [0.06323518],\n",
              "       [0.09671696]])"
            ]
          },
          "metadata": {
            "tags": []
          },
          "execution_count": 62
        }
      ]
    },
    {
      "cell_type": "code",
      "metadata": {
        "colab": {
          "base_uri": "https://localhost:8080/"
        },
        "id": "Dp3wztZjdZjp",
        "outputId": "dbe067a7-774f-4c7e-be9d-78bed2a837ca"
      },
      "source": [
        "# Persistência do modelo com 'joblib'\n",
        "\n",
        "filename = 'Reg_linear_modelo_marketing.sav'\n",
        "joblib.dump(modelo, filename)"
      ],
      "execution_count": null,
      "outputs": [
        {
          "output_type": "execute_result",
          "data": {
            "text/plain": [
              "['Reg_linear_modelo_marketing.sav']"
            ]
          },
          "metadata": {
            "tags": []
          },
          "execution_count": 63
        }
      ]
    },
    {
      "cell_type": "markdown",
      "metadata": {
        "id": "Yw93ru6iCCzV"
      },
      "source": [
        "### Regressão logística"
      ]
    },
    {
      "cell_type": "markdown",
      "metadata": {
        "id": "gesP5FJ-LsNz"
      },
      "source": [
        "#### Tratamento dos dados"
      ]
    },
    {
      "cell_type": "code",
      "metadata": {
        "id": "ei-nYRDHCFaD"
      },
      "source": [
        "# Definição das classes X e Y\n",
        "\n",
        "X = df_modelo.loc[:, df_modelo.columns != 'y']\n",
        "y = df_modelo.loc[:, df_modelo.columns == 'y']"
      ],
      "execution_count": null,
      "outputs": []
    },
    {
      "cell_type": "code",
      "metadata": {
        "id": "nwd83GESGaiK"
      },
      "source": [
        "# Padronização dos dados (média = 0 e desvio padrão = 1)\n",
        "\n",
        "padronizador = StandardScaler()\n",
        "X_std = padronizador.fit_transform(X)"
      ],
      "execution_count": null,
      "outputs": []
    },
    {
      "cell_type": "markdown",
      "metadata": {
        "id": "16pe_JLRLuds"
      },
      "source": [
        "#### Divisão dos conjuntos de treinamento e teste"
      ]
    },
    {
      "cell_type": "code",
      "metadata": {
        "id": "hvJOjksnHUv6"
      },
      "source": [
        "# Divisão do dataset: 70% para treinamento e 30% para teste\n",
        "\n",
        "X_treino, X_teste, y_treino, y_teste = train_test_split(X_std, y, random_state=0, test_size=0.3)"
      ],
      "execution_count": null,
      "outputs": []
    },
    {
      "cell_type": "markdown",
      "metadata": {
        "id": "PVr0qLCxLzIr"
      },
      "source": [
        "#### Treino do modelo"
      ]
    },
    {
      "cell_type": "code",
      "metadata": {
        "id": "6pndySD_Ik-N",
        "colab": {
          "base_uri": "https://localhost:8080/"
        },
        "outputId": "71d25e89-d6da-4e60-e047-c5f6caa4dfe4"
      },
      "source": [
        "# Criação e treinamento do modelo de Regressão Logística\n",
        "from sklearn.linear_model import LogisticRegression\n",
        "\n",
        "modelo = LogisticRegression(class_weight=\"balanced\")\n",
        "modelo.fit(X_treino, y_treino)"
      ],
      "execution_count": null,
      "outputs": [
        {
          "output_type": "execute_result",
          "data": {
            "text/plain": [
              "LogisticRegression(C=1.0, class_weight='balanced', dual=False,\n",
              "                   fit_intercept=True, intercept_scaling=1, l1_ratio=None,\n",
              "                   max_iter=100, multi_class='auto', n_jobs=None, penalty='l2',\n",
              "                   random_state=None, solver='lbfgs', tol=0.0001, verbose=0,\n",
              "                   warm_start=False)"
            ]
          },
          "metadata": {
            "tags": []
          },
          "execution_count": 67
        }
      ]
    },
    {
      "cell_type": "markdown",
      "metadata": {
        "id": "imETDMWrL_9H"
      },
      "source": [
        "#### Predição do conjunto de teste"
      ]
    },
    {
      "cell_type": "code",
      "metadata": {
        "id": "K6tnOI_IL_KP",
        "colab": {
          "base_uri": "https://localhost:8080/"
        },
        "outputId": "72f24830-83c9-4eea-9d1e-8804cdca362e"
      },
      "source": [
        "# Impressão das predições\n",
        "\n",
        "y_predito = modelo.predict(X_teste)\n",
        "y_predito"
      ],
      "execution_count": null,
      "outputs": [
        {
          "output_type": "execute_result",
          "data": {
            "text/plain": [
              "array([0, 0, 0, ..., 0, 1, 0])"
            ]
          },
          "metadata": {
            "tags": []
          },
          "execution_count": 68
        }
      ]
    },
    {
      "cell_type": "markdown",
      "metadata": {
        "id": "mHs9gANQMFpY"
      },
      "source": [
        "#### Avaliação da predição"
      ]
    },
    {
      "cell_type": "code",
      "metadata": {
        "id": "1Y2Ke3klJuGt",
        "colab": {
          "base_uri": "https://localhost:8080/",
          "height": 355
        },
        "outputId": "635a94d2-6a79-4673-82bb-505382a0e17e"
      },
      "source": [
        "# Impressão do mapa de calor da matriz de confusão\n",
        "\n",
        "titulo = 'Matriz de confusão - Regressão Logística'\n",
        "mapa_de_calor(y_teste, y_predito, legendas, titulo)"
      ],
      "execution_count": null,
      "outputs": [
        {
          "output_type": "execute_result",
          "data": {
            "text/plain": [
              "<matplotlib.axes._subplots.AxesSubplot at 0x7fd355910910>"
            ]
          },
          "metadata": {
            "tags": []
          },
          "execution_count": 69
        },
        {
          "output_type": "display_data",
          "data": {
            "image/png": "[encoded data removed]",
            "text/plain": [
              "<Figure size 576x360 with 2 Axes>"
            ]
          },
          "metadata": {
            "tags": []
          }
        }
      ]
    },
    {
      "cell_type": "code",
      "metadata": {
        "id": "H-2s6DC5K6m0",
        "colab": {
          "base_uri": "https://localhost:8080/"
        },
        "outputId": "ddd7f314-febe-42bd-a242-b84dcf58bc57"
      },
      "source": [
        "# Impressão do F1, da precisão, da revocação e da acurácia do modelo preditivo\n",
        "\n",
        "avaliacao(y_teste, y_predito)"
      ],
      "execution_count": null,
      "outputs": [
        {
          "output_type": "stream",
          "text": [
            "f1: 29.62%\n",
            "precisão: 19.1%\n",
            "revocação: 66.02%\n",
            "acurácia: 63.12%\n"
          ],
          "name": "stdout"
        }
      ]
    },
    {
      "cell_type": "code",
      "metadata": {
        "colab": {
          "base_uri": "https://localhost:8080/"
        },
        "id": "6KI_HZ78dru5",
        "outputId": "25a9053c-e07f-4f7e-c60b-d20036b78f10"
      },
      "source": [
        "# Persistência do modelo com 'joblib'\n",
        "\n",
        "filename = 'Reg_logistica_modelo_marketing_desb.sav'\n",
        "joblib.dump(modelo, filename)"
      ],
      "execution_count": null,
      "outputs": [
        {
          "output_type": "execute_result",
          "data": {
            "text/plain": [
              "['Reg_logistica_modelo_marketing_desb.sav']"
            ]
          },
          "metadata": {
            "tags": []
          },
          "execution_count": 71
        }
      ]
    },
    {
      "cell_type": "markdown",
      "metadata": {
        "id": "CoRYSBcQXzQ-"
      },
      "source": [
        "## Sem viés de desbalanceamento"
      ]
    },
    {
      "cell_type": "code",
      "metadata": {
        "id": "QEOmJtQYX4Hc"
      },
      "source": [
        "# Definição das classes X e Y\n",
        "\n",
        "X = df_modelo.loc[:, df_modelo.columns != 'y']\n",
        "y = df_modelo.loc[:, df_modelo.columns == 'y']"
      ],
      "execution_count": null,
      "outputs": []
    },
    {
      "cell_type": "code",
      "metadata": {
        "id": "i-eIKDjhX8xD"
      },
      "source": [
        "# Geração de dados sintéticos (não duplicados) da classe de adesão a partir de vizinhos\n",
        "from imblearn.over_sampling import SMOTE\n",
        "\n",
        "os = SMOTE(random_state=0)"
      ],
      "execution_count": null,
      "outputs": []
    },
    {
      "cell_type": "code",
      "metadata": {
        "id": "bXzGlfooX9QU"
      },
      "source": [
        "# Divisão do dataset: 70% para treinamento e 30% para teste\n",
        "\n",
        "X_treino, X_teste, y_treino, y_teste = train_test_split(X, y, random_state=0, test_size=0.3)"
      ],
      "execution_count": null,
      "outputs": []
    },
    {
      "cell_type": "code",
      "metadata": {
        "id": "OmmJ1tOOYB9F"
      },
      "source": [
        "colunas = X_treino.columns\n",
        "os_data_X, os_data_y = os.fit_sample(X_treino, y_treino)\n",
        "os_data_X = pd.DataFrame(data=os_data_X, columns=colunas)\n",
        "os_data_y = pd.DataFrame(data=os_data_y, columns=['y'])"
      ],
      "execution_count": null,
      "outputs": []
    },
    {
      "cell_type": "code",
      "metadata": {
        "id": "SYxOyh7lYEWj",
        "colab": {
          "base_uri": "https://localhost:8080/"
        },
        "outputId": "336167b4-d241-433c-f3ec-ce5a2b7fbe1c"
      },
      "source": [
        "print(f'Quantidade de instâncias: {len(os_data_X)}')"
      ],
      "execution_count": null,
      "outputs": [
        {
          "output_type": "stream",
          "text": [
            "Quantidade de instâncias: 55906\n"
          ],
          "name": "stdout"
        }
      ]
    },
    {
      "cell_type": "code",
      "metadata": {
        "id": "9r4Bi6SaYH2n",
        "colab": {
          "base_uri": "https://localhost:8080/"
        },
        "outputId": "1b088716-00d6-4a6d-cedd-5ce5f8ae4fd8"
      },
      "source": [
        "recusas = len(os_data_y[os_data_y['y']==0])\n",
        "adesões = len(os_data_y[os_data_y['y']==1])\n",
        "print(f'Quantidade de recusas: {recusas} \\nQuantidade de adesões: {adesões}')"
      ],
      "execution_count": null,
      "outputs": [
        {
          "output_type": "stream",
          "text": [
            "Quantidade de recusas: 27953 \n",
            "Quantidade de adesões: 27953\n"
          ],
          "name": "stdout"
        }
      ]
    },
    {
      "cell_type": "markdown",
      "metadata": {
        "id": "OrYzTJ4FNeyM"
      },
      "source": [
        "### Regressão logística"
      ]
    },
    {
      "cell_type": "markdown",
      "metadata": {
        "id": "eqf1_XBWQUdj"
      },
      "source": [
        "#### Tratamento dos dados"
      ]
    },
    {
      "cell_type": "code",
      "metadata": {
        "id": "BysthgiIPrKU"
      },
      "source": [
        "# Definição das classes X e Y\n",
        "\n",
        "X = os_data_X\n",
        "y = os_data_y"
      ],
      "execution_count": null,
      "outputs": []
    },
    {
      "cell_type": "code",
      "metadata": {
        "id": "WM9l1wpAGx8B"
      },
      "source": [
        "# Padronização dos dados (média = 0 e desvio padrão = 1)\n",
        "\n",
        "padronizador = StandardScaler()\n",
        "X_std = padronizador.fit_transform(X)"
      ],
      "execution_count": null,
      "outputs": []
    },
    {
      "cell_type": "markdown",
      "metadata": {
        "id": "Cm19Xnz1RX9M"
      },
      "source": [
        "#### Divisão dos conjuntos de treinamento e teste"
      ]
    },
    {
      "cell_type": "code",
      "metadata": {
        "id": "3x6BYWZHP16a"
      },
      "source": [
        "# Divisão do dataset: 70% para treinamento e 30% para teste\n",
        "\n",
        "X_treino, X_teste, y_treino, y_teste = train_test_split(X_std, y, random_state=0, test_size=0.3)"
      ],
      "execution_count": null,
      "outputs": []
    },
    {
      "cell_type": "markdown",
      "metadata": {
        "id": "-m86iSjZRbws"
      },
      "source": [
        "#### Treino do modelo"
      ]
    },
    {
      "cell_type": "code",
      "metadata": {
        "id": "tv1tfhMxP5Nf",
        "colab": {
          "base_uri": "https://localhost:8080/"
        },
        "outputId": "cdcfd166-9b87-4835-f92b-c6efa6db6deb"
      },
      "source": [
        "# Criação e treinamento do modelo de Regressão Logística\n",
        "\n",
        "modelo = LogisticRegression()\n",
        "modelo.fit(X_treino, y_treino)"
      ],
      "execution_count": null,
      "outputs": [
        {
          "output_type": "execute_result",
          "data": {
            "text/plain": [
              "LogisticRegression(C=1.0, class_weight=None, dual=False, fit_intercept=True,\n",
              "                   intercept_scaling=1, l1_ratio=None, max_iter=100,\n",
              "                   multi_class='auto', n_jobs=None, penalty='l2',\n",
              "                   random_state=None, solver='lbfgs', tol=0.0001, verbose=0,\n",
              "                   warm_start=False)"
            ]
          },
          "metadata": {
            "tags": []
          },
          "execution_count": 81
        }
      ]
    },
    {
      "cell_type": "code",
      "metadata": {
        "colab": {
          "base_uri": "https://localhost:8080/"
        },
        "id": "3fboWTtZJzPg",
        "outputId": "83de234d-5d98-4c19-e46d-744094ed6ebd"
      },
      "source": [
        "coeficientes = modelo.coef_\n",
        "coeficientes"
      ],
      "execution_count": null,
      "outputs": [
        {
          "output_type": "execute_result",
          "data": {
            "text/plain": [
              "array([[-0.09138888, -0.01309753, -0.23684118, -0.38060424, -0.161137  ,\n",
              "         0.04810163, -0.87526752, -0.57026053, -0.62248115,  0.26864866,\n",
              "         0.10665013]])"
            ]
          },
          "metadata": {
            "tags": []
          },
          "execution_count": 82
        }
      ]
    },
    {
      "cell_type": "code",
      "metadata": {
        "colab": {
          "base_uri": "https://localhost:8080/"
        },
        "id": "ae5tJFcRMXkF",
        "outputId": "8e144ee6-5596-48df-b164-a875c6a091a3"
      },
      "source": [
        "colunas = X.columns\n",
        "colunas"
      ],
      "execution_count": null,
      "outputs": [
        {
          "output_type": "execute_result",
          "data": {
            "text/plain": [
              "Index(['idade', 'ocupação', 'estado civil', 'educação', 'inadimplente',\n",
              "       'saldo', 'aluguel', 'empréstimo', 'campanha', 'pdias', 'anteriores'],\n",
              "      dtype='object')"
            ]
          },
          "metadata": {
            "tags": []
          },
          "execution_count": 83
        }
      ]
    },
    {
      "cell_type": "markdown",
      "metadata": {
        "id": "FLw6ZnXURffC"
      },
      "source": [
        "#### Predição do conjunto de teste"
      ]
    },
    {
      "cell_type": "code",
      "metadata": {
        "id": "x1D8wKsZP_IQ",
        "colab": {
          "base_uri": "https://localhost:8080/"
        },
        "outputId": "c55659eb-bac3-4e8a-da26-c67413dbaf61"
      },
      "source": [
        "# Impressão das predições\n",
        "\n",
        "y_predito = modelo.predict(X_teste)\n",
        "y_predito"
      ],
      "execution_count": null,
      "outputs": [
        {
          "output_type": "execute_result",
          "data": {
            "text/plain": [
              "array([1, 0, 1, ..., 0, 1, 0])"
            ]
          },
          "metadata": {
            "tags": []
          },
          "execution_count": 84
        }
      ]
    },
    {
      "cell_type": "markdown",
      "metadata": {
        "id": "QkRcTvrmRh7Y"
      },
      "source": [
        "#### Avaliação da predição"
      ]
    },
    {
      "cell_type": "code",
      "metadata": {
        "id": "3oV-PbLUQC-o",
        "colab": {
          "base_uri": "https://localhost:8080/",
          "height": 355
        },
        "outputId": "89c007ba-5bef-4eb8-f5b3-e0e2a1f12ef3"
      },
      "source": [
        "# Impressão do mapa de calor da matriz de confusão\n",
        "\n",
        "titulo = 'Matriz de confusão - Regressão Logística'\n",
        "mapa_de_calor(y_teste, y_predito, legendas, titulo)"
      ],
      "execution_count": null,
      "outputs": [
        {
          "output_type": "execute_result",
          "data": {
            "text/plain": [
              "<matplotlib.axes._subplots.AxesSubplot at 0x7fd3549eb550>"
            ]
          },
          "metadata": {
            "tags": []
          },
          "execution_count": 85
        },
        {
          "output_type": "display_data",
          "data": {
            "image/png": "[encoded data removed]",
            "text/plain": [
              "<Figure size 576x360 with 2 Axes>"
            ]
          },
          "metadata": {
            "tags": []
          }
        }
      ]
    },
    {
      "cell_type": "code",
      "metadata": {
        "id": "-IgJTybVQJnZ",
        "colab": {
          "base_uri": "https://localhost:8080/"
        },
        "outputId": "b45506db-05f8-46e1-bff9-bfbc2405f7a4"
      },
      "source": [
        "# Impressão do F1, da precisão, da revocação e da acurácia do modelo preditivo\n",
        "\n",
        "avaliacao(y_teste, y_predito)"
      ],
      "execution_count": null,
      "outputs": [
        {
          "output_type": "stream",
          "text": [
            "f1: 74.86%\n",
            "precisão: 72.78%\n",
            "revocação: 77.06%\n",
            "acurácia: 74.06%\n"
          ],
          "name": "stdout"
        }
      ]
    },
    {
      "cell_type": "code",
      "metadata": {
        "colab": {
          "base_uri": "https://localhost:8080/"
        },
        "id": "83A_ypbPd49g",
        "outputId": "a4fcc4d0-8239-4c20-b62c-4efc5fc53696"
      },
      "source": [
        "# Persistência do modelo com 'joblib'\n",
        "\n",
        "filename = 'Reg_logistica_modelo_marketing_balanceado.sav'\n",
        "joblib.dump(modelo, filename)"
      ],
      "execution_count": null,
      "outputs": [
        {
          "output_type": "execute_result",
          "data": {
            "text/plain": [
              "['Reg_logistica_modelo_marketing_balanceado.sav']"
            ]
          },
          "metadata": {
            "tags": []
          },
          "execution_count": 87
        }
      ]
    },
    {
      "cell_type": "markdown",
      "metadata": {
        "id": "85nWJHFrV_2y"
      },
      "source": [
        "### KNN"
      ]
    },
    {
      "cell_type": "markdown",
      "metadata": {
        "id": "NR112DULY1i0"
      },
      "source": [
        "#### Tratamento dos dados"
      ]
    },
    {
      "cell_type": "code",
      "metadata": {
        "id": "vb_UpjisY3oV"
      },
      "source": [
        "# Definição das classes X e Y\n",
        "\n",
        "X = os_data_X\n",
        "y = os_data_y"
      ],
      "execution_count": null,
      "outputs": []
    },
    {
      "cell_type": "code",
      "metadata": {
        "id": "WDS3VjzwG8zg"
      },
      "source": [
        "# Padronização dos dados (média = 0 e desvio padrão = 1)\n",
        "\n",
        "padronizador = StandardScaler()\n",
        "X_std = padronizador.fit_transform(X)"
      ],
      "execution_count": null,
      "outputs": []
    },
    {
      "cell_type": "markdown",
      "metadata": {
        "id": "WR2US9BHY46c"
      },
      "source": [
        "#### Divisão dos conjuntos de treinamento e teste"
      ]
    },
    {
      "cell_type": "code",
      "metadata": {
        "id": "d52ZRY53Y-xy"
      },
      "source": [
        "# Divisão do dataset: 70% para treinamento e 30% para teste\n",
        "\n",
        "X_treino, X_teste, y_treino, y_teste = train_test_split(X_std, y, random_state=0, test_size=0.3)"
      ],
      "execution_count": null,
      "outputs": []
    },
    {
      "cell_type": "markdown",
      "metadata": {
        "id": "ItZwLVzlYjNm"
      },
      "source": [
        "#### Predição do conjunto de teste"
      ]
    },
    {
      "cell_type": "code",
      "metadata": {
        "id": "99rjQ8RSVrMG",
        "colab": {
          "base_uri": "https://localhost:8080/"
        },
        "outputId": "124ebcfe-110b-472e-ad99-abd5b19c0f4b"
      },
      "source": [
        "# Predição das classificações do já definido conjunto de teste\n",
        "classif = KNeighborsClassifier(n_neighbors=2, metric='manhattan')\n",
        "classif.fit(X_treino, y_treino)\n",
        "\n",
        "# Impressão das predições\n",
        "y_predito = classif.predict(X_teste)\n",
        "y_predito"
      ],
      "execution_count": null,
      "outputs": [
        {
          "output_type": "execute_result",
          "data": {
            "text/plain": [
              "array([1, 0, 0, ..., 0, 1, 0])"
            ]
          },
          "metadata": {
            "tags": []
          },
          "execution_count": 91
        }
      ]
    },
    {
      "cell_type": "markdown",
      "metadata": {
        "id": "ErvvGNxEYmVx"
      },
      "source": [
        "#### Avaliação da predição"
      ]
    },
    {
      "cell_type": "code",
      "metadata": {
        "id": "cTF98ii_Vt_k",
        "colab": {
          "base_uri": "https://localhost:8080/",
          "height": 355
        },
        "outputId": "39685ba6-7f03-453f-b674-de8c76a93c15"
      },
      "source": [
        "# Impressão do mapa de calor da matriz de confusão\n",
        "\n",
        "titulo = 'Matriz de confusão - KNN'\n",
        "mapa_de_calor(y_teste, y_predito, legendas, titulo)"
      ],
      "execution_count": null,
      "outputs": [
        {
          "output_type": "execute_result",
          "data": {
            "text/plain": [
              "<matplotlib.axes._subplots.AxesSubplot at 0x7fd3551e7f10>"
            ]
          },
          "metadata": {
            "tags": []
          },
          "execution_count": 92
        },
        {
          "output_type": "display_data",
          "data": {
            "image/png": "[encoded data removed]",
            "text/plain": [
              "<Figure size 576x360 with 2 Axes>"
            ]
          },
          "metadata": {
            "tags": []
          }
        }
      ]
    },
    {
      "cell_type": "code",
      "metadata": {
        "id": "eIgYkrTFWGHf",
        "colab": {
          "base_uri": "https://localhost:8080/"
        },
        "outputId": "49c52281-5c96-4462-b557-ed5d57ad9583"
      },
      "source": [
        "# Impressão do F1, da precisão, da revocação e da acurácia do modelo preditivo\n",
        "\n",
        "avaliacao(y_teste, y_predito)"
      ],
      "execution_count": null,
      "outputs": [
        {
          "output_type": "stream",
          "text": [
            "f1: 77.27%\n",
            "precisão: 85.09%\n",
            "revocação: 70.76%\n",
            "acurácia: 79.14%\n"
          ],
          "name": "stdout"
        }
      ]
    },
    {
      "cell_type": "code",
      "metadata": {
        "colab": {
          "base_uri": "https://localhost:8080/"
        },
        "id": "FnuwgoacePJc",
        "outputId": "db0c11da-8306-4797-dcb0-a5db97624ec8"
      },
      "source": [
        "# Persistência do modelo com 'joblib'\n",
        "\n",
        "filename = 'KNN_modelo_marketing_balanceado.sav'\n",
        "joblib.dump(classif, filename)"
      ],
      "execution_count": null,
      "outputs": [
        {
          "output_type": "execute_result",
          "data": {
            "text/plain": [
              "['KNN_modelo_marketing_balanceado.sav']"
            ]
          },
          "metadata": {
            "tags": []
          },
          "execution_count": 94
        }
      ]
    }
  ]
}