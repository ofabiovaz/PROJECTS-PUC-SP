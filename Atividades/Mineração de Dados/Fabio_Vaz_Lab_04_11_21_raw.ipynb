{
  "nbformat": 4,
  "nbformat_minor": 0,
  "metadata": {
    "colab": {
      "name": "Fabio Vaz Lab_04_11_21_raw.ipynb",
      "provenance": [],
      "collapsed_sections": []
    },
    "kernelspec": {
      "name": "python3",
      "display_name": "Python 3"
    },
    "language_info": {
      "name": "python"
    }
  },
  "cells": [
    {
      "cell_type": "markdown",
      "metadata": {
        "id": "6rGr8w2ZISBw"
      },
      "source": [
        "Fabio Gustavo Gomes Vaz<br> RA: 00282997"
      ]
    },
    {
      "cell_type": "markdown",
      "metadata": {
        "id": "4K4okJ7d-Ilj"
      },
      "source": [
        "Pontifícia Universidade Católica de São Paulo \n",
        "\n",
        "`Ciência de Dados e Inteligência Artificial`\n",
        "\n",
        "#🎓 Aula 12 - Introdução às Redes Neurais Artificiais parte 2\n",
        "04 de novembro de 2021\n",
        "\n",
        "\n",
        "---\n",
        "> 👨‍🏫*Professor Rooney Coelho (rracoelho@pucsp.br)*\n",
        "---\n"
      ]
    },
    {
      "cell_type": "markdown",
      "metadata": {
        "id": "UGAKD0CkwF6-"
      },
      "source": [
        "### Instruções\n",
        "\n",
        "Vamos construir uma rede neural simples que consegue prever a classe à qual pertence uma determinada planta de íris. Usaremos a biblioteca Scikit-Learn do Python para criar nossa rede neural que executa essa tarefa de classificação.\n",
        "\n",
        "### O Dataset\n",
        "O Dataset que usaremos neste tutorial é o popular conjunto de dados Iris, disponível em https://archive.ics.uci.edu/ml/datasets/iris. \n",
        "\n",
        "\n",
        "* importe os dados em formato csv do seguinte link: `https://archive.ics.uci.edu/ml/machine-learning-databases/iris/iris.data`\n",
        "\n",
        "* Renomeie os cabeçalhos como:\n",
        "`['sepal-length', 'sepal-width', 'petal-length', 'petal-width', 'Class']`"
      ]
    },
    {
      "cell_type": "code",
      "metadata": {
        "id": "4yaQnvV0vMRL"
      },
      "source": [
        "url = 'https://archive.ics.uci.edu/ml/machine-learning-databases/iris/iris.data'"
      ],
      "execution_count": 101,
      "outputs": []
    },
    {
      "cell_type": "code",
      "metadata": {
        "id": "0wt_hEHp-UdD"
      },
      "source": [
        "import pandas as pd\n",
        "\n",
        "header = ['sepal-length', 'sepal-width', 'petal-length', 'petal-width', 'Class']\n",
        "df = pd.read_csv(url)\n",
        "df.columns = header"
      ],
      "execution_count": 102,
      "outputs": []
    },
    {
      "cell_type": "code",
      "metadata": {
        "colab": {
          "base_uri": "https://localhost:8080/",
          "height": 202
        },
        "id": "lcep0eJTBS8J",
        "outputId": "9c8c9ae8-5eb2-4716-e6a0-8d3beac1066c"
      },
      "source": [
        "df.head()"
      ],
      "execution_count": 103,
      "outputs": [
        {
          "output_type": "execute_result",
          "data": {
            "text/html": [
              "<div>\n",
              "<style scoped>\n",
              "    .dataframe tbody tr th:only-of-type {\n",
              "        vertical-align: middle;\n",
              "    }\n",
              "\n",
              "    .dataframe tbody tr th {\n",
              "        vertical-align: top;\n",
              "    }\n",
              "\n",
              "    .dataframe thead th {\n",
              "        text-align: right;\n",
              "    }\n",
              "</style>\n",
              "<table border=\"1\" class=\"dataframe\">\n",
              "  <thead>\n",
              "    <tr style=\"text-align: right;\">\n",
              "      <th></th>\n",
              "      <th>sepal-length</th>\n",
              "      <th>sepal-width</th>\n",
              "      <th>petal-length</th>\n",
              "      <th>petal-width</th>\n",
              "      <th>Class</th>\n",
              "    </tr>\n",
              "  </thead>\n",
              "  <tbody>\n",
              "    <tr>\n",
              "      <th>0</th>\n",
              "      <td>4.9</td>\n",
              "      <td>3.0</td>\n",
              "      <td>1.4</td>\n",
              "      <td>0.2</td>\n",
              "      <td>Iris-setosa</td>\n",
              "    </tr>\n",
              "    <tr>\n",
              "      <th>1</th>\n",
              "      <td>4.7</td>\n",
              "      <td>3.2</td>\n",
              "      <td>1.3</td>\n",
              "      <td>0.2</td>\n",
              "      <td>Iris-setosa</td>\n",
              "    </tr>\n",
              "    <tr>\n",
              "      <th>2</th>\n",
              "      <td>4.6</td>\n",
              "      <td>3.1</td>\n",
              "      <td>1.5</td>\n",
              "      <td>0.2</td>\n",
              "      <td>Iris-setosa</td>\n",
              "    </tr>\n",
              "    <tr>\n",
              "      <th>3</th>\n",
              "      <td>5.0</td>\n",
              "      <td>3.6</td>\n",
              "      <td>1.4</td>\n",
              "      <td>0.2</td>\n",
              "      <td>Iris-setosa</td>\n",
              "    </tr>\n",
              "    <tr>\n",
              "      <th>4</th>\n",
              "      <td>5.4</td>\n",
              "      <td>3.9</td>\n",
              "      <td>1.7</td>\n",
              "      <td>0.4</td>\n",
              "      <td>Iris-setosa</td>\n",
              "    </tr>\n",
              "  </tbody>\n",
              "</table>\n",
              "</div>"
            ],
            "text/plain": [
              "   sepal-length  sepal-width  petal-length  petal-width        Class\n",
              "0           4.9          3.0           1.4          0.2  Iris-setosa\n",
              "1           4.7          3.2           1.3          0.2  Iris-setosa\n",
              "2           4.6          3.1           1.5          0.2  Iris-setosa\n",
              "3           5.0          3.6           1.4          0.2  Iris-setosa\n",
              "4           5.4          3.9           1.7          0.4  Iris-setosa"
            ]
          },
          "metadata": {},
          "execution_count": 103
        }
      ]
    },
    {
      "cell_type": "markdown",
      "metadata": {
        "id": "TlUC6MkLxYRl"
      },
      "source": [
        "### Preprocessamento\n",
        "\n",
        "Vamos agora separar as features `X` do target `y`. A classe a ser prevista se encontra na última coluna e é referente à qual planta de íris a planta pertence com base no comprimento da sépala, largura da sépala, comprimento da pétala e largura da pétala (as primeiras quatro colunas).\n"
      ]
    },
    {
      "cell_type": "code",
      "metadata": {
        "id": "6naTfVpxvW2r"
      },
      "source": [
        "X = df.drop(columns='Class')\n",
        "y = df[['Class']]"
      ],
      "execution_count": 104,
      "outputs": []
    },
    {
      "cell_type": "markdown",
      "metadata": {
        "id": "mEHo4FD_x-Cz"
      },
      "source": [
        "Identifique quantos valores únicos temos para o target e faça a encodificação desses valores em números inteiros."
      ]
    },
    {
      "cell_type": "code",
      "metadata": {
        "id": "1wXqrxXbvZPQ",
        "colab": {
          "base_uri": "https://localhost:8080/"
        },
        "outputId": "da0cb6ec-4636-4182-b1a0-d773c8e39a16"
      },
      "source": [
        "y['Class'].unique()"
      ],
      "execution_count": 105,
      "outputs": [
        {
          "output_type": "execute_result",
          "data": {
            "text/plain": [
              "array(['Iris-setosa', 'Iris-versicolor', 'Iris-virginica'], dtype=object)"
            ]
          },
          "metadata": {},
          "execution_count": 105
        }
      ]
    },
    {
      "cell_type": "code",
      "metadata": {
        "colab": {
          "base_uri": "https://localhost:8080/"
        },
        "id": "KMV74UBRBj2M",
        "outputId": "eaee83b9-d2a9-402c-a852-3513151405a7"
      },
      "source": [
        "y['Class'], Class = y['Class'].factorize()"
      ],
      "execution_count": 106,
      "outputs": [
        {
          "output_type": "stream",
          "name": "stderr",
          "text": [
            "/usr/local/lib/python3.7/dist-packages/ipykernel_launcher.py:1: SettingWithCopyWarning: \n",
            "A value is trying to be set on a copy of a slice from a DataFrame.\n",
            "Try using .loc[row_indexer,col_indexer] = value instead\n",
            "\n",
            "See the caveats in the documentation: https://pandas.pydata.org/pandas-docs/stable/user_guide/indexing.html#returning-a-view-versus-a-copy\n",
            "  \"\"\"Entry point for launching an IPython kernel.\n"
          ]
        }
      ]
    },
    {
      "cell_type": "markdown",
      "metadata": {
        "id": "SGjwB6YiywOb"
      },
      "source": [
        "### Separação dos dados em treinamento e teste\n",
        "\n",
        "Para evitar o overfitting, dividiremos nosso conjunto de dados em treinamento e teste. Os dados de treinamento serão usados para treinar a rede neural e os dados de teste serão usados para avaliar o desempenho da rede neural. Isso ajuda com o problema do overfitting, porque estamos avaliando nossa rede neural em dados que ela não viu (ou seja, foi treinada) antes.\n",
        "\n",
        "Escreva um código para separar as features e o target em 80% treino e 20% teste."
      ]
    },
    {
      "cell_type": "code",
      "metadata": {
        "id": "AbufXnKVvtRm"
      },
      "source": [
        "from sklearn.model_selection import train_test_split\n",
        "\n",
        "X_train, X_test, y_train, y_test  = train_test_split(X,y, test_size = .2)"
      ],
      "execution_count": 107,
      "outputs": []
    },
    {
      "cell_type": "markdown",
      "metadata": {
        "id": "oYdvu58czLRT"
      },
      "source": [
        "### Escalonamento dos dados\n",
        "\n",
        "Antes de fazer previsões é sempre uma boa prática escalonar as features para que todos eles possam ser avaliados de maneira uniforme. Uma maneira simples de se fazer isso é usando a função `StandardScaler` de `sklearn.preprocessing`.\n",
        "\n",
        "Aplique esse procedimento somente nas features usadas para treinamento e veremos a precisão do modelo no teste. Nem sempre é possível realizar esse escalonamento nos dados inseridos no modelo, faremos então a validação com os dados não escalonados.\n"
      ]
    },
    {
      "cell_type": "code",
      "metadata": {
        "id": "kgqtJ35tvvjE",
        "colab": {
          "base_uri": "https://localhost:8080/"
        },
        "outputId": "2f878e6f-78ef-490b-e7be-d15df1cf50fd"
      },
      "source": [
        "from sklearn.preprocessing import StandardScaler\n",
        "\n",
        "scaler = StandardScaler()\n",
        "\n",
        "scaler.fit(X_train, y = y_train)"
      ],
      "execution_count": 108,
      "outputs": [
        {
          "output_type": "execute_result",
          "data": {
            "text/plain": [
              "StandardScaler(copy=True, with_mean=True, with_std=True)"
            ]
          },
          "metadata": {},
          "execution_count": 108
        }
      ]
    },
    {
      "cell_type": "markdown",
      "metadata": {
        "id": "VPf8pWYF1_TJ"
      },
      "source": [
        "### Treinamento e previsões\n",
        "\n",
        "A primeira etapa é importar a classe `MLPClassifier` da biblioteca `sklearn.neural_network`. Na segunda, essa classe é inicializada com dois parâmetros.\n",
        "\n",
        "* O primeiro parâmetro, `hidden_layer_sizes`, usado para definir o tamanho das camadas ocultas. Criaremos três camadas de 10 nós cada. Não existe uma fórmula padrão para escolher o número de camadas e nós de uma rede neural e isso varia bastante dependendo do problema em questão. A melhor maneira é tentar diferentes combinações e ver o que funciona melhor.\n",
        "\n",
        "* O segundo parâmetro para `MLPClassifier` especifica o número de iterações, ou épocas, que você deseja que sua rede neural execute. Lembre-se de que uma época é uma combinação de um ciclo de fase de propagação para frente e para trás.\n",
        "\n",
        "Por padrão, a função de ativação 'relu' é usada com o otimizador de custo 'adam'. No entanto, você pode alterar essas funções usando os parâmetros de ativação e solucionador, respectivamente.\n",
        "\n",
        "Após a definição dos parâmetros do classificador é realizado o treinamento da rede neural usando o método `fit` nos dados reservados para treinamento.\n",
        "\n"
      ]
    },
    {
      "cell_type": "code",
      "metadata": {
        "id": "OwD3SMl-vxvH",
        "colab": {
          "base_uri": "https://localhost:8080/"
        },
        "outputId": "1c0568d5-2a00-43e3-97b1-73c6a94a884d"
      },
      "source": [
        "from sklearn.neural_network import MLPClassifier\n",
        "\n",
        "model = MLPClassifier(hidden_layer_sizes = (10,10,10),max_iter=300).fit(X_train,y_train)"
      ],
      "execution_count": 109,
      "outputs": [
        {
          "output_type": "stream",
          "name": "stderr",
          "text": [
            "/usr/local/lib/python3.7/dist-packages/sklearn/neural_network/_multilayer_perceptron.py:934: DataConversionWarning: A column-vector y was passed when a 1d array was expected. Please change the shape of y to (n_samples, ), for example using ravel().\n",
            "  y = column_or_1d(y, warn=True)\n",
            "/usr/local/lib/python3.7/dist-packages/sklearn/neural_network/_multilayer_perceptron.py:571: ConvergenceWarning: Stochastic Optimizer: Maximum iterations (300) reached and the optimization hasn't converged yet.\n",
            "  % self.max_iter, ConvergenceWarning)\n"
          ]
        }
      ]
    },
    {
      "cell_type": "markdown",
      "metadata": {
        "id": "z8j5N2iE85NH"
      },
      "source": [
        "### Avaliando o desempenho do classificador\n",
        "\n",
        "Para avaliar um classificador, as métricas mais comumente usadas são uma matriz de confusão, precisão, recall e pontuação f1. Os métodos `confusion_matrix` e `classification_report` da biblioteca `sklearn.metrics` podem nos ajudar a encontrar essas pontuações. "
      ]
    },
    {
      "cell_type": "code",
      "metadata": {
        "id": "RwmWD_U5v20G",
        "colab": {
          "base_uri": "https://localhost:8080/"
        },
        "outputId": "0192d993-a7fb-45a2-aff6-8ffffe584bf2"
      },
      "source": [
        "# Imprima aqui o resultado do método confusion_matrix\n",
        "from sklearn.metrics import confusion_matrix, classification_report\n",
        "\n",
        "y_pred = model.predict(X_test)\n",
        "confusion_matrix(y_pred, y_test)"
      ],
      "execution_count": 110,
      "outputs": [
        {
          "output_type": "execute_result",
          "data": {
            "text/plain": [
              "array([[14,  0,  0],\n",
              "       [ 0,  9,  0],\n",
              "       [ 0,  0,  7]])"
            ]
          },
          "metadata": {},
          "execution_count": 110
        }
      ]
    },
    {
      "cell_type": "code",
      "metadata": {
        "id": "h2S0ETuj9lYO",
        "colab": {
          "base_uri": "https://localhost:8080/"
        },
        "outputId": "3cc553ee-69b5-4542-ada8-382757c1f6de"
      },
      "source": [
        "# Imprima aqui o resultado do método classification_report\n",
        "print(classification_report(y_pred,y_test))"
      ],
      "execution_count": 111,
      "outputs": [
        {
          "output_type": "stream",
          "name": "stdout",
          "text": [
            "              precision    recall  f1-score   support\n",
            "\n",
            "           0       1.00      1.00      1.00        14\n",
            "           1       1.00      1.00      1.00         9\n",
            "           2       1.00      1.00      1.00         7\n",
            "\n",
            "    accuracy                           1.00        30\n",
            "   macro avg       1.00      1.00      1.00        30\n",
            "weighted avg       1.00      1.00      1.00        30\n",
            "\n"
          ]
        }
      ]
    }
  ]
}