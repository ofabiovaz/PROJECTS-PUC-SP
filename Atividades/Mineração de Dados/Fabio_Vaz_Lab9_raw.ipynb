{
  "nbformat": 4,
  "nbformat_minor": 0,
  "metadata": {
    "colab": {
      "name": "Fabio Vaz Lab9_raw.ipynb",
      "provenance": []
    },
    "kernelspec": {
      "name": "python3",
      "display_name": "Python 3"
    },
    "language_info": {
      "name": "python"
    }
  },
  "cells": [
    {
      "cell_type": "markdown",
      "metadata": {
        "id": "tEbKcrQF1O0M"
      },
      "source": [
        "Fabio Vaz RA:00282997"
      ]
    },
    {
      "cell_type": "markdown",
      "metadata": {
        "id": "rtOnztk_yHk9"
      },
      "source": [
        "Pontifícia Universidade Católica de São Paulo \n",
        "\n",
        "`Ciência de Dados e Inteligência Artificial`\n",
        "\n",
        "#🎓 Aula 9 - Regressão Linear Simples e Múltipla\n",
        "30 de setembro de 2021\n",
        "\n",
        "\n",
        "---\n",
        "> 👨‍🏫*Professor Rooney Coelho (rracoelho@pucsp.br)*\n",
        "---\n"
      ]
    },
    {
      "cell_type": "markdown",
      "metadata": {
        "id": "AHdzbRd-yPDM"
      },
      "source": [
        "Faça o que se pede:"
      ]
    },
    {
      "cell_type": "code",
      "metadata": {
        "id": "7MQD4uUCS3gN"
      },
      "source": [
        "import pandas as pd\n",
        "import numpy as np\n",
        "import matplotlib.pyplot as plt\n",
        "import seaborn as sns\n",
        "\n",
        "from sklearn.linear_model import LinearRegression"
      ],
      "execution_count": 105,
      "outputs": []
    },
    {
      "cell_type": "markdown",
      "metadata": {
        "id": "Lo6tKwZ7r2A0"
      },
      "source": [
        "## Regressão linear simples\n",
        "\n",
        "### 1) Carregue os dados\n",
        "\n",
        "A coluna `Access_to_Sanitation` apresenta o percentual da população com acesso a saneamento. A coluna `Life_Expectancy` representa a espectativa de vida.\n",
        "\n"
      ]
    },
    {
      "cell_type": "code",
      "metadata": {
        "id": "5pPIyb2zr7Ko",
        "colab": {
          "base_uri": "https://localhost:8080/",
          "height": 206
        },
        "outputId": "bdfab260-32c5-4f86-d6bc-1cd17f6c840f"
      },
      "source": [
        "url = 'https://ibm.box.com/shared/static/q0gt7rsj6z5p3fld163n70i65id3awz3.csv'\n",
        "\n",
        "# use encoding='latin1' para carregar os dados\n",
        "df = pd.read_csv(url, encoding='latin1')\n",
        "df.head()"
      ],
      "execution_count": 106,
      "outputs": [
        {
          "output_type": "execute_result",
          "data": {
            "text/html": [
              "<div>\n",
              "<style scoped>\n",
              "    .dataframe tbody tr th:only-of-type {\n",
              "        vertical-align: middle;\n",
              "    }\n",
              "\n",
              "    .dataframe tbody tr th {\n",
              "        vertical-align: top;\n",
              "    }\n",
              "\n",
              "    .dataframe thead th {\n",
              "        text-align: right;\n",
              "    }\n",
              "</style>\n",
              "<table border=\"1\" class=\"dataframe\">\n",
              "  <thead>\n",
              "    <tr style=\"text-align: right;\">\n",
              "      <th></th>\n",
              "      <th>Country</th>\n",
              "      <th>Access_to_Sanitation</th>\n",
              "      <th>Life_Expectancy</th>\n",
              "    </tr>\n",
              "  </thead>\n",
              "  <tbody>\n",
              "    <tr>\n",
              "      <th>0</th>\n",
              "      <td>Afghanistan</td>\n",
              "      <td>31.8</td>\n",
              "      <td>60.374463</td>\n",
              "    </tr>\n",
              "    <tr>\n",
              "      <th>1</th>\n",
              "      <td>Albania</td>\n",
              "      <td>93.2</td>\n",
              "      <td>77.830463</td>\n",
              "    </tr>\n",
              "    <tr>\n",
              "      <th>2</th>\n",
              "      <td>Algeria</td>\n",
              "      <td>87.4</td>\n",
              "      <td>74.808098</td>\n",
              "    </tr>\n",
              "    <tr>\n",
              "      <th>3</th>\n",
              "      <td>Angola</td>\n",
              "      <td>51.1</td>\n",
              "      <td>52.266878</td>\n",
              "    </tr>\n",
              "    <tr>\n",
              "      <th>4</th>\n",
              "      <td>Argentina</td>\n",
              "      <td>96.1</td>\n",
              "      <td>76.158610</td>\n",
              "    </tr>\n",
              "  </tbody>\n",
              "</table>\n",
              "</div>"
            ],
            "text/plain": [
              "       Country  Access_to_Sanitation  Life_Expectancy\n",
              "0  Afghanistan                  31.8        60.374463\n",
              "1      Albania                  93.2        77.830463\n",
              "2      Algeria                  87.4        74.808098\n",
              "3       Angola                  51.1        52.266878\n",
              "4    Argentina                  96.1        76.158610"
            ]
          },
          "metadata": {},
          "execution_count": 106
        }
      ]
    },
    {
      "cell_type": "markdown",
      "metadata": {
        "id": "V2LphonUtYL5"
      },
      "source": [
        "### 2) Use a biblioteca `Seaborn` para plotar a espectativa de vida em função do saneamento da população."
      ]
    },
    {
      "cell_type": "code",
      "metadata": {
        "id": "si-zndqutXpJ",
        "colab": {
          "base_uri": "https://localhost:8080/",
          "height": 299
        },
        "outputId": "cb8e80b7-78d3-473a-a432-ca84904b7043"
      },
      "source": [
        "sns.regplot(y = 'Life_Expectancy', x='Access_to_Sanitation', data = df)"
      ],
      "execution_count": 107,
      "outputs": [
        {
          "output_type": "execute_result",
          "data": {
            "text/plain": [
              "<matplotlib.axes._subplots.AxesSubplot at 0x7f6b30d92610>"
            ]
          },
          "metadata": {},
          "execution_count": 107
        },
        {
          "output_type": "display_data",
          "data": {
            "image/png": "[encoded data removed]",
            "text/plain": [
              "<Figure size 432x288 with 1 Axes>"
            ]
          },
          "metadata": {
            "needs_background": "light"
          }
        }
      ]
    },
    {
      "cell_type": "markdown",
      "metadata": {
        "id": "joSYbiZmuE9F"
      },
      "source": [
        "### 3) Faça a regressão linear para a espectativa de vida."
      ]
    },
    {
      "cell_type": "code",
      "metadata": {
        "id": "9V7lQJV1uPGj"
      },
      "source": [
        "\n",
        "X_df1 = df[['Access_to_Sanitation']]\n",
        "y_df1 = df[['Life_Expectancy']]\n",
        "\n",
        "LR = LinearRegression().fit(X_df1, y_df1)"
      ],
      "execution_count": 108,
      "outputs": []
    },
    {
      "cell_type": "markdown",
      "metadata": {
        "id": "xGFY9SEOu_Nz"
      },
      "source": [
        "### 4) Apresente o coeficiente linear e angular da regressão"
      ]
    },
    {
      "cell_type": "code",
      "metadata": {
        "id": "UgRRW3lLu8kB",
        "colab": {
          "base_uri": "https://localhost:8080/"
        },
        "outputId": "09edfc52-54b1-4859-82a4-8c4ad5469e0d"
      },
      "source": [
        "LR.intercept_"
      ],
      "execution_count": 109,
      "outputs": [
        {
          "output_type": "execute_result",
          "data": {
            "text/plain": [
              "array([53.51020875])"
            ]
          },
          "metadata": {},
          "execution_count": 109
        }
      ]
    },
    {
      "cell_type": "code",
      "metadata": {
        "id": "y3jDDY0au5vW",
        "colab": {
          "base_uri": "https://localhost:8080/"
        },
        "outputId": "cfc2fa73-c287-4599-ad71-d8e108e15852"
      },
      "source": [
        "LR.coef_"
      ],
      "execution_count": 110,
      "outputs": [
        {
          "output_type": "execute_result",
          "data": {
            "text/plain": [
              "array([[0.24121509]])"
            ]
          },
          "metadata": {},
          "execution_count": 110
        }
      ]
    },
    {
      "cell_type": "markdown",
      "metadata": {
        "id": "sSeiYGRavQYY"
      },
      "source": [
        "### 5) Calcule o score R² da regressão."
      ]
    },
    {
      "cell_type": "code",
      "metadata": {
        "id": "RNk2XvIcvJQJ",
        "colab": {
          "base_uri": "https://localhost:8080/"
        },
        "outputId": "22e2cba6-3d19-47b1-af91-02587852c0bd"
      },
      "source": [
        "LR.score(X_df1,y_df1)"
      ],
      "execution_count": 111,
      "outputs": [
        {
          "output_type": "execute_result",
          "data": {
            "text/plain": [
              "0.7162353482844994"
            ]
          },
          "metadata": {},
          "execution_count": 111
        }
      ]
    },
    {
      "cell_type": "markdown",
      "metadata": {
        "id": "y0OaP4XUvsCD"
      },
      "source": [
        "## Regressão linear múltipla\n",
        "\n",
        "### 6) Carregue os dados onde:\n",
        "* X1 = systolic blood pressure\n",
        "* X2 = age in years\n",
        "* X3 = weight in pounds"
      ]
    },
    {
      "cell_type": "code",
      "metadata": {
        "id": "havtM2snS1QK",
        "colab": {
          "base_uri": "https://localhost:8080/",
          "height": 412
        },
        "outputId": "f309ac65-b93c-4459-fa5e-ffb86c158f24"
      },
      "source": [
        "X1 = 'systolic_blood_pressure'\n",
        "X2 = 'age_in_years'\n",
        "X3 = 'weight_in_pounds'\n",
        "\n",
        "url = 'https://college.cengage.com/mathematics/brase/understandable_statistics/7e/students/datasets/mlr/excel/mlr02.xls'\n",
        "\n",
        "# importe os dados a partir do excel\n",
        "\n",
        "df = pd.read_excel(url)\n",
        "df.columns = [X1,X2,X3]\n",
        "df"
      ],
      "execution_count": 112,
      "outputs": [
        {
          "output_type": "stream",
          "name": "stdout",
          "text": [
            "*** No CODEPAGE record, no encoding_override: will use 'ascii'\n"
          ]
        },
        {
          "output_type": "execute_result",
          "data": {
            "text/html": [
              "<div>\n",
              "<style scoped>\n",
              "    .dataframe tbody tr th:only-of-type {\n",
              "        vertical-align: middle;\n",
              "    }\n",
              "\n",
              "    .dataframe tbody tr th {\n",
              "        vertical-align: top;\n",
              "    }\n",
              "\n",
              "    .dataframe thead th {\n",
              "        text-align: right;\n",
              "    }\n",
              "</style>\n",
              "<table border=\"1\" class=\"dataframe\">\n",
              "  <thead>\n",
              "    <tr style=\"text-align: right;\">\n",
              "      <th></th>\n",
              "      <th>systolic_blood_pressure</th>\n",
              "      <th>age_in_years</th>\n",
              "      <th>weight_in_pounds</th>\n",
              "    </tr>\n",
              "  </thead>\n",
              "  <tbody>\n",
              "    <tr>\n",
              "      <th>0</th>\n",
              "      <td>132</td>\n",
              "      <td>52</td>\n",
              "      <td>173</td>\n",
              "    </tr>\n",
              "    <tr>\n",
              "      <th>1</th>\n",
              "      <td>143</td>\n",
              "      <td>59</td>\n",
              "      <td>184</td>\n",
              "    </tr>\n",
              "    <tr>\n",
              "      <th>2</th>\n",
              "      <td>153</td>\n",
              "      <td>67</td>\n",
              "      <td>194</td>\n",
              "    </tr>\n",
              "    <tr>\n",
              "      <th>3</th>\n",
              "      <td>162</td>\n",
              "      <td>73</td>\n",
              "      <td>211</td>\n",
              "    </tr>\n",
              "    <tr>\n",
              "      <th>4</th>\n",
              "      <td>154</td>\n",
              "      <td>64</td>\n",
              "      <td>196</td>\n",
              "    </tr>\n",
              "    <tr>\n",
              "      <th>5</th>\n",
              "      <td>168</td>\n",
              "      <td>74</td>\n",
              "      <td>220</td>\n",
              "    </tr>\n",
              "    <tr>\n",
              "      <th>6</th>\n",
              "      <td>137</td>\n",
              "      <td>54</td>\n",
              "      <td>188</td>\n",
              "    </tr>\n",
              "    <tr>\n",
              "      <th>7</th>\n",
              "      <td>149</td>\n",
              "      <td>61</td>\n",
              "      <td>188</td>\n",
              "    </tr>\n",
              "    <tr>\n",
              "      <th>8</th>\n",
              "      <td>159</td>\n",
              "      <td>65</td>\n",
              "      <td>207</td>\n",
              "    </tr>\n",
              "    <tr>\n",
              "      <th>9</th>\n",
              "      <td>128</td>\n",
              "      <td>46</td>\n",
              "      <td>167</td>\n",
              "    </tr>\n",
              "    <tr>\n",
              "      <th>10</th>\n",
              "      <td>166</td>\n",
              "      <td>72</td>\n",
              "      <td>217</td>\n",
              "    </tr>\n",
              "  </tbody>\n",
              "</table>\n",
              "</div>"
            ],
            "text/plain": [
              "    systolic_blood_pressure  age_in_years  weight_in_pounds\n",
              "0                       132            52               173\n",
              "1                       143            59               184\n",
              "2                       153            67               194\n",
              "3                       162            73               211\n",
              "4                       154            64               196\n",
              "5                       168            74               220\n",
              "6                       137            54               188\n",
              "7                       149            61               188\n",
              "8                       159            65               207\n",
              "9                       128            46               167\n",
              "10                      166            72               217"
            ]
          },
          "metadata": {},
          "execution_count": 112
        }
      ]
    },
    {
      "cell_type": "markdown",
      "metadata": {
        "id": "gGWjib_Gwp5t"
      },
      "source": [
        "### 7) Faça `age in years` e `weight in pounds` as entradas do modelo, armazene em X."
      ]
    },
    {
      "cell_type": "code",
      "metadata": {
        "id": "4wuyVm6gkLhz"
      },
      "source": [
        "X = df[['systolic_blood_pressure','age_in_years']]"
      ],
      "execution_count": 113,
      "outputs": []
    },
    {
      "cell_type": "markdown",
      "metadata": {
        "id": "iXPjLFLIxHmh"
      },
      "source": [
        "### 8) Faça `systolic blood pressure` a variável a ser prevista, armazene em y."
      ]
    },
    {
      "cell_type": "code",
      "metadata": {
        "id": "7YwpZYmRkSOK"
      },
      "source": [
        "y = df['weight_in_pounds']"
      ],
      "execution_count": 114,
      "outputs": []
    },
    {
      "cell_type": "code",
      "metadata": {
        "colab": {
          "base_uri": "https://localhost:8080/",
          "height": 300
        },
        "id": "hLHnNNoU1xPD",
        "outputId": "651b5db6-102c-47a7-99d3-0a38e23e86f0"
      },
      "source": [
        "plt.plot(X,y,'k.')"
      ],
      "execution_count": 115,
      "outputs": [
        {
          "output_type": "execute_result",
          "data": {
            "text/plain": [
              "[<matplotlib.lines.Line2D at 0x7f6b30d194d0>,\n",
              " <matplotlib.lines.Line2D at 0x7f6b30d22b50>]"
            ]
          },
          "metadata": {},
          "execution_count": 115
        },
        {
          "output_type": "display_data",
          "data": {
            "image/png": "[encoded data removed]",
            "text/plain": [
              "<Figure size 432x288 with 1 Axes>"
            ]
          },
          "metadata": {
            "needs_background": "light"
          }
        }
      ]
    },
    {
      "cell_type": "markdown",
      "metadata": {
        "id": "i2YHDgzixVUp"
      },
      "source": [
        "### 9) Faça uma regressão múltipla do modelo."
      ]
    },
    {
      "cell_type": "code",
      "metadata": {
        "id": "QulcXNXflz9n"
      },
      "source": [
        "LM = LinearRegression().fit(X,y)"
      ],
      "execution_count": 116,
      "outputs": []
    },
    {
      "cell_type": "markdown",
      "metadata": {
        "id": "vhET9SbgyXzT"
      },
      "source": [
        "### 10) Apresente os coeficientes angulares e linear"
      ]
    },
    {
      "cell_type": "code",
      "metadata": {
        "id": "oJQzLYgNmZVo",
        "colab": {
          "base_uri": "https://localhost:8080/"
        },
        "outputId": "a2e0f349-598e-447a-ce43-72d9d7241824"
      },
      "source": [
        "LM.coef_"
      ],
      "execution_count": 117,
      "outputs": [
        {
          "output_type": "execute_result",
          "data": {
            "text/plain": [
              "array([ 1.34630691, -0.17273689])"
            ]
          },
          "metadata": {},
          "execution_count": 117
        }
      ]
    },
    {
      "cell_type": "code",
      "metadata": {
        "id": "keuWcMcomb1Z",
        "colab": {
          "base_uri": "https://localhost:8080/"
        },
        "outputId": "b7e56e83-881c-492c-f899-46cf5842c83f"
      },
      "source": [
        "LM.intercept_"
      ],
      "execution_count": 118,
      "outputs": [
        {
          "output_type": "execute_result",
          "data": {
            "text/plain": [
              "3.719775726644855"
            ]
          },
          "metadata": {},
          "execution_count": 118
        }
      ]
    },
    {
      "cell_type": "markdown",
      "metadata": {
        "id": "Pvg5upRsygaK"
      },
      "source": [
        "### 11) Calcule o score R² da regressão."
      ]
    },
    {
      "cell_type": "code",
      "metadata": {
        "id": "0FN_eJ6moCVw",
        "colab": {
          "base_uri": "https://localhost:8080/"
        },
        "outputId": "602d25ea-6ae0-4cab-d258-804a16744bd8"
      },
      "source": [
        "LM.score(X,y)"
      ],
      "execution_count": 119,
      "outputs": [
        {
          "output_type": "execute_result",
          "data": {
            "text/plain": [
              "0.9423437787025833"
            ]
          },
          "metadata": {},
          "execution_count": 119
        }
      ]
    },
    {
      "cell_type": "markdown",
      "metadata": {
        "id": "aM6cpevaylzh"
      },
      "source": [
        "### 12) Use o método predict em X para calcular $\\hat{y}$, atribibua em Yhat ."
      ]
    },
    {
      "cell_type": "code",
      "metadata": {
        "id": "p4H_0xD7mMfT",
        "colab": {
          "base_uri": "https://localhost:8080/"
        },
        "outputId": "2b6d8ce8-b49d-4a96-889c-a5ad8d2d9e03"
      },
      "source": [
        "Yhat = LM.predict(X)\n",
        "Yhat"
      ],
      "execution_count": 120,
      "outputs": [
        {
          "output_type": "execute_result",
          "data": {
            "text/plain": [
              "array([172.44996974, 186.05018752, 198.13136151, 209.21170236,\n",
              "       199.9958791 , 217.11680694, 178.83603051, 193.78255521,\n",
              "       206.55467676, 168.10116344, 214.7696669 ])"
            ]
          },
          "metadata": {},
          "execution_count": 120
        }
      ]
    },
    {
      "cell_type": "code",
      "metadata": {
        "colab": {
          "base_uri": "https://localhost:8080/",
          "height": 334
        },
        "id": "xeBhH7bXv2mN",
        "outputId": "494b8f4c-f063-45c5-ff94-493c91106c93"
      },
      "source": [
        "plt.plot(X,y,'k.',X, Yhat,'r.')"
      ],
      "execution_count": 121,
      "outputs": [
        {
          "output_type": "execute_result",
          "data": {
            "text/plain": [
              "[<matplotlib.lines.Line2D at 0x7f6b314098d0>,\n",
              " <matplotlib.lines.Line2D at 0x7f6b31349050>,\n",
              " <matplotlib.lines.Line2D at 0x7f6b31349bd0>,\n",
              " <matplotlib.lines.Line2D at 0x7f6b312eff10>]"
            ]
          },
          "metadata": {},
          "execution_count": 121
        },
        {
          "output_type": "display_data",
          "data": {
            "image/png": "[encoded data removed]",
            "text/plain": [
              "<Figure size 432x288 with 1 Axes>"
            ]
          },
          "metadata": {
            "needs_background": "light"
          }
        }
      ]
    },
    {
      "cell_type": "markdown",
      "metadata": {
        "id": "hIolbmLH4c_a"
      },
      "source": [
        "**MEAN SQUARED ERROR**\n",
        "\n",
        "Diferenciando a o erro de cada modelo "
      ]
    },
    {
      "cell_type": "code",
      "metadata": {
        "id": "bLniNd2Y6JnW"
      },
      "source": [
        "from sklearn.metrics import mean_squared_error"
      ],
      "execution_count": 121,
      "outputs": []
    },
    {
      "cell_type": "code",
      "metadata": {
        "colab": {
          "base_uri": "https://localhost:8080/"
        },
        "id": "dqX7B8-i7Ugg",
        "outputId": "ed9be6a5-e9c3-42fc-d43f-f805a37c3f01"
      },
      "source": [
        "#modelo simples\n",
        "y_true = y_df1\n",
        "y_pred = LR.predict(X_df1)\n",
        "mean_squared_error(y_true, y_pred)"
      ],
      "execution_count": 126,
      "outputs": [
        {
          "output_type": "execute_result",
          "data": {
            "text/plain": [
              "19.922295896494056"
            ]
          },
          "metadata": {},
          "execution_count": 126
        }
      ]
    },
    {
      "cell_type": "code",
      "metadata": {
        "colab": {
          "base_uri": "https://localhost:8080/"
        },
        "id": "Malr2Z3d4cI9",
        "outputId": "b30d002d-6807-436e-8b65-1289caefe8c3"
      },
      "source": [
        "#modelo múltiplo \n",
        "y_true = y\n",
        "y_pred = Yhat\n",
        "mean_squared_error(y_true, y_pred)"
      ],
      "execution_count": 122,
      "outputs": [
        {
          "output_type": "execute_result",
          "data": {
            "text/plain": [
              "15.713941040877755"
            ]
          },
          "metadata": {},
          "execution_count": 122
        }
      ]
    }
  ]
}