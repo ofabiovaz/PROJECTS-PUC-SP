{
  "nbformat": 4,
  "nbformat_minor": 0,
  "metadata": {
    "colab": {
      "name": "Projeto - Predição da Ibovespa.ipynb",
      "provenance": [],
      "collapsed_sections": [],
      "toc_visible": true
    },
    "kernelspec": {
      "name": "python3",
      "display_name": "Python 3"
    },
    "language_info": {
      "name": "python"
    }
  },
  "cells": [
    {
      "cell_type": "markdown",
      "metadata": {
        "id": "GMErJp9nRxMb"
      },
      "source": [
        "# **Predição da Ibovespa**"
      ]
    },
    {
      "cell_type": "markdown",
      "metadata": {
        "id": "JspUaxw7vR9q"
      },
      "source": [
        "### Grupo\n",
        "Nome: Fabio Gustavo Gomes Vaz\n",
        "\n",
        "RA: 00282997\n",
        "\n",
        "\n",
        "Nome: Felipe Fernandes Rojas\n",
        "\n",
        "RA: 00282999\n",
        "\n",
        "\n",
        "Nome: Lucas Raphaelian Nogueira \n",
        "\n",
        "RA:00282598\n"
      ]
    },
    {
      "cell_type": "markdown",
      "metadata": {
        "id": "AsGhwLZbv_sG"
      },
      "source": [
        "# 1. Introdução\n",
        "\n",
        "\n",
        "\n"
      ]
    },
    {
      "cell_type": "markdown",
      "metadata": {
        "id": "9mCBuq__Kvio"
      },
      "source": [
        "Os países do mundo possuem pelo menos uma bolsa de valores, com poucas exceções. No Brasil, há uma bolsa de valores hoje chamada de B3 e antigamente chamada de Bovespa. A bolsa de valores nada mais é do que um local para as negociações das ações das empresas com capital aberto. <p>\n",
        "A Ibovespa é um índice que calcula o preço médio das cotações das ações que possuem o maior volume negociado na nossa bolsa de valores, ou seja, o índice é uma carteira teórica de ações que contém os ativos mais movimentados em questão de volume de negociação do dia, por conta disso a Ibovespa relata o desempenho do mercado de ações brasileiro, quanto maior o índice mais alto os preços das ações estão e quanto menor o índice menor os preços das ações. <p>\n",
        "Portanto, a Ibovespa é um bom indicativo para visualizar como anda a economia brasileira impactando não apenas o investidor que compra as ações na bolsa de valores, mas também todos os brasileiros. <p>\n",
        "Aplicando métodos de *machine learning*, é possível classificar o índice Ibovespa em diversos níveis para detalhar a economia brasileira, auxiliando as estratégias de investidores individuais para lucros futuros, de importação e exportação entre países, de investimento de capital em determinada empresa ou setor da economia, com base em dados passados. Nosso objetivo é criar um modelo preditivo, que é capaz de classificar alguns ativos, facilitando a compreensão do índice Ibovespa. Para isso, será utilizado o algoritmo *Naive Bayes*. "
      ]
    },
    {
      "cell_type": "markdown",
      "metadata": {
        "id": "QO_ty77-fS0g"
      },
      "source": [
        "# 2. Questão Dirigida"
      ]
    },
    {
      "cell_type": "markdown",
      "metadata": {
        "id": "lgFSw2hhKpfX"
      },
      "source": [
        "Iremos categorizar o índice Ibovespa usando um classificador *Naive Bayes*.\n",
        "\n",
        "Prós:\n",
        "  *   É fácil e rápido para prever o conjunto de dados das classes.\n",
        "  *   Podemos usar para resolver problemas com várias classes.\n",
        "  *   O classificador Naive Bayes tem um desempenho melhor em comparação aos outros modelos de regressão logísticos quando a  suposição de independência prevalece.\n",
        "\n",
        "  * Mesmo a bolsa de valores ser tão complicada, com apenas valores binários é possível ter uma predição.\n",
        "  \n",
        "Contras: \n",
        "    \n",
        "  *  Se o conjunto dados de treinamento tiver uma variável categórica de uma categoria que não estava presente no conjunto de dados anteriormente, o modelo atribuirá probabilidade zero e não será capaz de fazer previsões.Fenômeno conhecido como \"Zero Frequency\"\n",
        "\n",
        "  *  Suposição de preditores independentes, na vida real é muito improvável ter um conjunto de indicadores que sejam completamente independentes. \n",
        "\n",
        "  * Não levar muito a sério os resultados, por conta do fato de que independente da quantidade da variação da bolsa os valores apenas serão 0 ou 1, não mostrando certas grandezas.\n",
        "\n",
        "\n"
      ]
    },
    {
      "cell_type": "markdown",
      "metadata": {
        "id": "4yqGszPTg1XW"
      },
      "source": [
        "#3. Naive Bayes "
      ]
    },
    {
      "cell_type": "markdown",
      "metadata": {
        "id": "BBzCx_rWKkOH"
      },
      "source": [
        "O algoritmo de classificação Naive Bayes se baseia em probabilidade de um eventual evento acontecer, desconsideradno as relações entre *features*. \n",
        "\n",
        "Classificador Bayesiano usa o teorema de Bayes, que diz\n",
        "\n",
        "$$P(A|B) = \\frac{P(B|A) P(A)}{P(B)} $$\n",
        "\n",
        "sendo;\n",
        "\n",
        "**P(A|B)** = probabilidade de B ser da classe A\n",
        "\n",
        "**P(B|A)** = probabilidade de gerar exemplo B dada a classe A\n",
        "\n",
        "**P(A)** =  probabilidade de ocorrência da classe B\n",
        "\n",
        "**P(B)** = probabilidade de exemplo A ocorrer\n",
        "\n",
        "Exemplificando, dada uma base de dados:"
      ]
    },
    {
      "cell_type": "markdown",
      "metadata": {
        "id": "IO0_Xftu_TXk"
      },
      "source": [
        "![bd nb.PNG](data:image/png;base64,iVBORw0KGgoAAAANSUhEUgAAAIEAAADZCAYAAAAHfVPKAAAAAXNSR0IArs4c6QAAAARnQU1BAACxjwv8YQUAAAAJcEhZcwAADsMAAA7DAcdvqGQAADdtSURBVHhe7Z0HeBRV24YlyaZAgEgJJQpBEBCxIqC0EBAQRCCIhSJSBEQpoqifCAEUpKiINJUqvRs6/IQWagIxlISEkJBGekI2lc1md/b+z+xuSCGNFhXm+a7zyU7bmXPuOe+ZzfvMeWzIkCE4OzvzqEqn02FpaWn+9Gipb9++PP/88ygQKBAoECgQKBAoECgQlA0CKTud1Ey9+RNotVrzv/7bKgWCLEIO/spI1+Y0bdKEJs+04ZPtMUjmtVLCeXYuHkvXF9owaMYmzsbnrvnvqSQIpLhDzOjnyhtDv8J9ykRGDxnKZz9M59MZ+9CYt/kvq0w9QarHYOpaPsZjjz2GRfXX+cU/27xGSB/MnL6j2Ztv0X9RxUKgD2Fhl2rUeGcDN8yL0EXhMeIZ6g7669GBQOv1BX26uFLHsoIAoQJ2z0/gUIr5rpdi+W3kRI4+pBDor/1IO1UF7Dv+zBWdeaEstQdjPtsq+sr/vsoIwZeM/iOIfWOaYVNB9AgVrHDqt4ZwOTwWAYEu9jRrZn/DxC8nM3fdaWJuhU4Noce3s3XLFrZs3cXZmET8NszmqwlfMXvLJVJFoEm5sJm5//ucr2Zv5mKqeTejJBLPbWTut1/x7Q+rOBGbF5vvh4qFIHgWr6rka7ahfvcpbAtMN6/JIuDiFfK4KPr89DE+7Ngqrle+5i1b+evoJS4eletgK9s8A1Cb76Xi6+zBq+wQLE1A0pxnTsfHsRBh4TGLqrSdcY6sQhDogn6nl5M1Tw7eTnzqSb583oYaHWZwOsO0Xh+zmC52okepYE+TDn358NMPaF3dggqWdXhj5Ej6DfyYgS2rYVHBEqdhuwQYxr0IXf0eDRxe4zu/FM5Pb0Xlev34M+z+gVB8OAhinmtV0zWLUsGmLm0+WsiJuPzfXcL56RM5Od0FBwuxv1Ujxntlozn4KW3c5uOTbDpGaXX2oHVnEIh/S5Eb6F/PigpyhVg3ZuROf5bkQiCAWNlLQFKhEm5r5Tsmm0Of1Meygh1tZgeKqhLS/MUg0eiPWTjQe1W8OGYGa90qiuNZUM1tNXHiS1JX9jT2OFbP/g8fcUdIievpV8MC1WuzCREH0XqNp5GVFY0nnOB+3TAlDQz1UTv4rFU1cR0mEOSQqKrdEfcjiaY6Ke38tBf5vrXpGh3dZvPThCnsS84Lp6XW2QPWHUMgK/XY17xUSR4fiIGiYxtcekwwQZC6DrcqYrlFbYbtkYdMWry/boaVqDRr11+Jkg+g8eADIwS1GLpL3iaLLe85iAoSd/6I/aIKxJL1fakkKtyywRiOiAUajw+oLu4kq4Y9GP/113w13AUnWxsqd1lEdO5J3aNKgsAobTTHFoygnZON8QaQr92yzgC2JEplOr/U/SNpIA+uRQ/Y/Y/YW3VZpjp7wLorCOQTDVz0BjXlLk6ujKfGGiGQoubT0Voss3ySUQfl5sy9oMdQvTyNS3IAvRMInD/hsFiQsqw7NvIxWnxHQP7B2X1UcRDoLm9ly7l8/U36ZTZNaEMNeZBsUY1Bf2nKdn5SBH/0kENpBSp3+Ikg8y1epjp7wLpLCISkOHYMfxqV3FhmCMjyYLCjaGBLJ0bsN13Q8c8aGam2f2sVyfJ+dwGBZueHRuAqVOnJigf0W0RxEGi9J9H782MFnwKkBNa9XQMLi7oMF8/GZTo/bQCLhr6Cs7WAR4x/3t9krs+y1NkDVpkgyD44jg8WRBaEQFamN9Nfq4IqFwIR3w99Ki5AxLfef6rF5yy2DxSDPNHV3bpoMSYYWE2GoCYf7jRBsPndqkYI6g7fZ4Qgc50bFWUI6o3GU15wYysDa4t9xAi9+ZgDJIgDSYlHWLD0JJnyMe+DiofgK5pVbcHXx27ku/4s9o98Etsm4zkiD95KPb8szs0dzcxTUfw12AlL0cCqZl9wwkhWGersAasUCLIIPbaaKW88QeVnB/HzFm+iC41U9NdW8na7z8wQCKlPMrt7fRxfHc/yNZN53cmJjt8exHSDaLiydTjPiufuxyqoeHb4Vvz9NzO0iZVxsGXzwsd4XPRlxbsNjN1hBbsWjN0bLvaTiPYYQ4vHLalQwZrqT79C50E/cuLG/aui4iH4BtcOAxnarxcDJ/7Mn9u28+d379Gm7XBWBeT2D8WfnxR7hj8nvYFz3e7MPeOP1zdtjIA/JgZ+zYev4ZL8+FNinT14laknKFkSqVFR5P52ZJKWhKAzHD16ioA4+W6/P5JSw/H1OsqpgLj7/ktdcRBIqdFEmR/ms2IDOH30CKf8Y8Xtcbvu7fweTJ2VRfcBgodDxUHwKEiBwCwFAgUCBQIFAgUCBQIhBQIzBNbW1jg6Oj6SpVq1asZfP4ta97AXGxsbnn32WRMETz75JAkJCY9kiYmJMUJQ1LqHvfTo0YPnnntOCQdKOFDGBAoECgQKBAoEQgoECgQKBAoEJUOgTzZw8GgqKRqDecnDpVIg0BByaAXfDWrLM02b0ryFCz36vsu7fXvSrZsbQ774ka3n8/+d/b+rIiEQF3ZupZaWDgbsOwfim1geGX/lrzL1BNn7R+BkaUuftXl/QM0K9+THfo2xs3ai+09nyU3E/q+q2J5AgDDfxUDlRx0C7cnPaWxVEAKj9GGsdKuNpaoxYw//tzEoKRws66ZAUDwEQrqLU3lZVYEqby43posjpRJ85gKx+kzCTh/ibFRuypG86hpnDuxi95FLxMuLpQT89mw1GTO2HSJQncD5febPW7ayx09OSU8n6PA28XkbBy6lPLDQUxIEy9/IgyD8lJZtB9RE37wdiLiLOWzfmMb/+aWRqcs3fhAnHXJcI64vm5xEA547Mjh1LZMceRMN+O7NYudJNWnGBXlKDdWxc1M6HsfVJGvzrlxKN3D8dBrqbAOJATns2K3mWloOxsPFSOzdms7JUPPxy6B7hgCtF+MaWmFR8wNWH1/FuA6OqKq/jfuMPjSuaomt669EShLRu6YwfMwsVq75jUlvNaRas+Fsisgm8dR0XBxUNB53lAyxXVbYZj58ygr7bgsINTqAxTL/GXTt/B1nbjy4O7FUCDqEM22ohg5tsnC00fHsiCBCM0y1LKUYmOmWxbtfxrBiaSZ9m+TQ7J1rHI3TkOKnZ3w7HVYVk/h0bip9O2fwgpMey5oJTFmjZmTnLFq+qMFepaHbzKvEa8UxRXvv/EbD4M/jmTc7gy71dDj3DOVwtIa/12lpV9NAxfZhzB2roXPbTJzsJGp2CmHNwmw6t87gRbG9qlY8M48nIh+uNN07BPrLzGip4jGbN1mhlohb3Bkb2+aM90wmK8Kb45dT0MWv4732X3BMnUlmpijRv9G9ohXOnx4hm0z2ffQklVx+JtTYxjouTXsZmwafcMj4deKYf47m8z0P1o5TGgQ2TaNY7ptqvLuOjtGjahLBxpAM4923Z5ge536B+Jtz7HT+Bl4RoLSaEETkTQPJf0hYW6cxcEU4KaJV9GEG2qgknupzFa94DQax229dJOzaX8EnXkf8Wj2th1zFL1pHWpqeyMV6bC019FkUYkzj+6OrAeumkaw4m2ps5LAfxfmoMugzP4x48QQjxRnoYqun/eRAxOFK1X3oCbz56hnRE1QbyHbRtaUs74Ft9Q/wyJcml7HxHao17se0efOYl68s2BGAnNGfLR/frgXT/cUZixCx4eOXeKJSLfpvSTGOOxaOmsyJvKjyQFTWcCAreJYeG6doFgeoRS8AfSpLtPwiIM8/KDab86oBqxdC2RupIXOtAbuKiUzzTTC7sKB/VYnWEwOIzTHuwe4hApQWIXiK8Lmhn0T9jtf5arIad/fcksLyw0lkCgjW9hE9QccgfBNM56PZZqCqdQoTj8diPJw4/pCaEi0+CyBKhIzSdM8QSFEL6WRXgUpdFhvdMurbIJCIXdSZik0ncro4z5juAlNftqPZV96i65/LxzOPsvbdmlR943ciLsxi1A8X8xk/H4zuBIJrcwUEtWNY4J9CTrCBVlYSL44JIDLf7wibRENaPW3qLTLX3Q7BAIeCEOwZKiB4OYSDIkQucJVwfv8ygammnqWw1hWG4C8DDjIEXnkQDHWUeHl8uUCQwYmJzVFZOTN8t7glhG6HQDxO7hiMo6o+H26XB3pm6aPYs+OM0Wcg3zqhP7tg32AIk8ePZXWsROa+EdSr2IJ3B41k4X00nhanu4VAElFqYA3RCF2COJeYh+rqtyRqdBcNlaQn604gED2BxyABUK04Zp3Ii+n6KANbDiSRJirwH4Eg+8inNCj0O4Hstj39cy/q2dSg/dTjmBAwhwOH99mSn5dMLz5vZoNFpca4TVrMuk0r+WGYGxP35u4l+ovYZbxZVQwQxx81pXNrT/NlUxUOvVeVS/59SRAsFTHY3lVUen4IHGOY72/6ocxnip6K9ql8vCVSDG7FtYgngAENsxi1IYJ08TlzjQFbuyTczxWEIH8IMYYDAcEBET4yvCSaWIt9nkhiyLcJLPklg/e73WDJ38nGRl7TS0DlIqDLhWC7CYIvjsYYw6t8/CEyBGMvF+idilMpEGgIObyK790aoKpgSa2XevL+kOEMH9qf3q5tcOk7ngWHI813s0TK+c1829VJVGYtXL9cjXe+1ssO3sznXRtTzUaFvVMrhvzuV+gHphQ2D3+bX4JNFyb3DgE/9Ga4R4GXFDwwFQfBpU1iNF7dgGWdREYviMXnsJbxbfVYWGbSZWIE3smixsUp75mUTfMm6bzudoN+bmq+WHWdJHEXZgbqRZ3osLDQ0G5UBPvOZ7F1ejb1rAxUb3Wd2R5J+Hhk49bAgEXVFAbOuc7VNB1XNubg4ixG+ZZ6ajyTwKTtsaSLjibQQ0vX2mLbWkmMmh/DeW8t03vmYGWRTauhEXj4ZuAxM5sG4vhVX4xmzp5E0vI/rhahMvUEj4JK6gkedikQmKVAoECgQKBAoECgQCCkQGCGoFKlSnTu3PmRLC4uLsaU86LWPeylZs2aeb6D2rVr4+np+UiW/fv3GyEoat3DXtq1a6f4DmQp4UAZEygQKBAoECgQCCkQKBAoENxPCPQpARw5E276a9l9l46EC0c5F2v+w5SUgr8Y3eZm9NyLyh2CFH90Ry6QlvtXPn0yhoNHSU3RGLOVylN3AEE20adWM3XEID4YPpJPxo3ns29+Zuup4yz+aSMxUioXN02ko6MVlfquL/LtXvciKfY4i4a1oKoq96WPYlnUQjrb2eFa1DsW71DlB0EqrB+Htpol+vZTuByfI5sb0LZ0wGDfmUDfxAd0AxWvskGgj8Rj7Cs4vTicVedv3DpJ/Y1z/Na/MZVfdueCMZ8ikd+72TwQCGTp/KfTwiYPAvnP1xmx0aTch1or354gEbpYI3WQIZBPXiA83wVD5X8tBFouzGpLFft2zLlcRJKX5izu/b7kmDGbIYs1fWwfGARSxDxcbPNDcP9UvhCI2ultkw8CoWXd/sUQJG/kvZqWVOm1Sua3CEnEH/HE1wzB2j52hSDIItrvMLs8dnLIN8r8mlc9kaf/Mk5+sXXveRLFjaCP9jZNDrHtYKEYn03sxSPs2X2ES+d/KgSBRHrISc5F5qu2rGj8Du/CY+chfKPK/tLbEiFID0F3OpD0bNF1B3ii2X2KVHOePzG+aLfuRB2aZsrzjzyF9s/lpC3fwI0raWh10Ri2rhafV6D2ukamcSMZAtuCECx/Iw+CcHGMbQdQR98sCIQIuYYTO8na4IH6SjK3rAjG5WdIT70h/ruXjEuJaO4gPpYKQdZfg6hhoaLFdDGQMS8rXoUg0AWxrF9z2o9bw75dSxja/HGajtmH/AZfSSu/ILsBKvPr7NFnEbH2fepaN+ebs+ZvyvRj4buuvO2+lp1bf2WEixOVrUwQSCm+rPuiE3VUtvReY0JOF7SMfs3bM27NPnYtGUrzx5syZp/8baWrSAgkNYZ149HWtBLx+1OixvYls+0LZNtZkt1pCuELR5LduiUZ9eyRanUj+Hg8Wr0Ww19D0FvVIXpxACmSaMbw1ehrqcga+CfX0kqCoAPh04ai6dCGLEcbdM+OICjUlNZO9E50AweTOGseqeO6kFPFmfiZniR6LSX71WoYqnQgcqxYbm+B9OJYLkeWfYBZCgQSkfM7Yv2YNZ0X5XtHf7EqCIH+yixetXueb33lRtUT9ENrbJ+ewAljr6EnZPZr2OZCIGR0M9nmQpCJ1+fP4vzhDiM0sowJr/kGhtxYyhs2NmYI9FyZ9Sp2z3+L6euC+KG1LU+XcWKM4nuCZOgq4nfTgVw5m4LWIBrtxzYYVE8RPd+LZHl0H/cbkq0dSZN9THn+IbPQ29Q1QyA+6y5ieMGam6VBYNOUqOW+pJrMDehVTYjYGEKGPh5Dv9YkL/NDnZqGPk0MhLvaYqjdh8sByUiLXDFYNyB60VlSQk6R7RNu7nHKplJ7guRl3bGtoKLdj9cKdk1FqnA4yCDichjq9FA8l37H2K71UdUfzSFjG5YCQfpW+le3pfuyW3OQIUX+UjAcZK2nb6W8noCMCC6HqUkP9WTpd2PpWl9F/dGHzDmQJat4CMSxxTXpO04j0JzYybb+SNatxZ2fm927G0NNa9SfeRItZ/feLQT5xwTB8jGcjMdQp23E4FCfpI++4oa7O+rcMn058TGZSPK+VbsSeD6pDDfq7SoVAt0Fd15SWVBrsIdo0tJUGIJUfP8YhVv/yWw4n0DYLy7Y1isbBPrAmbRS2fDmirzu/HYINvC2fT4IUn35Y5Qb/Sdv4HxCGL+42FLvQUDw1wATBLdSvPdgcBQQjD94/yC4NlccozYxC/xJiV4oehpnri8PpEgrwoOGQHYA/d6jGpbV3mRphPmEC0hPlOdOThvbqiAEmftHUr/GO2wwZpaL0GKGwDiHgdgv7Kf22N7qGXIhaMbX3lqkhKUmq9poTzNQuRDUZfi+oiDIZP/I+sb5C01fF2mGwLP8IQj7UTRgHVMD5odgwEoBgbzgDiHI2IFUwwpNt1lcjRdjDuMOYqvdW0iNTnvwPYEsfcRmhja2w+GVMWzwV+d9kZTOpQ3fM2NbqHnQmMGfvWyxc1srmkQibkkXbO1a4e6TSnb0MX5xc0ZVYwBrfE7hlyxG9hvfwcG2BV+LykwM3s+iMS7UVdVmwMYI1BlxbHivDpaVXuDjraFoxDdE/jWMp1WV6fFbCCmyHytrHW4VbXlrVbo4lziWdBHf3codn9Rsoo/9gpuzihoD1uBzys94diWpeAjEE4a4JsnFncu5EGyXIWjJ1Vt5/iIcCAhSxx7gujxGSN+IVMWajAFLiQjxJ2feR2Q7WqF9fTpXr95Apxd96lviEbH95DwIlnbFYO9KUAEIHImZ788NSZzDZ00wVLAlq/0QYuYtIXXS+2QNW0JYssDQCFCnvH3vUGWCQJaU7MPyL9x4tXFDmrV0oVuf9/hg+ATmHYo2f7GGK3un0r2uJZZObzJ1+wWk+D1MbFOXyg7OtB22iGObR9PI4Ulen3oE42Rgmd7M7dGAqlXq8LzbDDyPTqVtgzYMmLyS0/KUc2pffhvWhgbVHKjX4k1G//AJLk+24O0vf+No0AV2f9cTJ9FwTj2msfNyGvF7JtKmbmUcnNsybNExNo9uhMOTrzP1SOmTyBQNgah8j2/R1rbAUKudGCTv44b3VrJ71sNgUZ0bQ2cT7euDdqYbOVYWaF8cSPieq2ToRCPP7oLOviLahh2IXraRm62fIKPrR8RsO0u6xzdoHcUxa7xK1Ly9JHmvR9uuOgbLOiSOXkCsz2G049uit7Aks8tEIryT0WiCkca6oK2iQrKrQXqPSYQFp6LzE/u61BLn8zgpA77n+iV1mZzI+VVmCB52Fd8TPPxSIDBLgUCBQIFAgUCBQIFASIHADIGDgwMTJkx4JMvYsWONKedFrXvYS6NGjWjevLkJgurVq/Pzzz8/kmXOnDlGCIpa97AX2XNwCwIlHCjhQIFAgUCBQIFAgUCBQIFAgUCBoLwhSAmAM/KM8Gbpk+GIt/EvxOWtUiB4xOc7eCBKhU0TwdESQ6+lpGlEq/uugbbVMVR9h4y4f6n55JGe7+BBSBdGWnuV2XwiIDBkk/F9a6R/s/mk2DeaPiLzHdx/iXrsVch3ICeV/Gt9B0Ilvdv4UZjvgPRQ8IsW/9DB5WNw9HJe7I7xg71HINm8IPI0bN0iyl7MhgrYsRVxgeCf+wbXUtLLwsXYYL84TuGkTlG3ogIRFYipAs0yLr8gvisTRJ2Tr87LonuG4KGe70BSw8YvoY6ViN/fc/N//aHrq0iVrJD6rcCwdiy4dkRqVAXDE/3RyUZZKRvN+gHorepx0yPZmKJuCF5Kdi0VuvGepZhPOhA+/SMM3bsg1bXF0HIaelPeHqICERWIYdlybk7oit6hKfoNYeCzCkSdG6r1JnvKWxiqWGBoNwdN7n5l0L1D8JDPd2DQRZDWQYXUdBDXzscRFniBwAkvIKkacmOtP/FXL3Hh0CTUNnbcmBNmTO0yBM8gxzrXfCIOkuOH7jnr0s0nsu9gjehFQwLwX/4eGhFmY/erMUjx8F47dDsuEHwhiPhrviS1s8FQZwAp6puk//AaknUDYpb5Efl/K7j45x4uXL9v5hOTSu4JHvb5DkwNpu84Fb9rpkkm2PquqPRWBB+6ajKfaHahr2FNymdH7818IoeDk9dM5pPgH9BZi2P8foWM9I0YHn+KtFGTuPnjT0g/iTJ3KjHjZ3AhQITIZWLfql0JOBFCSo4eTZr6/ppPZJUEwcM/34G45n/Sd7AwAHX0Igx2DYhefp7w69e5nq9EJ5WD+URW8RA8CvMd3AUEub4D0YC3+w7uEAKj78ADfXUrND0Wk3brbhBb7dkh+3VN+z5oCB7t+Q7yfAe3ILjlO8hnQzP7DowQpG9AX8Wa9EHrUMcHwyIxoKttRc7rM4iMlMc2opTVd/CrbGDJRD+6IVIFW7Q9vsawbhOiAuELD24kmc0nsu/g7wcCwaM+34EAYNd0cDL5DuJX/Q2XdsLbT5l8ByMXkxMhHhd/eh+DlQU5Lw0h2UcGOxOde3s0lSqhe7YXut07SXu5Lumvf0jMnivodk0VTxyy7+A1ElbIxxSPkJ3ECN+yDknjV6MPOQNfdRTfYUVWtymkyT1h1jniBrxCVmUVhoq1yXlvDrG+lwg7ul48sdQ1+g7UQxeiv4s7pkw9waOgYnsC8eydFH6J08eOccY/gqQMDRlJkQR4e3Hs9EXCEtLQZCYTddkHr2OnuHAtgQx5kgl9GlGXvDlx4jTnAiLEKD4cP28/AsPiSNVkkmw+5ulL4STKx0y8xoVTxzjmHUBkUgY30+K5duEUx7zOEhitRh5/SlkJhF704aSXF8dP/01QTDo6Qw4ZCWFcPC32PXWB0Lg0xXxytyo+HDz8UiAwS4FAgUCBQIFAgeAWBPJ771etWvVIlmXLlhlTzota97CXFi1a5KWcV6lShQ8//PCRLAMHDjRCUNS6h73Uq1dP8R3IUsKBMiZQIFAgUCBQIBBSIFAgUCBQIPgHIFB8B/8+lR8Eiu/gX6ty7QkU38G/U+UbDkQ9Kr4DxXdQYnqZ4jtQfAeK70DxHSi+A8V3oPgOFN9B4ZRzxXeg+A4U34HiO1B8B4rvQPEdlKuK7QkU38Gjo+LDwcMvBQKzFAgUCBQIFAgUCG5BULduXXx9fR/J4u3tbUw5L2rdw15cXV2Nr7s3QmBnZ8fLL7/8SBbjnSAgKGrdw17kyU6effZZJRwo4UAZEygQKBAoECgQCCkQKBAoECgQlAzBP2gJKBc9AAj0pAQc4Ux4XpVlRZ7m2ANMEr0fKhICccImS4CBqu9kECf/Fech1F1AoOXsj/9jZb5GvqXUi2ya2BFHq0r0XZ8leAjn0E/v08RWxfOT/R54dtC9qLiewJCdwfetJew7B+Kb+HD2BXcOQeoOhjjZ8MKUYho18Xe62ZghkKU9yeeNbe47BFLiGU4F3r8jlhQOlnY1UFmBIFcSUb/34UkHO6zqj+JApnlxfmWtoY9tPgh0fkx+wfY+Q5CO15edGLk7Xw7bPaokCJa/kQdBcZYAWXH+sHc3eIcZI0mexIdQsU+0YEiXCMcOwGUxzjBKXIKfpxhzBNw+5ki9Bgd2iXWXTFlkuZLS4bSfafvEy2Kbo3m2B00MeO6FgNzjl0F3BoHuAtO7f8jKVYOobVUNtzUJt8f5rLX0scsPwXmmmCHQZsfge8iTU8E3bgPiNmNKrgqbWcKucXhGd55QOdB58ga27vAhJrf2tHH4H9vL7gPehKXf2QikVAg6hDP9IwPdu0jUtTXQcpr+1jVIKTD7Pfj4Jx2bV2by9jMSLT41ECHOS30eBK9Y2ev5fqWO/r0MvOpswKqujhVeMLYHdGwjUcVaT/+NBlN9iv/bNQXG/KBn+bybdHWWaDpEIiIHzm+ETnUM2Pe6ycr/GejVVcK5koG6/XR4rYUergbaNJKwfiKHjbHG0ytVdwRB5oFPeP1zLzQaL8Y/bUXFDj8TUhjfYiBoPnw6I1o1oG41GyysatJ20kESzFdctDElh0Sf280sNu2+YdOG8bxi/Thdp/8lGvw8cZJEyonZvNf7Y+Zt3snmOQN4rl5Lxm6PKPOIvjQIbJpGseZCLCEB/ix/T4OqcSz71aaB4h4Bx9Mj4vHzD+Z6QhIxBxN41kZHu9nZ6Aw6In7MQmWdxqA10cSFBXJhbzQvWEk07H8D/+irXPILYFJrPXYuMYRpDcSvg3bj1VzwCyHoWjy+36djY5nNgO0aJF0GP3YQjSyfz/kEwgL92TshDStVJv3XphJ99RJ+hyJpbaPHZU5SmbKMyg6BFMef73Vn1mW5WnX4f98SG9WzfO1dKI+8SAisqdNzARfkpEJdBB6jmmNr1YjxXtlIJRpTijazSPK4w7YWQ3eZw0HKHj5q2JgxR3LDgzi/Ga2xc+jG4mtlw6As4eDktVRMlgAd1nWj+f1KBgbRC/StYqDt139z1ZhaLKQ3MKOFuNtfjME70yCqRMK2YiJTZU+B3CriKePdqhKtJvpxNdlkEtk1WI/1yyEcjdWxsZ+Bp7rGMmmmnp9+kkTRMXViKDPWXzVmL6/tLVGxo+l8jIfbqqOq9Q0m3vJBGBhcQ+Llz64gDleqygyBPnA23dyWcC3D1FgZwfPpbG/FE8N3F0wYLSEc3Dqf5D/pXUVFyxmBpJZiTCnKzGIcfOaDIGVdX6radOV3EW9zpQ+dS1uVNS7zIm4PWUWorGMCWdfm6rGpHcPCADU5wdBa3NUvjgnker77YWNfCaunI9gcriFznQE7AcE03wRTzyROe4CDROuJAcQa05VFbzJU3N0CgoMR2SzsZKBB/8ucDy/oMbgenUSmuJh1fQwCgiB8zdnPmr8MOFinMPFWCjwMdRQQjA8gSs5+LkVlhECD14R2tP9gHOPHjzeXsfR/pRqWDr1YKXvwclUWCLKPMvYpG1pMv0hUKcaUonwMBSHQEzz7NdHddmS+7H7JVdYm3qms4iX3shlX7gaCBf6iV8ow0L+6aIQuYQTl+x1hdS+JGt39OR6ecWcQRGXz10A9VrUSWXw173r0UbDjjOnf/wwEyZv4oIs7voVqU3P8M6Mp5bXZgXmxtywQZGzh/epP8NG+rFKNKaVDIA7n8QGOVo4M2p6vT0pdTW/7OgzZWTYPY0kQyI+I9q6i0vND4BjDrzIE4vPpiTexq5TK58dMVyiJHumDxlrGLD9DUJKezDUGbO2ScC8EQcsv8iDYLQZ+MgQHBAQZR27SUCX2cc7m60WwaSUMczPgEZpEmvjCNWJwaeeSD4LtJgi+uOWDgCEyBGMv3y8IdATMcuXNBUV0q7pLTGuhwvKpjzmYW/8Zf9LL1g63tebnRyMENjT69JA5bGgJXvwmzd76HaPFoBRjSpFmlnTxHQK0rkuiSD57nPOJPri/Yk/VDnO4ZHyykEjc9gFN2nyPX3HWt0IqDgKTJcCAZZ0kxq/WY7IEGMTgNotuU9IwmqNy0ln5URJNGmtw+wg++tDAzG1XxWNcBHHi0W96T7G9hYZ249T8HQk7Z8NTVgaqt4pn8SnxuCge6d5/WmzjoGbIkmwR9/Wc+zWOV8QIXyVCTe2XbjJnbzABoclcFI+MPZ3EtrWSGLdKT6R4fJz9thh/WGTTauQNTkWIx9Sf4GlxfIeXEljiY37iKEElQyAGgycWD6NFVVuavjebrefz//SbyeWdM3F7yorHKqhw7v4N606dZffU7tQVlen05lS2X5AbUsO1fbP50LUl7XsNYcxnoxg9dTtX8jVq0caUEsws+nDWDm5KtWqNeWv2KfkFMKLz2Iu7WwtedHmXEZ98xIcfz+FQrOlOKYuK7QnEaDzx2gVOHTuGd0AkSRk3SYs3eQS8zgYSrTb1RgZNMuEBvpw7f5krV68QFBxJivEuFD1BUjiXZF/AGX8ikjLQZCQRGeCN17HTXAxLIE32IURdxsfrGKcuXCMhQ4dByiIh9CI+J73wOn6av4NiSJc7mrv1QZSgMg8MH3aVFA4edikQmKVAoECgQKBAoEBwC4L69euTk5PzSJabN28aU86LWvewlz59+uRBYGVl9cgWGQC5FLXuYS8VKlSgWbNmSjhQwoEyJlAgUCBQIFAgEFIgUCBQIFAg+Acg+O/Md1A+klL88fSUX9VmXvAPqPwg+M/Nd5DFlf2/MaV/W5o1bUqLXhP41eOiaCyJhLPr+brXCzR95hXeGvsju4LyZ4feiSSiFnbGzs6VBZH/HAXl2hP8F+c7yJ30oudKtXmJUKYPk9s8x6CVAfLb/u5NUgax0Sn/RE94S+UbDrL+g/MdeI2joZU9b28wJwFog/lzcBeGbwgrU+rWf0ElQqDMd1AIAk0gKwZ15sPVwcZE0KKUFe3H4V0e7DzkS1SBbkIiNfgMF2L1ZIad5tDZKJOpQkon5OQ5Im/dAhLqoFOcl3MXNVGcO7if02FlSxO7WxUJgTLfQZ5yIei7/CS/uLVn0J/FAaAjaFk/mrcfx5p9u1gytDmPNx3DPlGXUqIPq8Z1wFFVnbfdZ9CncVUsbTsya88avuhUB5Vtb9aIupESvVnxSRuqi+3enfsbIzq34bXn6mBbpTXfnytjrthdqLieQJnvwCwTBDY0atIAlXVD+hfXC+ivMOtVO57/1tcYJvRBP9Da9mkmnDBtLcUtprONLc3FHZGcFYH38cvGSrqx9A1sbEwQGLeL+hVXm4q8NGY3EfKBNIf4xNmG58zHfRAqPhyYGkyZ7yC3J1h6mO9dqmNZAggZEZcJU6cT6rmU78Z2pb6qPqMPmWNUynJ62FbngwKpw6JK1velkrknMKrwdvowfmpvS/1PDhfw5N1PlQiBMt9BoTGB+lSJIKT6/sEot/5M3nCehLBfcLGtlweBuhgINryNfX4ICm8nRfKLiy31Rh/6b0DwMM53UAACWcWBkLmfkfVr8M4G0yhYijRD4PlfhkCMbB/t+Q5Myj44iict7eizJt9QX32Cya0rYyG6+z4LfI1p31LcErrY2tHK3YfU7GiO/eKGs6oGA9b4cMov2dzNO/B+AROBgGCdGxVt32JVrnfBaC6pxkB5UiVZUgTzOtjyxKiD5QyBuF5lvoMsrhxayXe9nbGSJ71wGccC4y+GojOK8GRatzpYyhk5FSrRsOtofth0mM0T21C3sgPObYex6NhmRjdy4MnXp3Io9G82f9sVJ1HRtVy/ZLW3yXGUGbib73rK3gInekzbyeXYADwmd6G2pRUN+81l96UQzqz9CtealqiaDmT+4Xy/t99HFdsTKPMdPDoqPhw8/FIgMEuBQIFAgUCBQIFAgUBIgcAMga2tLU2bNn0kS6NGjYy+g6LWPezF3t4+b74DJycnAgMDH8ly6dIlIwRFrXvYy+uvv54384kSDpRwoECgQKBAoECgQKBAoECgQHD/IJBS8Pf0xN/4h/T/jsodghR/dEcukJb77kN9MoaDR0lN+Zf5DqR4HzbM/ZTuLzflmdc+Zkt0wYbVR51k3Y8jcH3uVfpPXcGBoEykqIV0trPDdUHkXf1t+59S+UGQCuvHoa1mafYd5MC5lWhbOmD49/oOJOK2fUA9Swsed53LhYL5IKL2zjLJ5UO230oRkMiIjSalvK/kHlW+PUEidLHOl1kkbpf5LgUzi8pRZQoH+qBZdHJ+gmqWNjzzyT5jOv0t6QP5we0T9j+obI9yUvlCIKeXFTKfLOv2b4dgNm4fr8Pjk2ewtaxFz9+v5GX93gaBRHrISc7lmQiQ1EGcOh8r1miIOneQ/afDCvkqsoj2O8wuj50c8o26d0fTXahECNJD0J0OJD1bdN0Bnmh2nyI1LccUu2N80W7diTo0zfgGdCJPof1zOWnLN3DjShpaXTSGravF5xWova6V4jswQxAujrHtAOromwWBkFIxnNhJ1gYP1FeS0ebejMblZ0hPvSH+u5eMS4lo7iAWlx2C0fvQaC4x7/UaWFZqwf+85IQyeWUeBFKKL+u+6EQdlS29TSYCvFd8QpvqKqq/O5ffRnSmzWvPUce2Cq2/P2fKTdQFsaxfc9qPW8O+XUsY2vxxmo7ZRz7DW7moSAgkNYZ149HWtBLx+1OixvYls+0LZNtZkt1pCuELR5LduiUZ9eyRanUj+Hg8Wr0Ww19D0Fvl+g5EM4avRl9LVbrvQDafTBuKpkMbshxt0D07gqDQDBNs0TvRDRxM4qx5pI7rQk4VZ+JnepLotZTsV6thqNKByLFiub0F0otjuRx5n30HuRDIN7sUt5MRjW1Q1Xuf9fLdXrgnuLGUN2xsTBDIkqL41dWGii+NYbfJRMChT5yxee5b4wuz9Vdm8ard83xrfHu2nqAfWmP79ATMVoVyU/E9QTJ0FfG76UCunE0xOor4sQ0G1VNEz/cy+Q7ifkOytSNpss+9+Q5k88lyX5Pv4OgY9KomRGwMIUMfj6Ffa5KX+aFOTUOfJgbdXW0x1O7D5YBkpEWuGKwbEL3oLCkhp8j2Cb//voP8EMjSnJ+LqxjdOrSfybn0QhBkradvJXNPYFQKy3vYUv0DD/nl20J6wn5qj239Tzhs3CeDiMthqNND8Vz6HWO71kdVfzS5WerlpeIhENdROOV8W39TyvnxfNnGNa1Rf+Z5/3wHwfIxnIzHUKdtxOBQn6SPvuKGuzvq3DJ9OfEx5eQ7KAyBuL2J2T6Mp61taDz8F74sAMEG3rbPD4G6EAQSkb+4YFsvt6FT8f1jFG79J7NBns6lwLry0x1BUJ7mE9l3EL1Q9DTOXF8eSGpRrfzPQCAri3M/dMDB0pZKDUfeNQSZ+0dSv8Y7mKwKeetyrQrlpfsKQa75RG7A/BAYzSfygjuEIGMHUg0rNN1mcTVejDmMO4itdm8hNdrsO3jQEOguTafrsB3mRswnKZotg5/CxmlEPgjW4VbRlrfyTAT83s2WagO334IgYl4HbJ8YxcFsibglXbC1a4W7TyrZ0cf4xc0ZVY0BrPE5hV/y3VzS3al4CPLMJ5dvM5/EmAa3+cwn1+UxQvpGpCrWZAxYSkSIPznzPiLb0Qrt69O5evUGOv0dmE/m+3NDEufwWRMMFWzJaj+EmHlLSJ30PlnDlhCWLDA0AtQpb987VCkQ6Ik6tYGfBz+HvVM3Ji3dT2Bhh3imNzPe/ZIDMgSZgez+rqfRW+DUYxo7L8cS4DGZLrUtsWrYj7m7LxFyZi1fudbEUtWUgfMPcy1mDxPb1KWygzNthy3i2ObRNHJ4ktenHqEcGSgGAlH5Ht+irW0yn0TO38cN761k96xnMp8MnU20rw/amW7kWFmgfXEg4XuukqETlTS7Czr7imgbdiB62UZutn6CjK4fEbPtLOke36B1lM0nrxI1by9J3uvRtqtuNJ8kjl5ArM9htOPborewJLPLRCK8k8WTWTDSWBe0VVRIdjVI7zGJsOBUdH5iX5daRvNJyoDvuX5JrfgO7lbF9wQPvxQIzFIgUCBQIFAgUCBQIBBSIDBDULlyZd55551Hsri5uRlTzota97AX2WrQvHlzEwSOjo5s3rz5kSzr1683QlDUuoe9tGrVKg8CJRwo4UCBQIFAgUCBQIFAgUCBQIHg3wdBOfsXSoLgH5yPolxUNgj0MRz+eRRv93ITz5Vu9BvyJXPmfc2MLQl39ffrsqi8/QtFQiC++NxKLS0dDNh3DsQ38eHEoAwQpHP08+dp/N6fBBsTAvQkn/2d/o2r0GlhzANsoPL1LxTbE4gLnO9ioPIjDYFmF0NqOfD2hoKJBJmen/HRkgcJQfmqpHCwrNujDkH2UcY+ZYX9i6PZFpovtyj7NPuP5E7iIEsi9doZDuzazZFL8QVS0aTUYM5ciEWfGcbpQ2fz5mSQ0gnzPsDufV74xxXOJ7vdv2CUNg7/Y3vZfcCbsPT7h2BJECx/Iw+C8FNath1QE33zdiDiLuawfWMa/+eXRqb8QstcidMMOa4hUJ1NTqIBzx0ZnLqWafIpiCr13ZvFzpNq0gplCKeG6ti5KR2P42qSb5kM5GozcPx0GupsA4kBOezYreaa2QehiZHYuzWdk6Hm45dBZQgHekKWu+GkqoBF1Wa8Pe0vAnMzx3IlRbNrynDGzFrJmt8m8VbDajQbvomInER8Vo2jg6OK6m+7M6NPY6pa2uL6q4jz6uN8160jI1b7EHDyd95v9gRNW7vSvff/8Lh6tqB/wfQlpJyYzXu9P2be5p1snjOA5+q1ZOz2iPsyYCsVgg7hTBuqoUObLBxtdDw7IojQDFMtSykGZrpl8e6XMaxYmknfJjk0e+caR+M0pPjpGd9Oh1XFJD6dm0rfzhm84KTHsmYCU9aoGdk5i5YvarBXaeg28yrxclqQaO+d32gY/Hk882Zn0KWeDueeoRyO1vD3Oi3tahqo2D6MuWM1dG6biZOdRM1OIaxZmE3n1hm8KLZX1Ypn5vHEMmUZlW1giJaIvdPp07gyFhUqYOPkwtg/z5sNIhLx696j/RfHUGdmkilK9G/dqWjlzKdHxN0txbG4sw22zcfjmZxFhPdxLqdoCfi+JZVedOe80cqkJ3ROG2xqf8iOXPtRYf9Cyh4+atiYMUdyeyMd/jNaY+fQjcXX7h2D0iCwaRrFct9U4911dIweVZMINoaYjCF7hulx7hd460lG52/gFQFKqwlBRN40kPyHhLV1GgNXhJMiWkUfZqCNSuKpPlfxitdgELv91kXCrv0VfOJ1xK/V03rIVfyidaSl6YlcrMfWUkOfRSHGxNU/uhqwbhrJirOm+RfCfhTno8qgz/ww4jUGUeUGutjqaT850OSDKEVlhMAsTTgHfhxMixoqKlhUpbX7KTLE/za+U43G/aYxb968fGUBOwLkNMzCvgNZ2ewf4YT185PxM59k1qZ3qGzTmUXyFDLGBQX9Cynr+lLVpiu/Jxo/GqUPnUtblTUu8yLkm+eeVNZwICt4ll7cCNEsDlDLT7L0qSzR8osAYnINM2KzOa8asHohlL2RGjLXGrCrmMg03wRTryUqon9VidYTA4g1pivD7iEClBYheIpYuaGfRP2O1/lqshp399wi6vFwEpniQtf2ET1BxyB8zYmvmm0GqlqnMPGWDwKG1JRo8VmACL2ldwWlQ6APxdsnrkAl66P3MOaFiiI8uLEmKZZFnSvSdOLp2+Y+MKlwyrlJKXtG0rBya767KI8FtFxwb4Fjl4UE597UBVLX9QTPfg2VdUfmR+U7k6xNvFNZxUvuF+95RpQ7geDaXAFB7RgW+KeQE2yglZXEi2MCiMx914DQJtGQVk+beovMdbdDMMChIAR7hgoIXg7hYEQ2C1wlnN+/TGCRJgNYVxiCvww4yBDcSoGHoY4SL4+/XxBkH+brj5cjxhsFlLKyJ3Y2nVgYncGOwY6o6n/I9nyvWddH7WHHGbmBi4ZAXu751Vu89Yk7P/88ja/d/+Rc/h+GCvkXMjw+wNHKkUHb8w1IUlfT274OQ3YWToG+c90tBJL46oE1RCN0CeJcYh6Kq9+SqNFdNFSSnqw7gUD0BB6DBEC14ph1Ii+m66MMbDmQhGxb+AcgOMToRk/Tf9XlPLewFM/O4Y2o/dZywsV5ZHp9TjMbCyo1dmPS4nVsWvkDw9wmstf48GAKBw7vb5EtF7ek3juKF3r+SmByJtmmaymowv4FjQ/ur9hTtcMcLhkfJCQSt31Akzbf43cffIslQbBUxGB7V1Hp+SFwjGG+/w1jD+kzRU9F+1Q+3hJJhlggiSeAAQ2zGLUhAvkBJnONAVu7JNzPFYQgfwgxhgMBwQERPjK8JJpYi32eSGLItwks+SWD97vdYMnfycZGXtNLQOUioMuFYLsJgi9u+SBEOJAhGHu5QO9UnMoAwRHc3x3EyIG96NHrbd57/116v96BbiOW4H3rzs0mePPndG1cDRuVPU6thvC7n2g8ETDPb/6Wrk6WWNZy5cvV3pg6C4m4LUN4yqaCMZHjMTHYtFRVoppzawb/dl4MLgv7F0x3uj5qL+5uLXjR5V1GfPIRH348h0OxRRF05yoOgkubxGi8ugHLOomMXhCLz2Et49vqsbDMpMvECLyTRY2LU9gzKZvmTdJ53e0G/dzUfLHqOkniLswM1PNtVx0WFhrajYpg3/kstk7Ppp6VgeqtrjPbIwkfj2zcGhhEeE1h4JzrXE3TcWVjDi7OYpRvqafGMwlM2h5LuuhoAj20dK0ttq2VxKj5MZz31jK9Zw5WFtm0GhqBh28GHjOzaSCOX/XFaObsSSQt/+NqEbqzgeF9k4Bgz3S+XXPBOMWcz0kvDh/cy19rf2Jwu2Fsy99llJNK6gkedv0jEEhx63mnwVusSDYvyJU2iEVf/MSFex3l3YUUCMobgngPRjaxp8rTnRg8wZ2Zs2fz/bdjGDzwM1Zd+ge6ASEFgnIPB0JZERxfP5/p/5vIl5O+Z+HmM0QX/uW4HKVA8E9A8C+TAoEZAnmkLr/2/FEsnTp1emSvX77uBg0a8JgkSUYDRrt27R7Z0rZt2yKXP+ylTZs2qNVq/h9EcvYh/SEtOwAAAABJRU5ErkJggg==)"
      ]
    },
    {
      "cell_type": "markdown",
      "metadata": {
        "id": "pQ9ogf2s_WFO"
      },
      "source": [
        "Queremos saber se o professor(a) Drew é homem ou mulher\n",
        "\n",
        "$P(homem|drew) = \\frac{\\frac{1}{3} *\\frac{3}{8}}{3/8} = 0.33 $\n",
        "\n",
        "$P(mulher|drew) = \\frac{\\frac{2}{5} *\\frac{5}{8}}{3/8 } = 0.67$\n",
        "\n",
        "Portanto é mais provável que Drew seja mulher.\n",
        " \n",
        "No entanto, o Naive Bayes tem tipos de modelos distintos;\n",
        "\n",
        "### Modelo Gaussiano\n",
        "\n",
        "O Modelo Gaussiano é referida a dados continuos com distribuição normal. Por exemplo, o dados íris, que contem  largura da sépala, largura da pétala, comprimento da sépala e comprimento da pétala, portanto, não podemos representar em termos de ocorrência. \n",
        "\n",
        "### Modelo Bernoulli \n",
        "\n",
        "O Modelo Bernoulli assume que todos os nossos recursos são binários, de forma que eles assumem apenas dois valores. Significa que 0 pode representar “não ocorre” e 1 como\"  ocorre\".\n",
        "\n",
        "### Modelo Multinomial\n",
        "\n",
        "O Modelo Multinominal pode ser usada pelo número de ocorrência, notamos que quanto mais cifrões ($) houver em um e-mail, maior será a probabilidade de que o e-mail seja spam. Podemos fazer isso para muitos tipos de palavras, digamos (DINHEIRO ou Loteria), mas em vez de rotulá-las como 0 ou 1, contamos quantas vezes cada palavra aparece no e-mail. Isso ajuda o modelo ao fornecer informações não apenas sobre se a palavra estava lá, mas também quantas vezes a palavra apareceu, pois sabemos que isso é um sinal para ajudar nosso classificador\n"
      ]
    },
    {
      "cell_type": "markdown",
      "metadata": {
        "id": "8nS3cdYSEm_l"
      },
      "source": [
        "## Propriedades\n",
        "\n",
        "De um modo geral, apesar do classificador desconsiderar as relações entre atributos, o classificador tem uma boa perfomance.\n",
        "\n",
        "Todas as probabilidades podem ser calculadas em uma única passagem, tornando o processo mais rápido\n",
        "\n",
        "E ainda é robusto a ruídos, tendo pouca influência na classificação, já que a probabilidade será parecida. \n",
        "\n"
      ]
    },
    {
      "cell_type": "markdown",
      "metadata": {
        "id": "j3GYv5VYxMbw"
      },
      "source": [
        "# 4. Dataset\n",
        "\n"
      ]
    },
    {
      "cell_type": "markdown",
      "metadata": {
        "id": "a1IM72bydUKF"
      },
      "source": [
        "Para usar o classificador Naive Bayes precisamos nos utilizar de um dataset decente, tendo nele categorias distintas e bem definidas, e com o intuito de predição do índice IBOVESPA se passearemos no Modelo Bernoulli.  \n",
        "\n",
        "Como atributos usaremos 0 e 1,  para não ocorre ou ocorre ( em relação as atributos), com as classes sobe ou desce, em relação ao índice IBOVESPA.\n",
        "\n",
        "Os atributos em do conjunto de dados serão (em negrito);\n",
        "\n",
        "**Dólar subiu na última hora, (0 = não, 1 = sim)**\n",
        "\n",
        "**Dólar subiu na abertura da bolsa, (0 = não, 1 = sim)**\n",
        "\n",
        "dólar é a moeda forte do mercado, por isso sua variação e parâmetro para tomadas de decisões dos acionistas.\n",
        "\n",
        "**Índice IBOVESPA diminui no último dia de bolsa aberta, (0 = não, 1 = sim)**\n",
        "\n",
        "**Índice IBOVESPA diminui na última hora, (0 = não, 1 = sim)** \n",
        "\n",
        "Apesar de variações passadas não serem garantias futuras o próprio índice é um bom parâmetro para histórica do próprio. \n",
        "\n",
        "**PETR4 caiu na última hora (0 = não, 1 = sim)**\n",
        "\n",
        "**VALE3 caiu na última hora (0 = não, 1 = sim)**\n",
        "\n",
        "**ITUB4 caiu na última hora (0 = não, 1 = sim)**\n",
        "\n",
        "Ambas as ações possuem grande influência na cesta que compoem a cesta do índice.\n",
        "\n",
        "**Juros aumentaram nas últimas 24h (0 = não, 1 = sim)** \n",
        "\n",
        "Os acionistas fazem a balança do risco x ganho \n",
        "\n",
        "\n",
        "**Classe, (0 = IBOVESPA caiu, 1 = IBOVESPA subiu)**\n",
        "\n",
        "\n",
        "\n",
        "\n",
        "\n",
        "\n"
      ]
    },
    {
      "cell_type": "code",
      "metadata": {
        "colab": {
          "base_uri": "https://localhost:8080/",
          "height": 227
        },
        "id": "uY4jRNWTdYUE",
        "outputId": "b563cbe0-37b1-41c4-fc60-fa692d52a883"
      },
      "source": [
        "import pandas as pd\n",
        "import numpy as np\n",
        "# Dataset não verídico, somente para demonstração \n",
        "data  = np.array([[1,1,1,1,1,0,0,0,0],\n",
        "                  [1,0,0,0,1,1,1,1,0],\n",
        "                  [1,1,0,0,1,0,0,1,0],\n",
        "                  [0,1,0,0,0,1,0,0,1],\n",
        "                  [0,0,1,0,0,0,1,0,1],\n",
        "                  [1,0,0,1,0,1,0,0,1]\n",
        "])\n",
        "\n",
        "df = pd.DataFrame(data,columns=['Dólar subiu 1h', 'Dolar subiu abertura da bolsa','IBOVESPA diminuiu 24h ', 'IBOVESPA diminuiu 1h','PETR4 caiu','VALE3 caiu','ITUB4','Juros subiu 24h','classe'])\n",
        "\n",
        "df"
      ],
      "execution_count": null,
      "outputs": [
        {
          "output_type": "execute_result",
          "data": {
            "text/html": [
              "<div>\n",
              "<style scoped>\n",
              "    .dataframe tbody tr th:only-of-type {\n",
              "        vertical-align: middle;\n",
              "    }\n",
              "\n",
              "    .dataframe tbody tr th {\n",
              "        vertical-align: top;\n",
              "    }\n",
              "\n",
              "    .dataframe thead th {\n",
              "        text-align: right;\n",
              "    }\n",
              "</style>\n",
              "<table border=\"1\" class=\"dataframe\">\n",
              "  <thead>\n",
              "    <tr style=\"text-align: right;\">\n",
              "      <th></th>\n",
              "      <th>Dólar subiu 1h</th>\n",
              "      <th>Dolar subiu abertura da bolsa</th>\n",
              "      <th>IBOVESPA diminuiu 24h</th>\n",
              "      <th>IBOVESPA diminuiu 1h</th>\n",
              "      <th>PETR4 caiu</th>\n",
              "      <th>VALE3 caiu</th>\n",
              "      <th>ITUB4</th>\n",
              "      <th>Juros subiu 24h</th>\n",
              "      <th>classe</th>\n",
              "    </tr>\n",
              "  </thead>\n",
              "  <tbody>\n",
              "    <tr>\n",
              "      <th>0</th>\n",
              "      <td>1</td>\n",
              "      <td>1</td>\n",
              "      <td>1</td>\n",
              "      <td>1</td>\n",
              "      <td>1</td>\n",
              "      <td>0</td>\n",
              "      <td>0</td>\n",
              "      <td>0</td>\n",
              "      <td>0</td>\n",
              "    </tr>\n",
              "    <tr>\n",
              "      <th>1</th>\n",
              "      <td>1</td>\n",
              "      <td>0</td>\n",
              "      <td>0</td>\n",
              "      <td>0</td>\n",
              "      <td>1</td>\n",
              "      <td>1</td>\n",
              "      <td>1</td>\n",
              "      <td>1</td>\n",
              "      <td>0</td>\n",
              "    </tr>\n",
              "    <tr>\n",
              "      <th>2</th>\n",
              "      <td>1</td>\n",
              "      <td>1</td>\n",
              "      <td>0</td>\n",
              "      <td>0</td>\n",
              "      <td>1</td>\n",
              "      <td>0</td>\n",
              "      <td>0</td>\n",
              "      <td>1</td>\n",
              "      <td>0</td>\n",
              "    </tr>\n",
              "    <tr>\n",
              "      <th>3</th>\n",
              "      <td>0</td>\n",
              "      <td>1</td>\n",
              "      <td>0</td>\n",
              "      <td>0</td>\n",
              "      <td>0</td>\n",
              "      <td>1</td>\n",
              "      <td>0</td>\n",
              "      <td>0</td>\n",
              "      <td>1</td>\n",
              "    </tr>\n",
              "    <tr>\n",
              "      <th>4</th>\n",
              "      <td>0</td>\n",
              "      <td>0</td>\n",
              "      <td>1</td>\n",
              "      <td>0</td>\n",
              "      <td>0</td>\n",
              "      <td>0</td>\n",
              "      <td>1</td>\n",
              "      <td>0</td>\n",
              "      <td>1</td>\n",
              "    </tr>\n",
              "    <tr>\n",
              "      <th>5</th>\n",
              "      <td>1</td>\n",
              "      <td>0</td>\n",
              "      <td>0</td>\n",
              "      <td>1</td>\n",
              "      <td>0</td>\n",
              "      <td>1</td>\n",
              "      <td>0</td>\n",
              "      <td>0</td>\n",
              "      <td>1</td>\n",
              "    </tr>\n",
              "  </tbody>\n",
              "</table>\n",
              "</div>"
            ],
            "text/plain": [
              "   Dólar subiu 1h  Dolar subiu abertura da bolsa  ...  Juros subiu 24h  classe\n",
              "0               1                              1  ...                0       0\n",
              "1               1                              0  ...                1       0\n",
              "2               1                              1  ...                1       0\n",
              "3               0                              1  ...                0       1\n",
              "4               0                              0  ...                0       1\n",
              "5               1                              0  ...                0       1\n",
              "\n",
              "[6 rows x 9 columns]"
            ]
          },
          "metadata": {
            "tags": []
          },
          "execution_count": 27
        }
      ]
    },
    {
      "cell_type": "markdown",
      "metadata": {
        "id": "OYTBAz7-qQTz"
      },
      "source": [
        "# 5. Ferramentas"
      ]
    },
    {
      "cell_type": "markdown",
      "metadata": {
        "id": "fXy-_64YqUiI"
      },
      "source": [
        "\n",
        "\n",
        "```\n",
        "# Isto está formatado como código\n",
        "```\n",
        "\n",
        "A ferramenta a ser utilizada é o BernoulliNB, que implementa o modelo de Naive Bayes, Bernoulli.\n",
        "\n",
        "O código abaixo exemplifica como o modelo funciona em python\n"
      ]
    },
    {
      "cell_type": "code",
      "metadata": {
        "colab": {
          "base_uri": "https://localhost:8080/"
        },
        "id": "i9q6jKmSomOW",
        "outputId": "ed1e8774-2398-4785-cb86-bbfbc64beb6f"
      },
      "source": [
        "from sklearn.naive_bayes import BernoulliNB\n",
        "\n",
        "\n",
        "x = df.drop(columns=['classe']) # features\n",
        "y = df['classe'] # classes caiu ou subiu \n",
        "\n",
        "modelo = BernoulliNB()\n",
        "\n",
        "modelo.fit(x, y)\n",
        "\n",
        "predicted= modelo.predict([[1,0,1,0,1,0,1,1],[0,0,1,1,0,0,0,1]])\n",
        "predicted"
      ],
      "execution_count": null,
      "outputs": [
        {
          "output_type": "execute_result",
          "data": {
            "text/plain": [
              "array([0, 1])"
            ]
          },
          "metadata": {
            "tags": []
          },
          "execution_count": 29
        }
      ]
    },
    {
      "cell_type": "markdown",
      "metadata": {
        "id": "GYPba8A5vYSm"
      },
      "source": [
        "#Referência\n",
        "\n",
        "[1] https://blog.nelogica.com.br/mini-indice-e-indice-futuro-tudo-o-que-voce-precisa-saber/#:~:text=A%C3%A7%C3%B5es%20como%20PETR4%2C%20VALE3%2C%20ITUB4,usam%20o%20Ibovespa%20como%20benchmark.\n",
        "\n",
        "\n",
        "[2] https://scikit-learn.org/stable/modules/naive_bayes.html#bernoulli-naive-bayes\n",
        "\n",
        "[3] https://youtu.be/Bk2mSIMw_XE\n",
        "\n"
      ]
    }
  ]
}